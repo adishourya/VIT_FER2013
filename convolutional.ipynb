{
 "cells": [
  {
   "cell_type": "code",
   "execution_count": 1,
   "outputs": [],
   "source": [
    "# # we will follow the pytorch documentation at : https://pytorch.org/tutorials/beginner/blitz/cifar10_tutorial.html\n",
    "# and we might use some of the classes from our implementation of a vision transformer"
   ],
   "metadata": {
    "collapsed": false,
    "ExecuteTime": {
     "end_time": "2024-05-24T19:08:25.684365Z",
     "start_time": "2024-05-24T19:08:25.677671Z"
    }
   },
   "id": "eb1ab913ecc86f59"
  },
  {
   "cell_type": "code",
   "execution_count": 20,
   "id": "initial_id",
   "metadata": {
    "collapsed": true,
    "ExecuteTime": {
     "end_time": "2024-05-24T19:13:19.546229Z",
     "start_time": "2024-05-24T19:13:19.535066Z"
    }
   },
   "outputs": [],
   "source": [
    "import numpy as np , pandas as pd\n",
    "import torch\n",
    "import torch.nn as nn\n",
    "\n",
    "import torchvision.transforms as transforms\n",
    "import torch.utils as utils\n",
    "\n",
    "import matplotlib.pyplot as plt\n",
    "from tqdm import tqdm"
   ]
  },
  {
   "cell_type": "code",
   "execution_count": 7,
   "outputs": [
    {
     "data": {
      "text/plain": "   emotion                                             pixels     Usage\n0        0  70 80 82 72 58 58 60 63 54 58 60 48 89 115 121...  Training\n1        0  151 150 147 155 148 133 111 140 170 174 182 15...  Training",
      "text/html": "<div>\n<style scoped>\n    .dataframe tbody tr th:only-of-type {\n        vertical-align: middle;\n    }\n\n    .dataframe tbody tr th {\n        vertical-align: top;\n    }\n\n    .dataframe thead th {\n        text-align: right;\n    }\n</style>\n<table border=\"1\" class=\"dataframe\">\n  <thead>\n    <tr style=\"text-align: right;\">\n      <th></th>\n      <th>emotion</th>\n      <th>pixels</th>\n      <th>Usage</th>\n    </tr>\n  </thead>\n  <tbody>\n    <tr>\n      <th>0</th>\n      <td>0</td>\n      <td>70 80 82 72 58 58 60 63 54 58 60 48 89 115 121...</td>\n      <td>Training</td>\n    </tr>\n    <tr>\n      <th>1</th>\n      <td>0</td>\n      <td>151 150 147 155 148 133 111 140 170 174 182 15...</td>\n      <td>Training</td>\n    </tr>\n  </tbody>\n</table>\n</div>"
     },
     "execution_count": 7,
     "metadata": {},
     "output_type": "execute_result"
    }
   ],
   "source": [
    "fer = pd.read_csv(\"../archive/fer2013/fer2013/fer2013.csv\")\n",
    "fer[:2] # show first 2 examples"
   ],
   "metadata": {
    "collapsed": false,
    "ExecuteTime": {
     "end_time": "2024-05-24T19:09:30.818107Z",
     "start_time": "2024-05-24T19:09:28.412411Z"
    }
   },
   "id": "e1e5c42c09fe69c2"
  },
  {
   "cell_type": "code",
   "execution_count": 8,
   "outputs": [
    {
     "data": {
      "text/plain": "((28709, 3), (3589, 3), (3589, 3))"
     },
     "execution_count": 8,
     "metadata": {},
     "output_type": "execute_result"
    }
   ],
   "source": [
    "fer_train = fer[fer.Usage == \"Training\"]\n",
    "fer_valid = fer[fer.Usage == \"PublicTest\"]\n",
    "fer_test = fer[fer.Usage == \"PrivateTest\"]\n",
    "\n",
    "fer_train.shape ,fer_valid.shape, fer_test.shape"
   ],
   "metadata": {
    "collapsed": false,
    "ExecuteTime": {
     "end_time": "2024-05-24T19:09:30.829387Z",
     "start_time": "2024-05-24T19:09:30.820362Z"
    }
   },
   "id": "1d9b5c685c811af2"
  },
  {
   "cell_type": "code",
   "execution_count": 9,
   "outputs": [],
   "source": [
    "# from vit: without the patches\n",
    "class FerDataset(utils.data.Dataset):\n",
    "    \"\"\"\n",
    "    Keep the validation\n",
    "    and test set seperate for now.\n",
    "    Dont plan to use early stopping.\n",
    "    just to make sure we are not leaking into validation Dataset\n",
    "    \"\"\"\n",
    "\n",
    "    def __init__(self,df,label = None, transformations = None):\n",
    "        super().__init__()\n",
    "        if label not in (\"train\", \"test\", \"valid\"):\n",
    "            raise ValueError(\"Please give al label to this dataset class train , valid , test\")\n",
    "\n",
    "        # handy stuff that i often call\n",
    "        self.label = label\n",
    "\n",
    "        self.data = df[df.columns[:-1]] # the last column is just usage\n",
    "        self.columns = self.data.columns\n",
    "        self.shape = self.data.shape\n",
    "        self.transforms = transformations\n",
    "\n",
    "        if self.transforms is None:\n",
    "            self.transforms = transforms.Compose([\n",
    "                transforms.ToTensor(),\n",
    "                transforms.Resize((32,32), antialias=True)]) # limit number of patches (4) calculation.. keep this a multiple of 16*16\n",
    "\n",
    "    # mandatory method to calculate random indexes when you turn on shuffle in dataloader\n",
    "    def __len__(self):\n",
    "        return self.shape[0]\n",
    "\n",
    "\n",
    "    def __getitem__(self, idx):\n",
    "        # convert to string type\n",
    "\n",
    "        self.data = self.data.astype({\"emotion\": int, \"pixels\": str})\n",
    "\n",
    "        features = self.data.iloc[idx]['pixels']\n",
    "        features = np.array(features.split(\" \"),dtype=np.uint8) # its a flatten of 48 * 48 * 1 image\n",
    "        # image = features.view(48,48) -> numpy view is like astype with view not like torch.view\n",
    "        image = features.reshape(48,48)\n",
    "        if self.transforms:\n",
    "            image = self.transforms(image)\n",
    "\n",
    "\n",
    "        label = self.data.iloc[idx]['emotion']\n",
    "\n",
    "\n",
    "        return image, label # dont use capital Tensor it will convert it into float\n",
    "\n",
    "    @staticmethod\n",
    "    def imshow(img):\n",
    "        plt.figure(figsize=(5,5))\n",
    "        img = torch.einsum(\"bhw -> hw\",img) # squeeze out the batch dimension\n",
    "        plt.imshow(img, cmap=\"gray\")\n",
    "        plt.axis(\"off\")\n",
    "\n",
    "        plt.show()\n"
   ],
   "metadata": {
    "collapsed": false,
    "ExecuteTime": {
     "end_time": "2024-05-24T19:09:32.446121Z",
     "start_time": "2024-05-24T19:09:32.423812Z"
    }
   },
   "id": "f9f9afb89323e1e7"
  },
  {
   "cell_type": "code",
   "execution_count": 10,
   "outputs": [],
   "source": [
    "fer = FerDataset(fer_train, \"train\")\n",
    "img,lab = fer[0]"
   ],
   "metadata": {
    "collapsed": false,
    "ExecuteTime": {
     "end_time": "2024-05-24T19:09:33.389645Z",
     "start_time": "2024-05-24T19:09:33.351514Z"
    }
   },
   "id": "d88f0ec4f08836fe"
  },
  {
   "cell_type": "code",
   "execution_count": 11,
   "outputs": [
    {
     "data": {
      "text/plain": "<Figure size 500x500 with 1 Axes>",
      "image/png": "[encoded data removed]"
     },
     "metadata": {},
     "output_type": "display_data"
    }
   ],
   "source": [
    "fer.imshow(img)"
   ],
   "metadata": {
    "collapsed": false,
    "ExecuteTime": {
     "end_time": "2024-05-24T19:09:34.245990Z",
     "start_time": "2024-05-24T19:09:34.160752Z"
    }
   },
   "id": "146a2a32fafbaf28"
  },
  {
   "cell_type": "code",
   "execution_count": 15,
   "outputs": [],
   "source": [
    "train_data = FerDataset(fer_train,\"train\")\n",
    "train_loader = utils.data.DataLoader(train_data, shuffle=True, batch_size=32)\n",
    "\n",
    "valid_data = FerDataset(fer_valid,\"valid\")\n",
    "valid_loader = utils.data.DataLoader(valid_data, shuffle=True, batch_size=32)\n",
    "\n",
    "test_data = FerDataset(fer_test,\"test\")\n",
    "test_loader = utils.data.DataLoader(test_data, shuffle=True, batch_size=32)"
   ],
   "metadata": {
    "collapsed": false,
    "ExecuteTime": {
     "end_time": "2024-05-24T19:11:29.582377Z",
     "start_time": "2024-05-24T19:11:29.456527Z"
    }
   },
   "id": "cc8f40666bc03528"
  },
  {
   "cell_type": "code",
   "execution_count": 16,
   "outputs": [
    {
     "name": "stdout",
     "output_type": "stream",
     "text": [
      "torch.Size([32, 1, 32, 32]) tensor([6, 3, 4, 3, 2, 3, 3, 6, 6, 0, 3, 4, 4, 0, 4, 6, 3, 0, 5, 0, 0, 4, 0, 4,\n",
      "        2, 3, 2, 6, 4, 4, 3, 4])\n"
     ]
    }
   ],
   "source": [
    "for data in train_loader:\n",
    "    img, label = data\n",
    "    print(img.shape, label)\n",
    "    break"
   ],
   "metadata": {
    "collapsed": false,
    "ExecuteTime": {
     "end_time": "2024-05-24T19:11:30.495047Z",
     "start_time": "2024-05-24T19:11:30.419803Z"
    }
   },
   "id": "7254964b4ebaa89d"
  },
  {
   "cell_type": "code",
   "execution_count": 17,
   "outputs": [],
   "source": [
    "# define a small convolutional network\n",
    "# see beautiful mnist in tinygrad .\n",
    "import torch.nn as nn\n",
    "import torch.nn.functional as F\n",
    "\n",
    "# shape after operations n,n ->(with padding p and stride s) (n + 2p - f + 1 )/s + 1\n",
    "\n",
    "class Net(nn.Module):\n",
    "    def __init__(self):\n",
    "        super().__init__()\n",
    "        self.conv1 = nn.Conv2d(1, 6, 5) \n",
    "        self.pool = nn.MaxPool2d(2, 2) # this is not a learnable operaation just performs downsampling\n",
    "        self.conv2 = nn.Conv2d(6, 16, 5)\n",
    "        self.fc1 = nn.Linear(16 * 5 * 5, 120)\n",
    "        self.fc2 = nn.Linear(120, 84)\n",
    "        self.fc3 = nn.Linear(84, 7) # we have 7 classes \n",
    "\n",
    "    def forward(self, x):\n",
    "        x = self.pool(F.relu(self.conv1(x)))\n",
    "        x = self.pool(F.relu(self.conv2(x)))\n",
    "        x = torch.flatten(x, 1) # flatten all dimensions except batch\n",
    "        x = F.relu(self.fc1(x))\n",
    "        x = F.relu(self.fc2(x))\n",
    "        logits = self.fc3(x)\n",
    "        return logits\n",
    "\n",
    "\n",
    "net = Net()"
   ],
   "metadata": {
    "collapsed": false,
    "ExecuteTime": {
     "end_time": "2024-05-24T19:11:39.297059Z",
     "start_time": "2024-05-24T19:11:39.287703Z"
    }
   },
   "id": "8625a266cff6ec6a"
  },
  {
   "cell_type": "code",
   "execution_count": 18,
   "outputs": [],
   "source": [
    "# specify loss function\n",
    "criterion = nn.CrossEntropyLoss()\n",
    "\n",
    "# define optimizer\n",
    "# only train the parameters with requires_grad set to True\n",
    "optimizer = torch.optim.Adam(filter(lambda p: p.requires_grad, net.parameters()), lr=0.0001)\n"
   ],
   "metadata": {
    "collapsed": false,
    "ExecuteTime": {
     "end_time": "2024-05-24T19:12:50.337905Z",
     "start_time": "2024-05-24T19:12:49.813099Z"
    }
   },
   "id": "2afdb68d0304e5f8"
  },
  {
   "cell_type": "code",
   "execution_count": 19,
   "outputs": [
    {
     "data": {
      "text/plain": "False"
     },
     "execution_count": 19,
     "metadata": {},
     "output_type": "execute_result"
    }
   ],
   "source": [
    "# Check for a GPU\n",
    "train_on_gpu = torch.cuda.is_available()\n",
    "train_on_gpu"
   ],
   "metadata": {
    "collapsed": false,
    "ExecuteTime": {
     "end_time": "2024-05-24T19:12:59.353046Z",
     "start_time": "2024-05-24T19:12:59.331267Z"
    }
   },
   "id": "d5b61f1f733d4832"
  },
  {
   "cell_type": "code",
   "execution_count": 21,
   "outputs": [
    {
     "name": "stderr",
     "output_type": "stream",
     "text": [
      "898it [00:43, 20.71it/s]\n"
     ]
    },
    {
     "name": "stdout",
     "output_type": "stream",
     "text": [
      "Epoch: 1 \t Training Loss: 1.805963 \t Validation Loss: 1.772507\n"
     ]
    },
    {
     "name": "stderr",
     "output_type": "stream",
     "text": [
      "898it [00:41, 21.40it/s]\n"
     ]
    },
    {
     "name": "stdout",
     "output_type": "stream",
     "text": [
      "Epoch: 2 \t Training Loss: 1.746161 \t Validation Loss: 1.706885\n"
     ]
    },
    {
     "name": "stderr",
     "output_type": "stream",
     "text": [
      "898it [00:42, 21.27it/s]\n"
     ]
    },
    {
     "name": "stdout",
     "output_type": "stream",
     "text": [
      "Epoch: 3 \t Training Loss: 1.694734 \t Validation Loss: 1.666789\n"
     ]
    },
    {
     "name": "stderr",
     "output_type": "stream",
     "text": [
      "898it [00:43, 20.78it/s]\n"
     ]
    },
    {
     "name": "stdout",
     "output_type": "stream",
     "text": [
      "Epoch: 4 \t Training Loss: 1.664939 \t Validation Loss: 1.649109\n"
     ]
    },
    {
     "name": "stderr",
     "output_type": "stream",
     "text": [
      "898it [00:42, 21.13it/s]\n"
     ]
    },
    {
     "name": "stdout",
     "output_type": "stream",
     "text": [
      "Epoch: 5 \t Training Loss: 1.645597 \t Validation Loss: 1.632843\n"
     ]
    },
    {
     "name": "stderr",
     "output_type": "stream",
     "text": [
      "898it [00:42, 21.03it/s]\n"
     ]
    },
    {
     "name": "stdout",
     "output_type": "stream",
     "text": [
      "Epoch: 6 \t Training Loss: 1.628108 \t Validation Loss: 1.614531\n"
     ]
    },
    {
     "name": "stderr",
     "output_type": "stream",
     "text": [
      "898it [00:42, 21.02it/s]\n"
     ]
    },
    {
     "name": "stdout",
     "output_type": "stream",
     "text": [
      "Epoch: 7 \t Training Loss: 1.611470 \t Validation Loss: 1.600102\n"
     ]
    },
    {
     "name": "stderr",
     "output_type": "stream",
     "text": [
      "898it [00:44, 20.01it/s]\n"
     ]
    },
    {
     "name": "stdout",
     "output_type": "stream",
     "text": [
      "Epoch: 8 \t Training Loss: 1.594062 \t Validation Loss: 1.585548\n"
     ]
    },
    {
     "name": "stderr",
     "output_type": "stream",
     "text": [
      "898it [00:41, 21.59it/s]\n"
     ]
    },
    {
     "name": "stdout",
     "output_type": "stream",
     "text": [
      "Epoch: 9 \t Training Loss: 1.577224 \t Validation Loss: 1.573340\n"
     ]
    },
    {
     "name": "stderr",
     "output_type": "stream",
     "text": [
      "898it [00:42, 21.14it/s]\n"
     ]
    },
    {
     "name": "stdout",
     "output_type": "stream",
     "text": [
      "Epoch: 10 \t Training Loss: 1.559891 \t Validation Loss: 1.551194\n"
     ]
    }
   ],
   "source": [
    "# Train model\n",
    "\n",
    "# number of epochs ... this needs to be way higher .\n",
    "# mostly transformer based model are done for really high epochs\n",
    "n_epoch = 10\n",
    "\n",
    "train_loss_list, valid_loss_list = [], []\n",
    "\n",
    "# move model to GPU\n",
    "if train_on_gpu:\n",
    "    net.to('cuda')\n",
    "\n",
    "# prepare model for training\n",
    "net.train()\n",
    "\n",
    "for e in range(n_epoch):\n",
    "    train_loss = 0.0\n",
    "    valid_loss = 0.0\n",
    "\n",
    "    # get batch data\n",
    "    for i, (images, targets) in tqdm( enumerate(train_loader)):\n",
    "\n",
    "        # move to gpu if available\n",
    "        if train_on_gpu:\n",
    "            images, targets = images.to('cuda'), targets.to('cuda')\n",
    "\n",
    "        # clear grad\n",
    "        optimizer.zero_grad()\n",
    "\n",
    "        # feedforward data\n",
    "        outputs = net(images)\n",
    "\n",
    "        # calculate loss\n",
    "        loss = criterion(outputs, targets)\n",
    "\n",
    "        # backward pass, calculate gradients\n",
    "        loss.backward()\n",
    "\n",
    "        # update weights\n",
    "        optimizer.step()\n",
    "\n",
    "        # track loss\n",
    "        train_loss += loss.item()\n",
    "\n",
    "    # set model to evaluation mode\n",
    "    net.eval()\n",
    "\n",
    "    # validate model\n",
    "    for images, targets in valid_loader:\n",
    "\n",
    "        # move to gpu if available\n",
    "        if train_on_gpu:\n",
    "            images = images.to('cuda')\n",
    "            targets = targets.to('cuda')\n",
    "\n",
    "        # turn off gradients\n",
    "        with torch.no_grad():\n",
    "\n",
    "            outputs = net(images)\n",
    "            loss = criterion(outputs, targets)\n",
    "            valid_loss += loss.item()\n",
    "\n",
    "    # set model back to training mode\n",
    "    net.train()\n",
    "\n",
    "    # get average loss values\n",
    "    train_loss = train_loss / len(train_loader)\n",
    "    valid_loss = valid_loss / len(valid_loader)\n",
    "\n",
    "    train_loss_list.append(train_loss)\n",
    "    valid_loss_list.append(valid_loss)\n",
    "\n",
    "    # output training statistics for epoch\n",
    "    print('Epoch: {} \\t Training Loss: {:.6f} \\t Validation Loss: {:.6f}'\n",
    "          .format( (e+1), train_loss, valid_loss))\n",
    "\n"
   ],
   "metadata": {
    "collapsed": false,
    "ExecuteTime": {
     "end_time": "2024-05-24T19:22:06.954396Z",
     "start_time": "2024-05-24T19:14:38.265078Z"
    }
   },
   "id": "de5bbdadd3beb8f8"
  },
  {
   "cell_type": "code",
   "execution_count": 22,
   "outputs": [],
   "source": [
    "torch.save(net.state_dict(), \"./conv_weights.pth\")"
   ],
   "metadata": {
    "collapsed": false,
    "ExecuteTime": {
     "end_time": "2024-05-24T19:23:33.303268Z",
     "start_time": "2024-05-24T19:23:33.284018Z"
    }
   },
   "id": "ca207f35aa9e909"
  },
  {
   "cell_type": "code",
   "execution_count": 23,
   "outputs": [
    {
     "data": {
      "text/plain": "<Figure size 640x480 with 1 Axes>",
      "image/png": "[encoded data removed]"
     },
     "metadata": {},
     "output_type": "display_data"
    }
   ],
   "source": [
    "# visualize loss statistics\n",
    "\n",
    "plt.title(\"Training and Validation Loss\")\n",
    "plt.xlabel(\"Epoch\")\n",
    "plt.ylabel(\"Loss\")\n",
    "\n",
    "# plot losses\n",
    "x = list(range(1, n_epoch + 1))\n",
    "plt.plot(x, train_loss_list, color =\"blue\", label='Train')\n",
    "plt.plot(x, valid_loss_list, color=\"orange\", label='Validation')\n",
    "plt.legend(loc=\"upper right\")\n",
    "plt.xticks(x)\n",
    "\n",
    "plt.show()"
   ],
   "metadata": {
    "collapsed": false,
    "ExecuteTime": {
     "end_time": "2024-05-24T19:23:43.892825Z",
     "start_time": "2024-05-24T19:23:43.765573Z"
    }
   },
   "id": "31e3bd250c72f543"
  },
  {
   "cell_type": "code",
   "execution_count": 25,
   "outputs": [
    {
     "name": "stderr",
     "output_type": "stream",
     "text": [
      "100%|██████████| 113/113 [00:02<00:00, 53.20it/s]"
     ]
    },
    {
     "name": "stdout",
     "output_type": "stream",
     "text": [
      "Test Loss: 1.556882\n"
     ]
    },
    {
     "name": "stderr",
     "output_type": "stream",
     "text": [
      "\n"
     ]
    }
   ],
   "source": [
    "# test loss (showed no overfitting)\n",
    "import torch.nn.functional as F\n",
    "# prepare model for evaluation\n",
    "net.eval()\n",
    "\n",
    "test_loss = 0.0\n",
    "accuracy = 0\n",
    "\n",
    "# number of classes\n",
    "n_class = 7\n",
    "\n",
    "class_correct = np.zeros(n_class)\n",
    "class_total = np.zeros(n_class)\n",
    "\n",
    "# move model back to cpu\n",
    "net = net.to('cpu')\n",
    "\n",
    "# test model\n",
    "for images, targets in tqdm(test_loader):\n",
    "\n",
    "    # get outputs\n",
    "    outputs = net(images)\n",
    "\n",
    "    # calculate loss\n",
    "    loss = criterion(outputs, targets)\n",
    "\n",
    "    # track loss\n",
    "    test_loss += loss.item()\n",
    "\n",
    "    # get predictions from probabilities\n",
    "    preds = torch.argmax(F.softmax(outputs, dim=1), dim=1)\n",
    "\n",
    "    # get correct predictions\n",
    "    correct_preds = (preds == targets).type(torch.FloatTensor)\n",
    "\n",
    "    # calculate and accumulate accuracy\n",
    "    accuracy += torch.mean(correct_preds).item() * 100\n",
    "\n",
    "    # calculate test accuracy for each class\n",
    "    for c in range(n_class):\n",
    "\n",
    "        targets = targets.to('cpu')\n",
    "\n",
    "        class_total[c] += (targets == c).sum()\n",
    "        class_correct[c] += ((correct_preds) * (targets == c)).sum()\n",
    "\n",
    "# get average accuracy\n",
    "accuracy = accuracy / len(test_loader)\n",
    "\n",
    "# get average loss\n",
    "test_loss = test_loss / len(test_loader)\n",
    "\n",
    "# output test loss statistics\n",
    "print('Test Loss: {:.6f}'.format(test_loss))\n"
   ],
   "metadata": {
    "collapsed": false,
    "ExecuteTime": {
     "end_time": "2024-05-24T19:24:47.810521Z",
     "start_time": "2024-05-24T19:24:45.680567Z"
    }
   },
   "id": "3c00904d69d44a28"
  },
  {
   "cell_type": "code",
   "execution_count": 26,
   "outputs": [],
   "source": [
    "classes =  [\"Angry\",\"Disgust\", \"Fear\", \"Happy\", \"Sad\", \"Surprise\", \"Neutral\"]"
   ],
   "metadata": {
    "collapsed": false,
    "ExecuteTime": {
     "end_time": "2024-05-24T19:24:56.768741Z",
     "start_time": "2024-05-24T19:24:56.741844Z"
    }
   },
   "id": "2355fd057d9da833"
  },
  {
   "cell_type": "code",
   "execution_count": 27,
   "outputs": [
    {
     "name": "stdout",
     "output_type": "stream",
     "text": [
      "Test Accuracy of Classes\n",
      "\n",
      "Angry\t: 10% \t (54/491)\n",
      "Disgust\t: 0% \t (0/55)\n",
      "Fear\t: 7% \t (41/528)\n",
      "Happy\t: 80% \t (710/879)\n",
      "Sad\t: 32% \t (191/594)\n",
      "Surprise\t: 47% \t (197/416)\n",
      "Neutral\t: 33% \t (208/626)\n",
      "\n",
      "Test Accuracy of Dataset: \t 39% \t (1401/3589)\n"
     ]
    }
   ],
   "source": [
    "class_accuracy = class_correct / class_total\n",
    "\n",
    "print('Test Accuracy of Classes')\n",
    "print()\n",
    "\n",
    "for c in range(n_class):\n",
    "    print('{}\\t: {}% \\t ({}/{})'.format(classes[c],\n",
    "                                        int(class_accuracy[c] * 100), int(class_correct[c]), int(class_total[c])) )\n",
    "\n",
    "print()\n",
    "print('Test Accuracy of Dataset: \\t {}% \\t ({}/{})'.format(int(accuracy),\n",
    "                                                           int(np.sum(class_correct)), int(np.sum(class_total)) ))"
   ],
   "metadata": {
    "collapsed": false,
    "ExecuteTime": {
     "end_time": "2024-05-24T19:25:05.394186Z",
     "start_time": "2024-05-24T19:25:05.363296Z"
    }
   },
   "id": "e9522181bcfaa2c8"
  },
  {
   "cell_type": "code",
   "execution_count": null,
   "outputs": [],
   "source": [
    "# walkthrough of a forwardpass on a single image\n",
    "\n",
    "# def __init__(self):\n",
    "#     super().__init__()\n",
    "#     self.conv1 = nn.Conv2d(1, 6, 5)\n",
    "#     self.pool = nn.MaxPool2d(2, 2) # this is not a learnable operaation just performs downsampling\n",
    "#     self.conv2 = nn.Conv2d(6, 16, 5)\n",
    "#     self.fc1 = nn.Linear(16 * 5 * 5, 120)\n",
    "#     self.fc2 = nn.Linear(120, 84)\n",
    "#     self.fc3 = nn.Linear(84, 7) # we have 7 classes \n",
    "# \n",
    "# def forward(self, x):\n",
    "#     x = self.pool(F.relu(self.conv1(x)))\n",
    "#     x = self.pool(F.relu(self.conv2(x)))\n",
    "#     x = torch.flatten(x, 1) # flatten all dimensions except batch\n",
    "#     x = F.relu(self.fc1(x))\n",
    "#     x = F.relu(self.fc2(x))\n",
    "#     logits = self.fc3(x)\n",
    "\n",
    "# the output shapes could be determind with\n",
    "# (n + 2p -f / s) + 1 "
   ],
   "metadata": {
    "collapsed": false
   },
   "id": "8fd2e09a9a92b2bc"
  },
  {
   "cell_type": "code",
   "execution_count": 52,
   "outputs": [
    {
     "data": {
      "text/plain": "<matplotlib.image.AxesImage at 0x15796c460>"
     },
     "execution_count": 52,
     "metadata": {},
     "output_type": "execute_result"
    },
    {
     "data": {
      "text/plain": "<Figure size 640x480 with 1 Axes>",
      "image/png": "[encoded data removed]"
     },
     "metadata": {},
     "output_type": "display_data"
    }
   ],
   "source": [
    "import einops\n",
    "sample_img = img[0]\n",
    "plt.imshow(\n",
    "    einops.rearrange(sample_img,\"1 h w -> h w\"),\n",
    "    cmap=\"grey\")"
   ],
   "metadata": {
    "collapsed": false,
    "ExecuteTime": {
     "end_time": "2024-05-24T20:29:07.513058Z",
     "start_time": "2024-05-24T20:29:07.265348Z"
    }
   },
   "id": "f11d0c990857e16"
  },
  {
   "cell_type": "code",
   "execution_count": 36,
   "outputs": [
    {
     "data": {
      "text/plain": "(Conv2d(1, 6, kernel_size=(5, 5), stride=(1, 1)), torch.Size([6, 1, 5, 5]))"
     },
     "execution_count": 36,
     "metadata": {},
     "output_type": "execute_result"
    }
   ],
   "source": [
    "# 1,6 input channel = 1 (greyscale)\n",
    "# output dimension = 6 (filterbanks)\n",
    "# kernel size = (5,5) kernels\n",
    "net.conv1 , net.conv1.weight.shape"
   ],
   "metadata": {
    "collapsed": false,
    "ExecuteTime": {
     "end_time": "2024-05-24T20:14:22.970457Z",
     "start_time": "2024-05-24T20:14:22.952117Z"
    }
   },
   "id": "279f60b37398fc59"
  },
  {
   "cell_type": "code",
   "execution_count": 63,
   "outputs": [
    {
     "name": "stdout",
     "output_type": "stream",
     "text": [
      "torch.Size([6, 28, 28])\n"
     ]
    },
    {
     "data": {
      "text/plain": "<matplotlib.image.AxesImage at 0x157e77550>"
     },
     "execution_count": 63,
     "metadata": {},
     "output_type": "execute_result"
    },
    {
     "data": {
      "text/plain": "<Figure size 640x480 with 1 Axes>",
      "image/png": "[encoded data removed]"
     },
     "metadata": {},
     "output_type": "display_data"
    }
   ],
   "source": [
    "import torch.nn.functional as F\n",
    "with torch.no_grad():\n",
    "    # first layer convolution\n",
    "    out1 =F.conv2d(sample_img,net.conv1.weight,\n",
    "                   bias=None, stride=1, padding=0)\n",
    "    print(out1.shape) # input channel = 1 filter banks = 6\n",
    "    \n",
    "    \n",
    "plt.imshow(\n",
    "    einops.rearrange(out1,\"out_c h w -> h (out_c w)\"),\n",
    "    cmap=\"grey\"\n",
    ")\n",
    "# visualizing the output of convolution from the first learnt layer.\n",
    "# notice how some kernels are vastly different"
   ],
   "metadata": {
    "collapsed": false,
    "ExecuteTime": {
     "end_time": "2024-05-24T20:40:30.948798Z",
     "start_time": "2024-05-24T20:40:30.863097Z"
    }
   },
   "id": "ae3533962cbaf6ea"
  },
  {
   "cell_type": "code",
   "execution_count": 66,
   "outputs": [
    {
     "name": "stdout",
     "output_type": "stream",
     "text": [
      "torch.Size([6, 27, 27])\n"
     ]
    },
    {
     "data": {
      "text/plain": "<matplotlib.image.AxesImage at 0x157ed85b0>"
     },
     "execution_count": 66,
     "metadata": {},
     "output_type": "execute_result"
    },
    {
     "data": {
      "text/plain": "<Figure size 640x480 with 1 Axes>",
      "image/png": "[encoded data removed]"
     },
     "metadata": {},
     "output_type": "display_data"
    }
   ],
   "source": [
    "# and then we do max pooling . which is obviously not a learnable parmaeter.\n",
    "# it just downsamples with the highest pixel value from the window\n",
    "\n",
    "# the shapes could be determind with\n",
    "# (n + 2p -f / s) + 1 \n",
    "\n",
    "with torch.no_grad():\n",
    "    out1_p = F.max_pool2d(out1,kernel_size=(2,2),stride=1,padding=0)\n",
    "    print(out1_p.shape)\n",
    "   \n",
    "# this is nothing special .. just dowwnsampled but we would need it for the next layer\n",
    "plt.imshow(\n",
    "    einops.rearrange(out1_p,\"out_c h w -> h (out_c w)\"),\n",
    "    cmap=\"grey\"\n",
    ")\n"
   ],
   "metadata": {
    "collapsed": false,
    "ExecuteTime": {
     "end_time": "2024-05-24T20:43:03.358309Z",
     "start_time": "2024-05-24T20:43:03.299929Z"
    }
   },
   "id": "e2ec27b568cc4a25"
  },
  {
   "cell_type": "code",
   "execution_count": 68,
   "outputs": [
    {
     "name": "stdout",
     "output_type": "stream",
     "text": [
      "torch.Size([16, 23, 23])\n"
     ]
    },
    {
     "data": {
      "text/plain": "<matplotlib.image.AxesImage at 0x157fcbdc0>"
     },
     "execution_count": 68,
     "metadata": {},
     "output_type": "execute_result"
    },
    {
     "data": {
      "text/plain": "<Figure size 1500x800 with 1 Axes>",
      "image/png": "[encoded data removed]"
     },
     "metadata": {},
     "output_type": "display_data"
    }
   ],
   "source": [
    "with torch.no_grad():\n",
    "    # first layer convolution\n",
    "    out2 =F.conv2d(out1_p,net.conv2.weight,\n",
    "                   bias=None, stride=1, padding=0)\n",
    "    print(out2.shape) # input channel = 1 filter banks = 6\n",
    "\n",
    "plt.figure(figsize=(15,8))\n",
    "plt.imshow(\n",
    "    einops.rearrange(out2,\"out_c h w -> h (out_c w)\"),\n",
    "    cmap=\"grey\"\n",
    ")"
   ],
   "metadata": {
    "collapsed": false,
    "ExecuteTime": {
     "end_time": "2024-05-24T20:44:25.105484Z",
     "start_time": "2024-05-24T20:44:25.041346Z"
    }
   },
   "id": "4e8b0df0d5f2ae9"
  },
  {
   "cell_type": "code",
   "execution_count": null,
   "outputs": [],
   "source": [
    "# and then we downsample it again and flatten it to pass with an MLP head to get to the logits"
   ],
   "metadata": {
    "collapsed": false
   },
   "id": "95afa01584ee66ea"
  }
 ],
 "metadata": {
  "kernelspec": {
   "display_name": "Python 3",
   "language": "python",
   "name": "python3"
  },
  "language_info": {
   "codemirror_mode": {
    "name": "ipython",
    "version": 2
   },
   "file_extension": ".py",
   "mimetype": "text/x-python",
   "name": "python",
   "nbconvert_exporter": "python",
   "pygments_lexer": "ipython2",
   "version": "2.7.6"
  }
 },
 "nbformat": 4,
 "nbformat_minor": 5
}
