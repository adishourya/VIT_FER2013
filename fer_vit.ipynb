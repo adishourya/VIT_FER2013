{
 "cells": [
  {
   "cell_type": "code",
   "execution_count": 64,
   "id": "initial_id",
   "metadata": {
    "collapsed": true,
    "ExecuteTime": {
     "end_time": "2024-05-19T14:17:09.002327Z",
     "start_time": "2024-05-19T14:17:08.688672Z"
    }
   },
   "outputs": [],
   "source": [
    "import numpy as np , pandas as pd\n",
    "import torch\n",
    "import torch.nn as nn\n",
    "\n",
    "import torchvision.transforms as transforms\n",
    "import torch.utils as utils\n",
    "\n",
    "import matplotlib.pyplot as plt"
   ]
  },
  {
   "cell_type": "code",
   "execution_count": 65,
   "outputs": [
    {
     "data": {
      "text/plain": "   emotion                                             pixels     Usage\n0        0  70 80 82 72 58 58 60 63 54 58 60 48 89 115 121...  Training\n1        0  151 150 147 155 148 133 111 140 170 174 182 15...  Training",
      "text/html": "<div>\n<style scoped>\n    .dataframe tbody tr th:only-of-type {\n        vertical-align: middle;\n    }\n\n    .dataframe tbody tr th {\n        vertical-align: top;\n    }\n\n    .dataframe thead th {\n        text-align: right;\n    }\n</style>\n<table border=\"1\" class=\"dataframe\">\n  <thead>\n    <tr style=\"text-align: right;\">\n      <th></th>\n      <th>emotion</th>\n      <th>pixels</th>\n      <th>Usage</th>\n    </tr>\n  </thead>\n  <tbody>\n    <tr>\n      <th>0</th>\n      <td>0</td>\n      <td>70 80 82 72 58 58 60 63 54 58 60 48 89 115 121...</td>\n      <td>Training</td>\n    </tr>\n    <tr>\n      <th>1</th>\n      <td>0</td>\n      <td>151 150 147 155 148 133 111 140 170 174 182 15...</td>\n      <td>Training</td>\n    </tr>\n  </tbody>\n</table>\n</div>"
     },
     "execution_count": 65,
     "metadata": {},
     "output_type": "execute_result"
    }
   ],
   "source": [
    "fer = pd.read_csv(\"./archive/fer2013/fer2013/fer2013.csv\")\n",
    "fer[:2] # show first 2 examples"
   ],
   "metadata": {
    "collapsed": false,
    "ExecuteTime": {
     "end_time": "2024-05-19T14:17:11.404446Z",
     "start_time": "2024-05-19T14:17:08.694097Z"
    }
   },
   "id": "f36a67260718055a"
  },
  {
   "cell_type": "code",
   "execution_count": 66,
   "outputs": [
    {
     "data": {
      "text/plain": "((28709, 3), (3589, 3), (3589, 3))"
     },
     "execution_count": 66,
     "metadata": {},
     "output_type": "execute_result"
    }
   ],
   "source": [
    "fer_train = fer[fer.Usage == \"Training\"]\n",
    "fer_valid = fer[fer.Usage == \"PublicTest\"]\n",
    "fer_test = fer[fer.Usage == \"PrivateTest\"]\n",
    "\n",
    "fer_train.shape ,fer_valid.shape, fer_test.shape"
   ],
   "metadata": {
    "collapsed": false,
    "ExecuteTime": {
     "end_time": "2024-05-19T14:17:11.485532Z",
     "start_time": "2024-05-19T14:17:11.405732Z"
    }
   },
   "id": "d2eb45ea7fd90590"
  },
  {
   "cell_type": "code",
   "execution_count": 67,
   "outputs": [],
   "source": [
    "class FerDataset(utils.data.Dataset):\n",
    "    \"\"\"\n",
    "    Keep the validation\n",
    "    and test set seperate for now.\n",
    "    Dont plan to use early stopping.\n",
    "    just to make sure we are not leaking into validation Dataset\n",
    "    \"\"\"\n",
    "\n",
    "    def __init__(self,df,label = None, transformations = None):\n",
    "        super().__init__()\n",
    "        if label not in (\"train\", \"test\", \"valid\"):\n",
    "            raise ValueError(\"Please give al label to this dataset class train , valid , test\")\n",
    "\n",
    "        # handy stuff that i often call\n",
    "        self.label = label\n",
    "\n",
    "        self.data = df[df.columns[:-1]] # the last column is just usage\n",
    "        self.columns = self.data.columns\n",
    "        self.shape = self.data.shape\n",
    "        self.transforms = transformations\n",
    "\n",
    "        if self.transforms is None:\n",
    "            self.transforms = transforms.Compose([\n",
    "                transforms.ToTensor(),\n",
    "                transforms.Resize((32,32), antialias=True)]) # limit number of patches (4) calculation.. keep this a multiple of 16*16\n",
    "\n",
    "    # mandatory method to calculate random indexes when you turn on shuffle in dataloader\n",
    "    def __len__(self):\n",
    "        return self.shape[0]\n",
    "\n",
    "\n",
    "    def get_patches(self, arr):\n",
    "        # expects a 32 , 32 image\n",
    "        # and we return back (32/16) * (32/16) = 4 patches\n",
    "        # remember first dimension is batch dimension\n",
    "        tl = arr[:,:16, :16]\n",
    "        tr = arr[:,:16,16:]\n",
    "        bl = arr[:,16:,:16]\n",
    "        br = arr[:,16:,16:]\n",
    "        return [tl,tr,bl,br]\n",
    "\n",
    "\n",
    "    def __getitem__(self, idx):\n",
    "        # convert to string type\n",
    "\n",
    "        self.data = self.data.astype({\"emotion\": int, \"pixels\": str})\n",
    "\n",
    "        features = self.data.iloc[idx]['pixels']\n",
    "        features = np.array(features.split(\" \"),dtype=np.uint8) # its a flatten of 48 * 48 * 1 image\n",
    "        # image = features.view(48,48) -> numpy view is like astype with view not like torch.view\n",
    "        image = features.reshape(48,48)\n",
    "        if self.transforms:\n",
    "            image = self.transforms(image)\n",
    "\n",
    "        patches = self.get_patches(image)\n",
    "\n",
    "        label = self.data.iloc[idx]['emotion']\n",
    "\n",
    "\n",
    "        return patches, torch.tensor(label) # dont use capital Tensor it will convert it into float\n",
    "\n",
    "    @staticmethod\n",
    "    def imshow_patches(patches):\n",
    "        plt.figure(figsize=(5,5))\n",
    "        plt.subplot(2,2,1)\n",
    "        plt.imshow(torch.squeeze(patches[0]), cmap=\"gray\")\n",
    "        plt.axis(\"off\")\n",
    "\n",
    "\n",
    "        plt.subplot(2,2,2)\n",
    "        plt.imshow(torch.squeeze(patches[1]), cmap=\"gray\")\n",
    "        plt.axis(\"off\")\n",
    "\n",
    "\n",
    "\n",
    "        plt.subplot(2,2,3)\n",
    "        plt.imshow(torch.squeeze(patches[2]), cmap=\"gray\")\n",
    "        plt.axis(\"off\")\n",
    "\n",
    "\n",
    "        plt.subplot(2,2,4)\n",
    "        plt.imshow(torch.squeeze(patches[3]), cmap=\"gray\")\n",
    "        plt.axis(\"off\")\n",
    "\n",
    "\n",
    "        plt.show()\n"
   ],
   "metadata": {
    "collapsed": false,
    "ExecuteTime": {
     "end_time": "2024-05-19T14:17:11.485982Z",
     "start_time": "2024-05-19T14:17:11.444265Z"
    }
   },
   "id": "8039d325ab0ad53d"
  },
  {
   "cell_type": "code",
   "execution_count": 68,
   "outputs": [
    {
     "data": {
      "text/plain": "(list, torch.Size([1, 16, 16]), tensor(0))"
     },
     "execution_count": 68,
     "metadata": {},
     "output_type": "execute_result"
    }
   ],
   "source": [
    "fer = FerDataset(fer_train, \"train\")\n",
    "patches,lab = fer[0]\n",
    "type(patches) , patches[0].shape , lab"
   ],
   "metadata": {
    "collapsed": false,
    "ExecuteTime": {
     "end_time": "2024-05-19T14:17:11.496800Z",
     "start_time": "2024-05-19T14:17:11.450011Z"
    }
   },
   "id": "659d84b4c7ba62df"
  },
  {
   "cell_type": "code",
   "execution_count": 69,
   "outputs": [
    {
     "data": {
      "text/plain": "<Figure size 500x500 with 4 Axes>",
      "image/png": "[encoded data removed]"
     },
     "metadata": {},
     "output_type": "display_data"
    }
   ],
   "source": [
    "fer.imshow_patches(patches)"
   ],
   "metadata": {
    "collapsed": false,
    "ExecuteTime": {
     "end_time": "2024-05-19T14:17:11.605163Z",
     "start_time": "2024-05-19T14:17:11.478647Z"
    }
   },
   "id": "91a02c69dc3394d1"
  },
  {
   "cell_type": "code",
   "execution_count": 70,
   "outputs": [],
   "source": [
    "# actually we need to flatten all the patches individually .. and then make a single x out of it\n",
    "class FerDataset(utils.data.Dataset):\n",
    "    \"\"\"\n",
    "    Keep the validation\n",
    "    and test set seperate for now.\n",
    "    Dont plan to use early stopping.\n",
    "    just to make sure we are not leaking into validation Dataset\n",
    "    \"\"\"\n",
    "\n",
    "    def __init__(self,df,label = None, transformations = None):\n",
    "        super().__init__()\n",
    "        if label not in (\"train\", \"test\", \"valid\"):\n",
    "            raise ValueError(\"Please give al label to this dataset class train , valid , test\")\n",
    "\n",
    "        # handy stuff that i often call\n",
    "        self.label = label\n",
    "\n",
    "        self.data = df[df.columns[:-1]] # the last column is just usage\n",
    "        self.columns = self.data.columns\n",
    "        self.shape = self.data.shape\n",
    "        self.transforms = transformations\n",
    "\n",
    "        if self.transforms is None:\n",
    "            self.transforms = transforms.Compose([\n",
    "                transforms.ToTensor(), # this actually makes the images [0,1] but we want to keep it in uint8 as we are going to pass it through an embedding layer\n",
    "                transforms.Resize((32,32), antialias=True)]) # limit number of patches (4) calculation.. keep this a multiple of 16*16\n",
    "\n",
    "    # mandatory method to calculate random indexes when you turn on shuffle in dataloader\n",
    "    def __len__(self):\n",
    "        return self.shape[0]\n",
    "\n",
    "\n",
    "    def get_patches(self, arr):\n",
    "        # expects a 32 , 32 image\n",
    "        # and we return back (32/16) * (32/16) = 4 patches\n",
    "        # remember first dimension is batch dimension\n",
    "        # you cant use view to reshape here as the patches are not contiguous in memory\n",
    "        # use reshape instead .. \n",
    "        tl = arr[:,:16, :16].reshape(-1, 16*16)\n",
    "        tr = arr[:,:16,16:].reshape(-1, 16*16)\n",
    "        bl = arr[:,16:,:16].reshape(-1, 16*16)\n",
    "        br = arr[:,16:,16:].reshape(-1,16*16)\n",
    "        return torch.cat([tl,tr,bl,br] , dim=1)\n",
    "\n",
    "\n",
    "    def __getitem__(self, idx):\n",
    "        # convert to string type\n",
    "\n",
    "        self.data = self.data.astype({\"emotion\": int, \"pixels\": str})\n",
    "\n",
    "        features = self.data.iloc[idx]['pixels']\n",
    "        features = np.array(features.split(\" \"),dtype=np.uint8) # its a flatten of 48 * 48 * 1 image\n",
    "        # image = features.view(48,48) -> numpy view is like astype with view not like torch.view\n",
    "        image = features.reshape(48,48)\n",
    "        if self.transforms:\n",
    "            image = self.transforms(image)\n",
    "        patches = self.get_patches(image)\n",
    "\n",
    "        label = self.data.iloc[idx]['emotion']\n",
    "\n",
    "\n",
    "        return patches, label # dont use capital Tensor it will convert it into float\n",
    "\n",
    "   "
   ],
   "metadata": {
    "collapsed": false,
    "ExecuteTime": {
     "end_time": "2024-05-19T14:17:11.605411Z",
     "start_time": "2024-05-19T14:17:11.511236Z"
    }
   },
   "id": "2c5e0548e90a8951"
  },
  {
   "cell_type": "code",
   "execution_count": 71,
   "outputs": [
    {
     "data": {
      "text/plain": "(torch.Tensor, torch.Size([1, 1024]), 0)"
     },
     "execution_count": 71,
     "metadata": {},
     "output_type": "execute_result"
    }
   ],
   "source": [
    "fer = FerDataset(fer_train, \"train\")\n",
    "patches,lab = fer[0]\n",
    "# 16*16*4 = 1024\n",
    "type(patches) , patches.shape , lab"
   ],
   "metadata": {
    "collapsed": false,
    "ExecuteTime": {
     "end_time": "2024-05-19T14:17:11.606295Z",
     "start_time": "2024-05-19T14:17:11.520159Z"
    }
   },
   "id": "4f80418fe6358f64"
  },
  {
   "cell_type": "code",
   "execution_count": 72,
   "outputs": [],
   "source": [
    "train_data = FerDataset(fer_train,\"train\")\n",
    "train_loader = utils.data.DataLoader(train_data, shuffle=True, batch_size=32)"
   ],
   "metadata": {
    "collapsed": false,
    "ExecuteTime": {
     "end_time": "2024-05-19T14:17:11.607381Z",
     "start_time": "2024-05-19T14:17:11.530110Z"
    }
   },
   "id": "7f1605e15fcea1d6"
  },
  {
   "cell_type": "code",
   "execution_count": 73,
   "outputs": [
    {
     "name": "stdout",
     "output_type": "stream",
     "text": [
      "torch.Size([32, 1, 1024]) torch.Size([32])\n"
     ]
    }
   ],
   "source": [
    "for data in train_loader:\n",
    "    img, label = data\n",
    "    print(img.shape, label.shape)\n",
    "    break"
   ],
   "metadata": {
    "collapsed": false,
    "ExecuteTime": {
     "end_time": "2024-05-19T14:17:11.656549Z",
     "start_time": "2024-05-19T14:17:11.536557Z"
    }
   },
   "id": "717154b34963e10e"
  },
  {
   "cell_type": "code",
   "execution_count": 74,
   "outputs": [],
   "source": [
    "# check appendix for unit test of this class\n",
    "class SingleHead(nn.Module):\n",
    "    \"\"\"\n",
    "    Implements a single head of attention (unmasked)\n",
    "    \"\"\"\n",
    "\n",
    "    def __init__(self,n_embed=32,head_size=8):\n",
    "        super().__init__()\n",
    "        # single head\n",
    "        self.head_size = torch.tensor(head_size)\n",
    "        self.n_embed = torch.tensor(n_embed)\n",
    "        self.Q = nn.Parameter( torch.randn(self.n_embed,head_size) * (1/torch.tensor(2.82)))\n",
    "        self.K = nn.Parameter( torch.randn(self.n_embed,head_size) * (1/torch.tensor(2.82)))\n",
    "        self.V = nn.Parameter( torch.randn(self.n_embed,head_size) * (1/torch.tensor(2.82)))\n",
    "\n",
    "    def forward(self,x):\n",
    "        query = x @ self.Q\n",
    "        key =   x @ self.K\n",
    "        value=  x @ self.V\n",
    "        \n",
    "        # hand implementation\n",
    "        # scale => sqrt head size\n",
    "        scale = 1 / torch.sqrt(self.head_size)\n",
    "\n",
    "        # we will not use any masking here as its an image\n",
    "        # and no dropout consideration in this implementation\n",
    "        comm = query @ key.transpose(-2,-1)\n",
    "        comm = comm* scale\n",
    "        soft_comm = torch.softmax(comm, dim=2)\n",
    "        att = soft_comm @ value\n",
    "        \n",
    "        return att"
   ],
   "metadata": {
    "collapsed": false,
    "ExecuteTime": {
     "end_time": "2024-05-19T14:17:11.656678Z",
     "start_time": "2024-05-19T14:17:11.622799Z"
    }
   },
   "id": "16392bd675f3c1b4"
  },
  {
   "cell_type": "code",
   "execution_count": 75,
   "outputs": [],
   "source": [
    "class Multihead(nn.Module):\n",
    "    def __init__(self,n_embed,n_heads):\n",
    "        super().__init__()\n",
    "        \n",
    "        self.n_embed = n_embed\n",
    "        self.n_heads = n_heads\n",
    "        self.head_size = self.n_embed // self.n_heads\n",
    " \n",
    "        self.multiheads = nn.ModuleList(\n",
    "            [SingleHead(self.n_embed,self.head_size)\n",
    "             for _ in range(self.n_heads)]\n",
    "        )\n",
    "\n",
    "    def forward(self,x):\n",
    "        return torch.cat([head(x) for head in self.multiheads],dim=2)"
   ],
   "metadata": {
    "collapsed": false,
    "ExecuteTime": {
     "end_time": "2024-05-19T14:17:11.656735Z",
     "start_time": "2024-05-19T14:17:11.627621Z"
    }
   },
   "id": "27305420fbae8f3d"
  },
  {
   "cell_type": "code",
   "execution_count": 76,
   "outputs": [],
   "source": [
    "# only multihead ->  skip connection -> layernorm\n",
    "# Batch norm : couples examples in and normalizes it .. (also has a regularization effect) but we need to keep a running mean to track new mean and sigma\n",
    "# layernorm : normalizes the features of each example (does not couple examples across the batch) more popular in transformers\n",
    "\n",
    "class TranformerBlock(nn.Module):\n",
    "    def __init__(self, n_embed,n_head):\n",
    "        super().__init__()\n",
    "        self.multi_head = Multihead(n_embed,n_head)\n",
    "        # i am not going to implement my own layer norm it wont be efficient and will be janky at best\n",
    "        self.norm = nn.LayerNorm(n_embed) # we want to normalize feeatures (each patch gets normalized)\n",
    "    \n",
    "    def forward(self,x):\n",
    "        # pass through multihead\n",
    "        attention = self.multi_head(x)\n",
    "        # skip connection and non linarity\n",
    "        attention = torch.relu( x + attention)\n",
    "        # layer norm\n",
    "        attention = self.norm(attention)\n",
    "        return attention # B , n_patch , n_embed\n",
    "        ..."
   ],
   "metadata": {
    "collapsed": false,
    "ExecuteTime": {
     "end_time": "2024-05-19T14:17:11.656814Z",
     "start_time": "2024-05-19T14:17:11.632375Z"
    }
   },
   "id": "d4ade622995ea740"
  },
  {
   "cell_type": "code",
   "execution_count": 77,
   "outputs": [],
   "source": [
    "# most of the comments are pasted verbatim from the paper\n",
    "class SmallVIT(nn.Module):\n",
    "    \n",
    "    def __init__(self):\n",
    "        super().__init__()\n",
    "        # patches\n",
    "        # embedding\n",
    "        self.vocab_size = torch.tensor(256) # 0 to 255 pixels\n",
    "        # each patch will only get one n_embed representation\n",
    "        self.n_embed = 32 # we will project each patch 16*16 to a 32 dimensional representation\n",
    "        # so the lookup table would be of the shape\n",
    "        # unlike in nlp where we embed token to a vector like below we would project matrix of patch size to a vector\n",
    "        # self.C = nn.Embedding(self.vocab_size, self.n_embed)\n",
    "        \n",
    "        self.C = nn.Parameter(torch.randn(self.vocab_size, self.n_embed) * 1/torch.sqrt(self.vocab_size) )\n",
    "        \n",
    "        # positional embedding\n",
    "        # the paper says Position embeddings are added to the patch embeddings to retain positional information. We use standard learnable 1D position embeddings, since we have not observed significant performance gains from using more advanced 2D-aware position embeddings \n",
    "        self.pe = nn.Parameter(torch.randn(1,4,self.n_embed)) # each pach and representation should get positional embedding\n",
    "        \n",
    "        # we use the standard approach of adding an extra learnable “classification token” to the sequence\n",
    "        self.classification_token = nn.Parameter(torch.randn(1, 1, self.n_embed))\n",
    "        # we will keep the step above optional .. i dont understand why we should use it yet.\n",
    "        \n",
    "        # transformer block\n",
    "        self.n_heads = 4 # we will use 4 heads for now\n",
    "        self.transformer_block = TranformerBlock(self.n_embed,self.n_heads)\n",
    "        \n",
    "        # MLP Head for final logit calculation\n",
    "        # n_patch * n_embed -> fer[\"emotion\"].nuinque() : 7\n",
    "        self.mlp_head = nn.Parameter(torch.randn(4*32, 7) * torch.sqrt(torch.tensor(4*32)))\n",
    "        \n",
    "        \n",
    "        \n",
    "        \n",
    "        ...\n",
    "       \n",
    "    def forward(self,X):\n",
    "        batch_size = X.shape[0]\n",
    "        patches = X.view(-1,4,256) # B , p_num , 16*16\n",
    "        # B , p_num , 256 @ 256 , 32\n",
    "        emb = patches @ self.C # B , p_num , n_embed\n",
    "        emb = emb + self.pe # kind of acts like a bias towards each patches.\n",
    "        \n",
    "        # 2 transformers\n",
    "        tf = self.transformer_block(emb)\n",
    "        tf = self.transformer_block(tf)\n",
    "        \n",
    "        # flatten it : across patches\n",
    "        tf = tf.view(batch_size,-1)\n",
    "        \n",
    "        # logits\n",
    "        logits = tf @ self.mlp_head\n",
    "        \n",
    "        \n",
    "        \n",
    "\n",
    "        # broadcasting steps in the above command\n",
    "        # B,p_n , p*p , n_embed\n",
    "        #1,4,32\n",
    "\n",
    "\n",
    "        return logits\n",
    "\n",
    "        \n",
    "        \n",
    "        \n",
    "        \n",
    "        "
   ],
   "metadata": {
    "collapsed": false,
    "ExecuteTime": {
     "end_time": "2024-05-19T14:17:11.668908Z",
     "start_time": "2024-05-19T14:17:11.640945Z"
    }
   },
   "id": "708d2dae03a90be5"
  },
  {
   "cell_type": "code",
   "execution_count": 78,
   "outputs": [
    {
     "name": "stdout",
     "output_type": "stream",
     "text": [
      "tensor([[ 118.2324,   11.9539,  -52.9618,    8.2771,   67.1156,  -16.5102,\n",
      "         -133.9027]]) torch.Size([1, 7])\n"
     ]
    }
   ],
   "source": [
    "vit = SmallVIT()\n",
    "x_ex, y_ex = train_data[0]\n",
    "with torch.no_grad() :\n",
    "    o = vit(x_ex)\n",
    "    print(o, o.shape)"
   ],
   "metadata": {
    "collapsed": false,
    "ExecuteTime": {
     "end_time": "2024-05-19T14:17:11.678230Z",
     "start_time": "2024-05-19T14:17:11.645337Z"
    }
   },
   "id": "99ec8283022e4cb8"
  },
  {
   "cell_type": "code",
   "execution_count": 79,
   "outputs": [
    {
     "data": {
      "text/plain": "AdamW (\nParameter Group 0\n    amsgrad: False\n    betas: (0.9, 0.999)\n    capturable: False\n    differentiable: False\n    eps: 1e-08\n    foreach: None\n    fused: None\n    lr: 0.001\n    maximize: False\n    weight_decay: 0.01\n)"
     },
     "execution_count": 79,
     "metadata": {},
     "output_type": "execute_result"
    }
   ],
   "source": [
    "optimizer = torch.optim.AdamW(vit.parameters(),lr=1e-3)\n",
    "optimizer"
   ],
   "metadata": {
    "collapsed": false,
    "ExecuteTime": {
     "end_time": "2024-05-19T14:17:11.693988Z",
     "start_time": "2024-05-19T14:17:11.655363Z"
    }
   },
   "id": "636074249efc2c38"
  },
  {
   "cell_type": "code",
   "execution_count": 80,
   "outputs": [],
   "source": [
    "track_loss = list()"
   ],
   "metadata": {
    "collapsed": false,
    "ExecuteTime": {
     "end_time": "2024-05-19T14:17:11.694121Z",
     "start_time": "2024-05-19T14:17:11.659130Z"
    }
   },
   "id": "a1f33d351bc43034"
  },
  {
   "cell_type": "code",
   "execution_count": 93,
   "outputs": [
    {
     "name": "stderr",
     "output_type": "stream",
     "text": [
      "898it [00:39, 22.75it/s]\n",
      "898it [00:39, 22.96it/s]\n",
      "898it [00:39, 22.72it/s]\n",
      "898it [00:39, 22.83it/s]\n",
      "898it [00:39, 22.59it/s]\n",
      "898it [00:39, 22.73it/s]\n",
      "898it [00:39, 22.67it/s]\n",
      "898it [00:39, 22.71it/s]\n",
      "898it [00:39, 22.59it/s]\n",
      "898it [00:39, 22.59it/s]\n"
     ]
    }
   ],
   "source": [
    "from tqdm import tqdm\n",
    "for epoch in range(10):\n",
    "    # running on cpu so just 1 epoch\n",
    "    for batch_idx, (Xb, yb) in tqdm( enumerate(train_loader)):\n",
    "\n",
    "        # forward pass\n",
    "        logits = vit(Xb)\n",
    "\n",
    "        # loss\n",
    "        loss = nn.functional.cross_entropy(logits,yb)\n",
    "\n",
    "        # flush the gradients \n",
    "        optimizer.zero_grad(set_to_none=True)\n",
    "\n",
    "        # backprop\n",
    "        loss.backward()\n",
    "\n",
    "        # learning step\n",
    "        optimizer.step()\n",
    "\n",
    "        # for plotting\n",
    "        track_loss.append(loss.item())\n",
    "\n"
   ],
   "metadata": {
    "collapsed": false,
    "ExecuteTime": {
     "end_time": "2024-05-19T19:53:23.453004Z",
     "start_time": "2024-05-19T19:46:48.071471Z"
    }
   },
   "id": "6775122885aadd36"
  },
  {
   "cell_type": "code",
   "execution_count": 101,
   "outputs": [
    {
     "data": {
      "text/plain": "[<matplotlib.lines.Line2D at 0x1436d3250>]"
     },
     "execution_count": 101,
     "metadata": {},
     "output_type": "execute_result"
    },
    {
     "data": {
      "text/plain": "<Figure size 640x480 with 1 Axes>",
      "image/png": "[encoded data removed]"
     },
     "metadata": {},
     "output_type": "display_data"
    }
   ],
   "source": [
    "plt.plot(track_loss[-8000:])"
   ],
   "metadata": {
    "collapsed": false,
    "ExecuteTime": {
     "end_time": "2024-05-19T19:54:47.728292Z",
     "start_time": "2024-05-19T19:54:47.599279Z"
    }
   },
   "id": "36dddad8727736b0"
  },
  {
   "cell_type": "code",
   "execution_count": 95,
   "outputs": [
    {
     "data": {
      "text/plain": "1.9874691367149353"
     },
     "execution_count": 95,
     "metadata": {},
     "output_type": "execute_result"
    }
   ],
   "source": [
    "np.median(\n",
    "    track_loss[:-10]\n",
    ")"
   ],
   "metadata": {
    "collapsed": false,
    "ExecuteTime": {
     "end_time": "2024-05-19T19:53:49.428948Z",
     "start_time": "2024-05-19T19:53:49.408140Z"
    }
   },
   "id": "84ceffc15a1eafbf"
  },
  {
   "cell_type": "code",
   "execution_count": 108,
   "outputs": [
    {
     "data": {
      "text/plain": "(array([ 1.,  3.,  3., 10.,  5.,  4.,  3.,  3.,  1.,  2.]),\n array([43.80527496, 44.75465012, 45.70402527, 46.65339661, 47.60277176,\n        48.55214691, 49.50152206, 50.45089722, 51.40026855, 52.34964371,\n        53.29901886]),\n <BarContainer object of 10 artists>)"
     },
     "execution_count": 108,
     "metadata": {},
     "output_type": "execute_result"
    },
    {
     "data": {
      "text/plain": "<Figure size 640x480 with 1 Axes>",
      "image/png": "[encoded data removed]"
     },
     "metadata": {},
     "output_type": "display_data"
    }
   ],
   "source": [
    "import einops # the logits have tended to give roughly uniform dist . now \n",
    "# almost equalling the expected loss\n",
    "logits = einops.asnumpy(logits)\n",
    "plt.hist(einops.rearrange(logits,\"r c -> (r c)\"))"
   ],
   "metadata": {
    "collapsed": false,
    "ExecuteTime": {
     "end_time": "2024-05-19T19:58:41.034019Z",
     "start_time": "2024-05-19T19:58:40.946617Z"
    }
   },
   "id": "1f749f7b684cc692"
  },
  {
   "cell_type": "code",
   "execution_count": 96,
   "outputs": [
    {
     "data": {
      "text/plain": "1.9459101490553135"
     },
     "execution_count": 96,
     "metadata": {},
     "output_type": "execute_result"
    }
   ],
   "source": [
    "# the expected loss\n",
    "# if we get equal values in the logits\n",
    "-1 * np.log(1/7)"
   ],
   "metadata": {
    "collapsed": false,
    "ExecuteTime": {
     "end_time": "2024-05-19T19:53:51.548618Z",
     "start_time": "2024-05-19T19:53:51.522013Z"
    }
   },
   "id": "47e04002d4e4f6a3"
  },
  {
   "cell_type": "code",
   "execution_count": 97,
   "outputs": [],
   "source": [
    "# we will try to improve on this in vit_pretrained notebook"
   ],
   "metadata": {
    "collapsed": false,
    "ExecuteTime": {
     "end_time": "2024-05-19T19:53:52.760111Z",
     "start_time": "2024-05-19T19:53:52.741244Z"
    }
   },
   "id": "b51ea22b3d8505ec"
  },
  {
   "cell_type": "markdown",
   "source": [
    "# Appendix"
   ],
   "metadata": {
    "collapsed": false
   },
   "id": "caa46b1b0a4800d5"
  },
  {
   "cell_type": "code",
   "execution_count": 98,
   "outputs": [],
   "source": [
    "# unit teset"
   ],
   "metadata": {
    "collapsed": false,
    "ExecuteTime": {
     "end_time": "2024-05-19T19:53:54.512950Z",
     "start_time": "2024-05-19T19:53:54.491947Z"
    }
   },
   "id": "3331f138c7945af8"
  },
  {
   "cell_type": "markdown",
   "source": [
    "# single head unit test"
   ],
   "metadata": {
    "collapsed": false
   },
   "id": "90be15ac468583f4"
  },
  {
   "cell_type": "code",
   "execution_count": 85,
   "outputs": [],
   "source": [
    "g=torch.Generator().manual_seed(123)\n",
    "query, key, value = torch.randn(2, 3, 8 , generator = g), torch.randn(2, 3, 8, generator = g), torch.randn(2, 3, 8 , generator = g)"
   ],
   "metadata": {
    "collapsed": false,
    "ExecuteTime": {
     "end_time": "2024-05-19T14:17:54.553242Z",
     "start_time": "2024-05-19T14:17:54.534780Z"
    }
   },
   "id": "5e78077ab0d21384"
  },
  {
   "cell_type": "code",
   "execution_count": 86,
   "outputs": [
    {
     "data": {
      "text/plain": "torch.Size([2, 3, 8])"
     },
     "execution_count": 86,
     "metadata": {},
     "output_type": "execute_result"
    }
   ],
   "source": [
    "# pytorch implementation\n",
    "py_sa = nn.functional.scaled_dot_product_attention(query, key, value)\n",
    "py_sa.shape"
   ],
   "metadata": {
    "collapsed": false,
    "ExecuteTime": {
     "end_time": "2024-05-19T14:17:54.553445Z",
     "start_time": "2024-05-19T14:17:54.540017Z"
    }
   },
   "id": "3eea756ed8af4a46"
  },
  {
   "cell_type": "code",
   "execution_count": 87,
   "outputs": [
    {
     "name": "stdout",
     "output_type": "stream",
     "text": [
      "torch.Size([2, 3, 8])\n"
     ]
    }
   ],
   "source": [
    "def single_head(query, key,value):\n",
    "    head_size = torch.tensor(query.shape[-1])\n",
    "    # hand implementation\n",
    "    # scale => sqrt head size\n",
    "    scale = 1 / torch.sqrt(head_size)\n",
    "\n",
    "    # we will not use any masking here as its an image\n",
    "    # and no dropout consideration in this implementation\n",
    "    comm = query @ key.transpose(-2,-1)\n",
    "    comm = comm* scale\n",
    "    soft_comm = torch.softmax(comm, dim=2)\n",
    "    att = soft_comm @ value\n",
    "    print(att.shape)\n",
    "    return att\n",
    "sh  = single_head(query,key,value)"
   ],
   "metadata": {
    "collapsed": false,
    "ExecuteTime": {
     "end_time": "2024-05-19T14:17:54.553873Z",
     "start_time": "2024-05-19T14:17:54.547273Z"
    }
   },
   "id": "c7a976dd81f53573"
  },
  {
   "cell_type": "code",
   "execution_count": 88,
   "outputs": [
    {
     "data": {
      "text/plain": "True"
     },
     "execution_count": 88,
     "metadata": {},
     "output_type": "execute_result"
    }
   ],
   "source": [
    "torch.allclose(py_sa , sh)"
   ],
   "metadata": {
    "collapsed": false,
    "ExecuteTime": {
     "end_time": "2024-05-19T14:17:54.568500Z",
     "start_time": "2024-05-19T14:17:54.553710Z"
    }
   },
   "id": "32c3987f6cb06e1f"
  },
  {
   "cell_type": "code",
   "execution_count": 89,
   "outputs": [
    {
     "data": {
      "text/plain": "7"
     },
     "execution_count": 89,
     "metadata": {},
     "output_type": "execute_result"
    }
   ],
   "source": [
    "fer_train[\"emotion\"].nunique()"
   ],
   "metadata": {
    "collapsed": false,
    "ExecuteTime": {
     "end_time": "2024-05-19T14:17:54.568612Z",
     "start_time": "2024-05-19T14:17:54.557308Z"
    }
   },
   "id": "3603319380012538"
  },
  {
   "cell_type": "code",
   "execution_count": 89,
   "outputs": [],
   "source": [],
   "metadata": {
    "collapsed": false,
    "ExecuteTime": {
     "end_time": "2024-05-19T14:17:54.568745Z",
     "start_time": "2024-05-19T14:17:54.561801Z"
    }
   },
   "id": "583dac6325168cf5"
  }
 ],
 "metadata": {
  "kernelspec": {
   "display_name": "Python 3",
   "language": "python",
   "name": "python3"
  },
  "language_info": {
   "codemirror_mode": {
    "name": "ipython",
    "version": 2
   },
   "file_extension": ".py",
   "mimetype": "text/x-python",
   "name": "python",
   "nbconvert_exporter": "python",
   "pygments_lexer": "ipython2",
   "version": "2.7.6"
  }
 },
 "nbformat": 4,
 "nbformat_minor": 5
}
