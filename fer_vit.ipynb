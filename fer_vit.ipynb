{
 "cells": [
  {
   "cell_type": "code",
   "execution_count": 4,
   "id": "initial_id",
   "metadata": {
    "collapsed": true,
    "ExecuteTime": {
     "end_time": "2024-05-24T21:12:33.706685Z",
     "start_time": "2024-05-24T21:12:33.683904Z"
    }
   },
   "outputs": [],
   "source": [
    "import numpy as np , pandas as pd\n",
    "import torch\n",
    "import torch.nn as nn\n",
    "\n",
    "import torchvision.transforms as transforms\n",
    "import torch.utils as utils\n",
    "\n",
    "import matplotlib.pyplot as plt\n",
    "import einops\n",
    "from tqdm import tqdm"
   ]
  },
  {
   "cell_type": "code",
   "execution_count": 5,
   "outputs": [
    {
     "data": {
      "text/plain": "   emotion                                             pixels     Usage\n0        0  70 80 82 72 58 58 60 63 54 58 60 48 89 115 121...  Training\n1        0  151 150 147 155 148 133 111 140 170 174 182 15...  Training",
      "text/html": "<div>\n<style scoped>\n    .dataframe tbody tr th:only-of-type {\n        vertical-align: middle;\n    }\n\n    .dataframe tbody tr th {\n        vertical-align: top;\n    }\n\n    .dataframe thead th {\n        text-align: right;\n    }\n</style>\n<table border=\"1\" class=\"dataframe\">\n  <thead>\n    <tr style=\"text-align: right;\">\n      <th></th>\n      <th>emotion</th>\n      <th>pixels</th>\n      <th>Usage</th>\n    </tr>\n  </thead>\n  <tbody>\n    <tr>\n      <th>0</th>\n      <td>0</td>\n      <td>70 80 82 72 58 58 60 63 54 58 60 48 89 115 121...</td>\n      <td>Training</td>\n    </tr>\n    <tr>\n      <th>1</th>\n      <td>0</td>\n      <td>151 150 147 155 148 133 111 140 170 174 182 15...</td>\n      <td>Training</td>\n    </tr>\n  </tbody>\n</table>\n</div>"
     },
     "execution_count": 5,
     "metadata": {},
     "output_type": "execute_result"
    }
   ],
   "source": [
    "fer = pd.read_csv(\"../archive/fer2013/fer2013/fer2013.csv\")\n",
    "fer[:2] # show first 2 examples"
   ],
   "metadata": {
    "collapsed": false,
    "ExecuteTime": {
     "end_time": "2024-05-24T21:12:36.860119Z",
     "start_time": "2024-05-24T21:12:34.211868Z"
    }
   },
   "id": "f36a67260718055a"
  },
  {
   "cell_type": "code",
   "execution_count": 6,
   "outputs": [
    {
     "data": {
      "text/plain": "((28709, 3), (3589, 3), (3589, 3))"
     },
     "execution_count": 6,
     "metadata": {},
     "output_type": "execute_result"
    }
   ],
   "source": [
    "fer_train = fer[fer.Usage == \"Training\"]\n",
    "fer_valid = fer[fer.Usage == \"PublicTest\"]\n",
    "fer_test = fer[fer.Usage == \"PrivateTest\"]\n",
    "\n",
    "fer_train.shape ,fer_valid.shape, fer_test.shape"
   ],
   "metadata": {
    "collapsed": false,
    "ExecuteTime": {
     "end_time": "2024-05-24T21:12:36.958149Z",
     "start_time": "2024-05-24T21:12:36.861994Z"
    }
   },
   "id": "d2eb45ea7fd90590"
  },
  {
   "cell_type": "code",
   "execution_count": 15,
   "outputs": [],
   "source": [
    "# actually we need to flatten all the patches individually .. and then make a single x out of it\n",
    "# but for illustration we will keep this operation in the model\n",
    "class FerDataset(utils.data.Dataset):\n",
    "    \"\"\"\n",
    "    Keep the validation\n",
    "    and test set seperate for now.\n",
    "    Dont plan to use early stopping.\n",
    "    just to make sure we are not leaking into validation Dataset\n",
    "    \"\"\"\n",
    "\n",
    "    def __init__(self,df,label = None, transformations = None):\n",
    "        super().__init__()\n",
    "        if label not in (\"train\", \"test\", \"valid\"):\n",
    "            raise ValueError(\"Please give al label to this dataset class train , valid , test\")\n",
    "\n",
    "        # handy stuff that i often call\n",
    "        self.label = label\n",
    "\n",
    "        self.data = df[df.columns[:-1]] # the last column is just usage\n",
    "        self.columns = self.data.columns\n",
    "        self.shape = self.data.shape\n",
    "        self.transforms = transformations\n",
    "\n",
    "        if self.transforms is None:\n",
    "            self.transforms = transforms.Compose([\n",
    "                transforms.ToTensor(), # this actually makes the images [0,1] but we want to keep it in uint8 as we are going to pass it through an embedding layer\n",
    "                transforms.Resize((32,32), antialias=True)]) # limit number of patches (4) calculation.. keep this a multiple of 16*16\n",
    "\n",
    "    # mandatory method to calculate random indexes when you turn on shuffle in dataloader\n",
    "    def __len__(self):\n",
    "        return self.shape[0]\n",
    "\n",
    "\n",
    "    def get_patches(self, arr):\n",
    "        # best place to use einops\n",
    "        # squueze out the channel dimension.. the loader will add it ..\n",
    "        arr = einops.rearrange(arr,\"1 h w -> h w\") \n",
    "        patches = einops.rearrange(\n",
    "            arr, \"(p1 h) (p2 w) ->(p1 p2) h w\",p1=2 , p2=2\n",
    "        ) # lay it on as the batch for the image\n",
    "        # we need to crop twice for a 48 * 48 image to get a 16 * 16 patch\n",
    "        return patches\n",
    "\n",
    "\n",
    "\n",
    "    def __getitem__(self, idx):\n",
    "        # convert to string type\n",
    "\n",
    "        self.data = self.data.astype({\"emotion\": int, \"pixels\": str})\n",
    "\n",
    "        features = self.data.iloc[idx]['pixels']\n",
    "        features = np.array(features.split(\" \"),dtype=np.uint8) # its a flatten of 48 * 48 * 1 image\n",
    "        # image = features.view(48,48) -> numpy view is like astype with view not like torch.view\n",
    "        image = features.reshape(48,48)\n",
    "        if self.transforms:\n",
    "            image = self.transforms(image)\n",
    "        patches = self.get_patches(image)\n",
    "\n",
    "        label = self.data.iloc[idx]['emotion']\n",
    "\n",
    "\n",
    "        return patches, label # dont use capital Tensor it will convert it into float\n",
    "\n",
    "   "
   ],
   "metadata": {
    "collapsed": false,
    "ExecuteTime": {
     "end_time": "2024-05-24T21:19:42.266511Z",
     "start_time": "2024-05-24T21:19:42.261472Z"
    }
   },
   "id": "2c5e0548e90a8951"
  },
  {
   "cell_type": "code",
   "execution_count": 17,
   "outputs": [
    {
     "data": {
      "text/plain": "(torch.Tensor, torch.Size([4, 16, 16]), 0)"
     },
     "execution_count": 17,
     "metadata": {},
     "output_type": "execute_result"
    }
   ],
   "source": [
    "fer = FerDataset(fer_train, \"train\")\n",
    "patches,lab = fer[0]\n",
    "type(patches) , patches.shape , lab"
   ],
   "metadata": {
    "collapsed": false,
    "ExecuteTime": {
     "end_time": "2024-05-24T21:20:04.429370Z",
     "start_time": "2024-05-24T21:20:04.346968Z"
    }
   },
   "id": "d6e6f01c778877b5"
  },
  {
   "cell_type": "code",
   "execution_count": 23,
   "outputs": [
    {
     "data": {
      "text/plain": "<matplotlib.image.AxesImage at 0x32c5ee530>"
     },
     "execution_count": 23,
     "metadata": {},
     "output_type": "execute_result"
    },
    {
     "data": {
      "text/plain": "<Figure size 640x480 with 1 Axes>",
      "image/png": "[encoded data removed]"
     },
     "metadata": {},
     "output_type": "display_data"
    }
   ],
   "source": [
    "plt.imshow(\n",
    "    einops.rearrange(patches,\"b h w ->  h (b w)\"),\n",
    "    cmap=\"gray\"\n",
    ")"
   ],
   "metadata": {
    "collapsed": false,
    "ExecuteTime": {
     "end_time": "2024-05-24T21:23:01.787888Z",
     "start_time": "2024-05-24T21:23:01.655541Z"
    }
   },
   "id": "6203b91e63c6f92c"
  },
  {
   "cell_type": "code",
   "execution_count": 22,
   "outputs": [
    {
     "data": {
      "text/plain": "<matplotlib.image.AxesImage at 0x32c4d71c0>"
     },
     "execution_count": 22,
     "metadata": {},
     "output_type": "execute_result"
    },
    {
     "data": {
      "text/plain": "<Figure size 640x480 with 1 Axes>",
      "image/png": "[encoded data removed]"
     },
     "metadata": {},
     "output_type": "display_data"
    }
   ],
   "source": [
    "# actually it looks like its only been cropped twice in the above cell.\n",
    "# but if you lay down in columns you could see the patches more clearly\n",
    "plt.imshow(\n",
    "    einops.rearrange(patches,\"b h w -> (b h) w\"),\n",
    "    cmap=\"gray\"\n",
    ")"
   ],
   "metadata": {
    "collapsed": false,
    "ExecuteTime": {
     "end_time": "2024-05-24T21:21:26.026478Z",
     "start_time": "2024-05-24T21:21:25.916111Z"
    }
   },
   "id": "55ffa8dc77ac50e4"
  },
  {
   "cell_type": "code",
   "execution_count": 28,
   "outputs": [],
   "source": [
    "train_data = FerDataset(fer_train,\"train\")\n",
    "train_loader = utils.data.DataLoader(train_data, shuffle=True, batch_size=32)\n",
    "\n",
    "valid_data = FerDataset(fer_valid,\"valid\")\n",
    "valid_loader = utils.data.DataLoader(valid_data, shuffle=True, batch_size=32)\n",
    "\n",
    "test_data = FerDataset(fer_test,\"test\")\n",
    "test_loader = utils.data.DataLoader(test_data, shuffle=True, batch_size=32)"
   ],
   "metadata": {
    "collapsed": false,
    "ExecuteTime": {
     "end_time": "2024-05-24T21:27:31.583485Z",
     "start_time": "2024-05-24T21:27:31.480610Z"
    }
   },
   "id": "7f1605e15fcea1d6"
  },
  {
   "cell_type": "code",
   "execution_count": 29,
   "outputs": [],
   "source": [
    "# check appendix for unit test of this class\n",
    "class SingleHead(nn.Module):\n",
    "    \"\"\"\n",
    "    Implements a single head of attention (unmasked)\n",
    "    \"\"\"\n",
    "\n",
    "    def __init__(self,n_embed=32,head_size=8):\n",
    "        super().__init__()\n",
    "        # single head\n",
    "        self.head_size = torch.tensor(head_size)\n",
    "        self.n_embed = torch.tensor(n_embed)\n",
    "        self.Q = nn.Parameter( torch.randn(self.n_embed,head_size) * (1/torch.tensor(2.82)))\n",
    "        self.K = nn.Parameter( torch.randn(self.n_embed,head_size) * (1/torch.tensor(2.82)))\n",
    "        self.V = nn.Parameter( torch.randn(self.n_embed,head_size) * (1/torch.tensor(2.82)))\n",
    "\n",
    "    def forward(self,x):\n",
    "        query = x @ self.Q\n",
    "        key =   x @ self.K\n",
    "        value=  x @ self.V\n",
    "        \n",
    "        # hand implementation\n",
    "        # scale => sqrt head size\n",
    "        scale = 1 / torch.sqrt(self.head_size)\n",
    "\n",
    "        # we will not use any masking here as its an image\n",
    "        # and no dropout consideration in this implementation\n",
    "        comm = query @ key.transpose(-2,-1)\n",
    "        comm = comm* scale\n",
    "        soft_comm = torch.softmax(comm, dim=2)\n",
    "        att = soft_comm @ value\n",
    "        \n",
    "        return att"
   ],
   "metadata": {
    "collapsed": false,
    "ExecuteTime": {
     "end_time": "2024-05-24T21:27:31.877351Z",
     "start_time": "2024-05-24T21:27:31.863833Z"
    }
   },
   "id": "16392bd675f3c1b4"
  },
  {
   "cell_type": "code",
   "execution_count": 30,
   "outputs": [],
   "source": [
    "class Multihead(nn.Module):\n",
    "    def __init__(self,n_embed,n_heads):\n",
    "        super().__init__()\n",
    "        \n",
    "        self.n_embed = n_embed\n",
    "        self.n_heads = n_heads\n",
    "        self.head_size = self.n_embed // self.n_heads\n",
    " \n",
    "        self.multiheads = nn.ModuleList(\n",
    "            [SingleHead(self.n_embed,self.head_size)\n",
    "             for _ in range(self.n_heads)]\n",
    "        )\n",
    "\n",
    "    def forward(self,x):\n",
    "        return torch.cat([head(x) for head in self.multiheads],dim=2)"
   ],
   "metadata": {
    "collapsed": false,
    "ExecuteTime": {
     "end_time": "2024-05-24T21:27:32.304097Z",
     "start_time": "2024-05-24T21:27:32.286032Z"
    }
   },
   "id": "27305420fbae8f3d"
  },
  {
   "cell_type": "code",
   "execution_count": 31,
   "outputs": [],
   "source": [
    "# only multihead ->  skip connection -> layernorm\n",
    "# Batch norm : couples examples in and normalizes it .. (also has a regularization effect) but we need to keep a running mean to track new mean and sigma\n",
    "# layernorm : normalizes the features of each example (does not couple examples across the batch) more popular in transformers\n",
    "\n",
    "class TranformerBlock(nn.Module):\n",
    "    def __init__(self, n_embed,n_head):\n",
    "        super().__init__()\n",
    "        self.multi_head = Multihead(n_embed,n_head)\n",
    "        # i am not going to implement my own layer norm it wont be efficient and will be janky at best\n",
    "        self.norm = nn.LayerNorm(n_embed) # we want to normalize feeatures (each patch gets normalized)\n",
    "    \n",
    "    def forward(self,x):\n",
    "        # pass through multihead\n",
    "        attention = self.multi_head(x)\n",
    "        # skip connection and non linarity\n",
    "        attention = torch.relu( x + attention)\n",
    "        # layer norm\n",
    "        attention = self.norm(attention)\n",
    "        return attention # B , n_patch , n_embed\n",
    "        ..."
   ],
   "metadata": {
    "collapsed": false,
    "ExecuteTime": {
     "end_time": "2024-05-24T21:27:32.782416Z",
     "start_time": "2024-05-24T21:27:32.765635Z"
    }
   },
   "id": "d4ade622995ea740"
  },
  {
   "cell_type": "code",
   "execution_count": 41,
   "outputs": [],
   "source": [
    "# most of the comments are pasted verbatim from the paper\n",
    "class SmallVIT(nn.Module):\n",
    "    \n",
    "    def __init__(self):\n",
    "        super().__init__()\n",
    "        # patches\n",
    "        # embedding\n",
    "        self.vocab_size = torch.tensor(256) # 0 to 255 pixels\n",
    "        # each patch will only get one n_embed representation\n",
    "        self.n_embed = 32 # we will project each patch 16*16 to a 32 dimensional representation\n",
    "        # so the lookup table would be of the shape\n",
    "        # unlike in nlp where we embed token to a vector like below we would project matrix of patch size to a vector\n",
    "        # self.C = nn.Embedding(self.vocab_size, self.n_embed)\n",
    "        \n",
    "        self.C = nn.Parameter(torch.randn(self.vocab_size, self.n_embed) * 1/torch.sqrt(self.vocab_size) )\n",
    "        \n",
    "        # positional embedding\n",
    "        # the paper says Position embeddings are added to the patch embeddings to retain positional information. We use standard learnable 1D position embeddings, since we have not observed significant performance gains from using more advanced 2D-aware position embeddings \n",
    "        self.pe = nn.Parameter(torch.randn(1,4,self.n_embed)) # each pach and representation should get positional embedding\n",
    "        \n",
    "        # we use the standard approach of adding an extra learnable “classification token” to the sequence\n",
    "        self.classification_token = nn.Parameter(torch.randn(1, 1, self.n_embed))\n",
    "        # we will keep the step above optional .. i dont understand why we should use it yet.\n",
    "        \n",
    "        # transformer block\n",
    "        self.n_heads = 4 # we will use 4 heads for now\n",
    "        self.transformer_block = TranformerBlock(self.n_embed,self.n_heads)\n",
    "        \n",
    "        # MLP Head for final logit calculation\n",
    "        # n_patch * n_embed -> fer[\"emotion\"].nuinque() : 7\n",
    "        self.mlp_head = nn.Parameter(torch.randn(4*32, 7) * torch.sqrt(torch.tensor(4*32)))\n",
    "        \n",
    "        \n",
    "        \n",
    "        \n",
    "        ...\n",
    "       \n",
    "    def forward(self,X):\n",
    "        batch_size = X.shape[0]\n",
    "        # flatten the patches\n",
    "        patches = einops.rearrange(X,\"b p h w -> b p (h w)\")\n",
    "        # B , p_num , 256 @ 256 , 32\n",
    "        emb = patches @ self.C # B , p_num , n_embed\n",
    "        emb = emb + self.pe # kind of acts like a bias towards each patches.\n",
    "        \n",
    "        # 2 transformers\n",
    "        tf = self.transformer_block(emb)\n",
    "        tf = self.transformer_block(tf)\n",
    "        \n",
    "        # flatten it : across patches\n",
    "        tf = tf.view(batch_size,-1)\n",
    "        \n",
    "        # logits\n",
    "        logits = tf @ self.mlp_head\n",
    "        \n",
    "        \n",
    "        \n",
    "\n",
    "        # broadcasting steps in the above command\n",
    "        # B,p_n , p*p , n_embed\n",
    "        #1,4,32\n",
    "\n",
    "\n",
    "        return logits\n",
    "\n",
    "        \n",
    "        \n",
    "        \n",
    "        \n",
    "        "
   ],
   "metadata": {
    "collapsed": false,
    "ExecuteTime": {
     "end_time": "2024-05-24T21:31:05.563445Z",
     "start_time": "2024-05-24T21:31:05.536893Z"
    }
   },
   "id": "708d2dae03a90be5"
  },
  {
   "cell_type": "code",
   "execution_count": 43,
   "outputs": [
    {
     "name": "stdout",
     "output_type": "stream",
     "text": [
      "torch.Size([32, 4, 16, 16]) torch.Size([32])\n",
      "torch.Size([32, 7])\n"
     ]
    }
   ],
   "source": [
    "vit = SmallVIT() # testing the shapes in the forward pass\n",
    "with torch.no_grad():\n",
    "    for x_ex , lab in train_loader:\n",
    "        print(x_ex.shape,lab.shape)\n",
    "        out = vit(x_ex)\n",
    "        print(out.shape)\n",
    "        break"
   ],
   "metadata": {
    "collapsed": false,
    "ExecuteTime": {
     "end_time": "2024-05-24T21:31:25.065406Z",
     "start_time": "2024-05-24T21:31:24.936020Z"
    }
   },
   "id": "99ec8283022e4cb8"
  },
  {
   "cell_type": "code",
   "execution_count": 45,
   "outputs": [],
   "source": [
    "# specify loss function\n",
    "criterion = nn.CrossEntropyLoss()\n",
    "\n",
    "# define optimizer\n",
    "# only train the parameters with requires_grad set to True\n",
    "optimizer = torch.optim.Adam(filter(lambda p: p.requires_grad, vit.parameters()), lr=0.0001)\n"
   ],
   "metadata": {
    "collapsed": false,
    "ExecuteTime": {
     "end_time": "2024-05-24T21:33:30.154730Z",
     "start_time": "2024-05-24T21:33:30.144498Z"
    }
   },
   "id": "b1e688225cc3448a"
  },
  {
   "cell_type": "code",
   "execution_count": 46,
   "outputs": [
    {
     "data": {
      "text/plain": "False"
     },
     "execution_count": 46,
     "metadata": {},
     "output_type": "execute_result"
    }
   ],
   "source": [
    "# Check for a GPU\n",
    "train_on_gpu = torch.cuda.is_available()\n",
    "train_on_gpu"
   ],
   "metadata": {
    "collapsed": false,
    "ExecuteTime": {
     "end_time": "2024-05-24T21:33:43.451132Z",
     "start_time": "2024-05-24T21:33:43.416277Z"
    }
   },
   "id": "9d80d8b310e71569"
  },
  {
   "cell_type": "code",
   "execution_count": 47,
   "outputs": [
    {
     "name": "stderr",
     "output_type": "stream",
     "text": [
      "898it [00:41, 21.63it/s]\n"
     ]
    },
    {
     "name": "stdout",
     "output_type": "stream",
     "text": [
      "Epoch: 1 \t Training Loss: 30.118047 \t Validation Loss: 10.205763\n"
     ]
    },
    {
     "name": "stderr",
     "output_type": "stream",
     "text": [
      "898it [00:40, 22.24it/s]\n"
     ]
    },
    {
     "name": "stdout",
     "output_type": "stream",
     "text": [
      "Epoch: 2 \t Training Loss: 7.936310 \t Validation Loss: 6.484917\n"
     ]
    },
    {
     "name": "stderr",
     "output_type": "stream",
     "text": [
      "898it [00:41, 21.88it/s]\n"
     ]
    },
    {
     "name": "stdout",
     "output_type": "stream",
     "text": [
      "Epoch: 3 \t Training Loss: 5.382563 \t Validation Loss: 4.469577\n"
     ]
    },
    {
     "name": "stderr",
     "output_type": "stream",
     "text": [
      "898it [01:11, 12.50it/s]\n"
     ]
    },
    {
     "name": "stdout",
     "output_type": "stream",
     "text": [
      "Epoch: 4 \t Training Loss: 4.113414 \t Validation Loss: 4.007691\n"
     ]
    },
    {
     "name": "stderr",
     "output_type": "stream",
     "text": [
      "898it [00:39, 22.48it/s]\n"
     ]
    },
    {
     "name": "stdout",
     "output_type": "stream",
     "text": [
      "Epoch: 5 \t Training Loss: 3.492097 \t Validation Loss: 3.252780\n"
     ]
    },
    {
     "name": "stderr",
     "output_type": "stream",
     "text": [
      "898it [00:39, 22.63it/s]\n"
     ]
    },
    {
     "name": "stdout",
     "output_type": "stream",
     "text": [
      "Epoch: 6 \t Training Loss: 3.114487 \t Validation Loss: 2.989989\n"
     ]
    },
    {
     "name": "stderr",
     "output_type": "stream",
     "text": [
      "898it [00:39, 22.71it/s]\n"
     ]
    },
    {
     "name": "stdout",
     "output_type": "stream",
     "text": [
      "Epoch: 7 \t Training Loss: 2.831545 \t Validation Loss: 2.705537\n"
     ]
    },
    {
     "name": "stderr",
     "output_type": "stream",
     "text": [
      "898it [00:44, 20.35it/s]\n"
     ]
    },
    {
     "name": "stdout",
     "output_type": "stream",
     "text": [
      "Epoch: 8 \t Training Loss: 2.609739 \t Validation Loss: 2.536017\n"
     ]
    },
    {
     "name": "stderr",
     "output_type": "stream",
     "text": [
      "898it [00:40, 22.40it/s]\n"
     ]
    },
    {
     "name": "stdout",
     "output_type": "stream",
     "text": [
      "Epoch: 9 \t Training Loss: 2.459895 \t Validation Loss: 2.427808\n"
     ]
    },
    {
     "name": "stderr",
     "output_type": "stream",
     "text": [
      "898it [00:40, 22.33it/s]\n"
     ]
    },
    {
     "name": "stdout",
     "output_type": "stream",
     "text": [
      "Epoch: 10 \t Training Loss: 2.339044 \t Validation Loss: 2.485343\n"
     ]
    }
   ],
   "source": [
    "# Train model\n",
    "\n",
    "# number of epochs ... this needs to be way higher .\n",
    "# mostly transformer based model are done for really high epochs\n",
    "n_epoch = 10\n",
    "\n",
    "train_loss_list, valid_loss_list = [], []\n",
    "\n",
    "# move model to GPU\n",
    "if train_on_gpu:\n",
    "    vit.to('cuda')\n",
    "\n",
    "# prepare model for training\n",
    "vit.train()\n",
    "\n",
    "for e in range(n_epoch):\n",
    "    train_loss = 0.0\n",
    "    valid_loss = 0.0\n",
    "\n",
    "    # get batch data\n",
    "    for i, (images, targets) in tqdm( enumerate(train_loader)):\n",
    "\n",
    "        # move to gpu if available\n",
    "        if train_on_gpu:\n",
    "            images, targets = images.to('cuda'), targets.to('cuda')\n",
    "\n",
    "        # clear grad\n",
    "        optimizer.zero_grad()\n",
    "\n",
    "        # feedforward data\n",
    "        outputs = vit(images)\n",
    "\n",
    "        # calculate loss\n",
    "        loss = criterion(outputs, targets)\n",
    "\n",
    "        # backward pass, calculate gradients\n",
    "        loss.backward()\n",
    "\n",
    "        # update weights\n",
    "        optimizer.step()\n",
    "\n",
    "        # track loss\n",
    "        train_loss += loss.item()\n",
    "\n",
    "    # set model to evaluation mode\n",
    "    vit.eval()\n",
    "\n",
    "    # validate model\n",
    "    for images, targets in valid_loader:\n",
    "\n",
    "        # move to gpu if available\n",
    "        if train_on_gpu:\n",
    "            images = images.to('cuda')\n",
    "            targets = targets.to('cuda')\n",
    "\n",
    "        # turn off gradients\n",
    "        with torch.no_grad():\n",
    "\n",
    "            outputs = vit(images)\n",
    "            loss = criterion(outputs, targets)\n",
    "            valid_loss += loss.item()\n",
    "\n",
    "    # set model back to training mode\n",
    "    vit.train()\n",
    "\n",
    "    # get average loss values\n",
    "    train_loss = train_loss / len(train_loader)\n",
    "    valid_loss = valid_loss / len(valid_loader)\n",
    "\n",
    "    train_loss_list.append(train_loss)\n",
    "    valid_loss_list.append(valid_loss)\n",
    "\n",
    "    # output training statistics for epoch\n",
    "    print('Epoch: {} \\t Training Loss: {:.6f} \\t Validation Loss: {:.6f}'\n",
    "          .format( (e+1), train_loss, valid_loss))\n",
    "\n"
   ],
   "metadata": {
    "collapsed": false,
    "ExecuteTime": {
     "end_time": "2024-05-24T21:42:32.893942Z",
     "start_time": "2024-05-24T21:34:54.607021Z"
    }
   },
   "id": "a5a63ca935173ade"
  },
  {
   "cell_type": "code",
   "execution_count": 48,
   "outputs": [],
   "source": [
    "torch.save(vit.state_dict(), \"./hand_vit_weights.pth\")"
   ],
   "metadata": {
    "collapsed": false,
    "ExecuteTime": {
     "end_time": "2024-05-24T21:42:49.118372Z",
     "start_time": "2024-05-24T21:42:49.093491Z"
    }
   },
   "id": "b3a0597f6ad083c1"
  },
  {
   "cell_type": "code",
   "execution_count": 49,
   "outputs": [
    {
     "data": {
      "text/plain": "<Figure size 640x480 with 1 Axes>",
      "image/png": "[encoded data removed]"
     },
     "metadata": {},
     "output_type": "display_data"
    }
   ],
   "source": [
    "# visualize loss statistics\n",
    "\n",
    "plt.title(\"Training and Validation Loss\")\n",
    "plt.xlabel(\"Epoch\")\n",
    "plt.ylabel(\"Loss\")\n",
    "\n",
    "# plot losses\n",
    "x = list(range(1, n_epoch + 1))\n",
    "plt.plot(x, train_loss_list, color =\"blue\", label='Train')\n",
    "plt.plot(x, valid_loss_list, color=\"orange\", label='Validation')\n",
    "plt.legend(loc=\"upper right\")\n",
    "plt.xticks(x)\n",
    "\n",
    "plt.show()"
   ],
   "metadata": {
    "collapsed": false,
    "ExecuteTime": {
     "end_time": "2024-05-24T21:43:03.696418Z",
     "start_time": "2024-05-24T21:43:03.485268Z"
    }
   },
   "id": "865aedfaa8afae48"
  },
  {
   "cell_type": "code",
   "execution_count": 50,
   "outputs": [
    {
     "name": "stderr",
     "output_type": "stream",
     "text": [
      "100%|██████████| 113/113 [00:02<00:00, 54.60it/s]"
     ]
    },
    {
     "name": "stdout",
     "output_type": "stream",
     "text": [
      "Test Loss: 2.496379\n"
     ]
    },
    {
     "name": "stderr",
     "output_type": "stream",
     "text": [
      "\n"
     ]
    }
   ],
   "source": [
    "# test loss (showed no overfitting)\n",
    "import torch.nn.functional as F\n",
    "# prepare model for evaluation\n",
    "vit.eval()\n",
    "\n",
    "test_loss = 0.0\n",
    "accuracy = 0\n",
    "\n",
    "# number of classes\n",
    "n_class = 7\n",
    "\n",
    "class_correct = np.zeros(n_class)\n",
    "class_total = np.zeros(n_class)\n",
    "\n",
    "# move model back to cpu\n",
    "vit = vit.to('cpu')\n",
    "\n",
    "# test model\n",
    "for images, targets in tqdm(test_loader):\n",
    "\n",
    "    # get outputs\n",
    "    outputs = vit(images)\n",
    "\n",
    "    # calculate loss\n",
    "    loss = criterion(outputs, targets)\n",
    "\n",
    "    # track loss\n",
    "    test_loss += loss.item()\n",
    "\n",
    "    # get predictions from probabilities\n",
    "    preds = torch.argmax(F.softmax(outputs, dim=1), dim=1)\n",
    "\n",
    "    # get correct predictions\n",
    "    correct_preds = (preds == targets).type(torch.FloatTensor)\n",
    "\n",
    "    # calculate and accumulate accuracy\n",
    "    accuracy += torch.mean(correct_preds).item() * 100\n",
    "\n",
    "    # calculate test accuracy for each class\n",
    "    for c in range(n_class):\n",
    "\n",
    "        targets = targets.to('cpu')\n",
    "\n",
    "        class_total[c] += (targets == c).sum()\n",
    "        class_correct[c] += ((correct_preds) * (targets == c)).sum()\n",
    "\n",
    "# get average accuracy\n",
    "accuracy = accuracy / len(test_loader)\n",
    "\n",
    "# get average loss\n",
    "test_loss = test_loss / len(test_loader)\n",
    "\n",
    "# output test loss statistics\n",
    "print('Test Loss: {:.6f}'.format(test_loss))\n"
   ],
   "metadata": {
    "collapsed": false,
    "ExecuteTime": {
     "end_time": "2024-05-24T21:45:20.996990Z",
     "start_time": "2024-05-24T21:45:18.918729Z"
    }
   },
   "id": "7284eba4fe52d5d5"
  },
  {
   "cell_type": "code",
   "execution_count": 51,
   "outputs": [],
   "source": [
    "classes =  [\"Angry\",\"Disgust\", \"Fear\", \"Happy\", \"Sad\", \"Surprise\", \"Neutral\"]"
   ],
   "metadata": {
    "collapsed": false,
    "ExecuteTime": {
     "end_time": "2024-05-24T21:45:35.025154Z",
     "start_time": "2024-05-24T21:45:35.006165Z"
    }
   },
   "id": "a4fe5e6285225a8a"
  },
  {
   "cell_type": "code",
   "execution_count": 52,
   "outputs": [
    {
     "name": "stdout",
     "output_type": "stream",
     "text": [
      "Test Accuracy of Classes\n",
      "\n",
      "Angry\t: 12% \t (61/491)\n",
      "Disgust\t: 0% \t (0/55)\n",
      "Fear\t: 31% \t (168/528)\n",
      "Happy\t: 62% \t (551/879)\n",
      "Sad\t: 11% \t (68/594)\n",
      "Surprise\t: 13% \t (56/416)\n",
      "Neutral\t: 10% \t (64/626)\n",
      "\n",
      "Test Accuracy of Dataset: \t 26% \t (968/3589)\n"
     ]
    }
   ],
   "source": [
    "class_accuracy = class_correct / class_total\n",
    "\n",
    "print('Test Accuracy of Classes')\n",
    "print()\n",
    "\n",
    "for c in range(n_class):\n",
    "    print('{}\\t: {}% \\t ({}/{})'.format(classes[c],\n",
    "                                        int(class_accuracy[c] * 100), int(class_correct[c]), int(class_total[c])) )\n",
    "\n",
    "print()\n",
    "print('Test Accuracy of Dataset: \\t {}% \\t ({}/{})'.format(int(accuracy),\n",
    "                                                           int(np.sum(class_correct)), int(np.sum(class_total)) ))"
   ],
   "metadata": {
    "collapsed": false,
    "ExecuteTime": {
     "end_time": "2024-05-24T21:45:44.995662Z",
     "start_time": "2024-05-24T21:45:44.986055Z"
    }
   },
   "id": "bb2ca6c980768ddf"
  },
  {
   "cell_type": "code",
   "execution_count": 97,
   "outputs": [],
   "source": [
    "# we will try to improve on this in vit_pretrained notebook"
   ],
   "metadata": {
    "collapsed": false,
    "ExecuteTime": {
     "end_time": "2024-05-19T19:53:52.760111Z",
     "start_time": "2024-05-19T19:53:52.741244Z"
    }
   },
   "id": "b51ea22b3d8505ec"
  },
  {
   "cell_type": "markdown",
   "source": [
    "# Appendix"
   ],
   "metadata": {
    "collapsed": false
   },
   "id": "caa46b1b0a4800d5"
  },
  {
   "cell_type": "code",
   "execution_count": 98,
   "outputs": [],
   "source": [
    "# unit teset"
   ],
   "metadata": {
    "collapsed": false,
    "ExecuteTime": {
     "end_time": "2024-05-19T19:53:54.512950Z",
     "start_time": "2024-05-19T19:53:54.491947Z"
    }
   },
   "id": "3331f138c7945af8"
  },
  {
   "cell_type": "markdown",
   "source": [
    "# single head unit test"
   ],
   "metadata": {
    "collapsed": false
   },
   "id": "90be15ac468583f4"
  },
  {
   "cell_type": "code",
   "execution_count": 85,
   "outputs": [],
   "source": [
    "g=torch.Generator().manual_seed(123)\n",
    "query, key, value = torch.randn(2, 3, 8 , generator = g), torch.randn(2, 3, 8, generator = g), torch.randn(2, 3, 8 , generator = g)"
   ],
   "metadata": {
    "collapsed": false,
    "ExecuteTime": {
     "end_time": "2024-05-19T14:17:54.553242Z",
     "start_time": "2024-05-19T14:17:54.534780Z"
    }
   },
   "id": "5e78077ab0d21384"
  },
  {
   "cell_type": "code",
   "execution_count": 86,
   "outputs": [
    {
     "data": {
      "text/plain": "torch.Size([2, 3, 8])"
     },
     "execution_count": 86,
     "metadata": {},
     "output_type": "execute_result"
    }
   ],
   "source": [
    "# pytorch implementation\n",
    "py_sa = nn.functional.scaled_dot_product_attention(query, key, value)\n",
    "py_sa.shape"
   ],
   "metadata": {
    "collapsed": false,
    "ExecuteTime": {
     "end_time": "2024-05-19T14:17:54.553445Z",
     "start_time": "2024-05-19T14:17:54.540017Z"
    }
   },
   "id": "3eea756ed8af4a46"
  },
  {
   "cell_type": "code",
   "execution_count": 87,
   "outputs": [
    {
     "name": "stdout",
     "output_type": "stream",
     "text": [
      "torch.Size([2, 3, 8])\n"
     ]
    }
   ],
   "source": [
    "def single_head(query, key,value):\n",
    "    head_size = torch.tensor(query.shape[-1])\n",
    "    # hand implementation\n",
    "    # scale => sqrt head size\n",
    "    scale = 1 / torch.sqrt(head_size)\n",
    "\n",
    "    # we will not use any masking here as its an image\n",
    "    # and no dropout consideration in this implementation\n",
    "    comm = query @ key.transpose(-2,-1)\n",
    "    comm = comm* scale\n",
    "    soft_comm = torch.softmax(comm, dim=2)\n",
    "    att = soft_comm @ value\n",
    "    print(att.shape)\n",
    "    return att\n",
    "sh  = single_head(query,key,value)"
   ],
   "metadata": {
    "collapsed": false,
    "ExecuteTime": {
     "end_time": "2024-05-19T14:17:54.553873Z",
     "start_time": "2024-05-19T14:17:54.547273Z"
    }
   },
   "id": "c7a976dd81f53573"
  },
  {
   "cell_type": "code",
   "execution_count": 88,
   "outputs": [
    {
     "data": {
      "text/plain": "True"
     },
     "execution_count": 88,
     "metadata": {},
     "output_type": "execute_result"
    }
   ],
   "source": [
    "torch.allclose(py_sa , sh)"
   ],
   "metadata": {
    "collapsed": false,
    "ExecuteTime": {
     "end_time": "2024-05-19T14:17:54.568500Z",
     "start_time": "2024-05-19T14:17:54.553710Z"
    }
   },
   "id": "32c3987f6cb06e1f"
  },
  {
   "cell_type": "code",
   "execution_count": 89,
   "outputs": [
    {
     "data": {
      "text/plain": "7"
     },
     "execution_count": 89,
     "metadata": {},
     "output_type": "execute_result"
    }
   ],
   "source": [
    "fer_train[\"emotion\"].nunique()"
   ],
   "metadata": {
    "collapsed": false,
    "ExecuteTime": {
     "end_time": "2024-05-19T14:17:54.568612Z",
     "start_time": "2024-05-19T14:17:54.557308Z"
    }
   },
   "id": "3603319380012538"
  },
  {
   "cell_type": "code",
   "execution_count": 89,
   "outputs": [],
   "source": [],
   "metadata": {
    "collapsed": false,
    "ExecuteTime": {
     "end_time": "2024-05-19T14:17:54.568745Z",
     "start_time": "2024-05-19T14:17:54.561801Z"
    }
   },
   "id": "583dac6325168cf5"
  }
 ],
 "metadata": {
  "kernelspec": {
   "display_name": "Python 3",
   "language": "python",
   "name": "python3"
  },
  "language_info": {
   "codemirror_mode": {
    "name": "ipython",
    "version": 2
   },
   "file_extension": ".py",
   "mimetype": "text/x-python",
   "name": "python",
   "nbconvert_exporter": "python",
   "pygments_lexer": "ipython2",
   "version": "2.7.6"
  }
 },
 "nbformat": 4,
 "nbformat_minor": 5
}
