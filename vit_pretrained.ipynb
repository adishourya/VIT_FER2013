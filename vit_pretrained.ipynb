{
 "cells": [
  {
   "cell_type": "code",
   "source": [
    "# google drive code\n",
    "from google.colab import drive\n",
    "drive.mount('/gdrive')\n",
    "%cd /gdrive"
   ],
   "metadata": {
    "colab": {
     "base_uri": "https://localhost:8080/"
    },
    "id": "o8hV2wIygT12",
    "outputId": "b34e3d6d-5aa0-463f-d1d5-20c2c79a9713"
   },
   "id": "o8hV2wIygT12",
   "execution_count": 1,
   "outputs": [
    {
     "output_type": "stream",
     "name": "stdout",
     "text": [
      "Mounted at /gdrive\n",
      "/gdrive\n"
     ]
    }
   ]
  },
  {
   "cell_type": "code",
   "source": [
    "!ls MyDrive/ | grep archive"
   ],
   "metadata": {
    "colab": {
     "base_uri": "https://localhost:8080/"
    },
    "id": "RB79JhHfgTyt",
    "outputId": "d3848148-b7ca-49e7-8fe6-774f332ce393"
   },
   "id": "RB79JhHfgTyt",
   "execution_count": 2,
   "outputs": [
    {
     "output_type": "stream",
     "name": "stdout",
     "text": [
      "archive.zip\n"
     ]
    }
   ]
  },
  {
   "cell_type": "code",
   "source": [
    "# keep the extracted file in colab's environment to not pollute your google drive\n",
    "%cp MyDrive/archive.zip ../"
   ],
   "metadata": {
    "id": "wqGvXg2GgTvH"
   },
   "id": "wqGvXg2GgTvH",
   "execution_count": 3,
   "outputs": []
  },
  {
   "cell_type": "code",
   "source": [
    "%cd ../\n",
    "!unzip archive.zip"
   ],
   "metadata": {
    "colab": {
     "base_uri": "https://localhost:8080/"
    },
    "id": "Hqz3O401gTrl",
    "outputId": "f7b57012-3b12-45d0-cdd8-2af8dd55d07e"
   },
   "id": "Hqz3O401gTrl",
   "execution_count": 4,
   "outputs": [
    {
     "output_type": "stream",
     "name": "stdout",
     "text": [
      "/\n",
      "Archive:  archive.zip\n",
      "   creating: archive/\n",
      "  inflating: __MACOSX/._archive      \n",
      "   creating: archive/fer2013/\n",
      "  inflating: __MACOSX/archive/._fer2013  \n",
      "  inflating: archive/Submission.csv  \n",
      "  inflating: __MACOSX/archive/._Submission.csv  \n",
      "   creating: archive/fer2013/fer2013/\n",
      "  inflating: __MACOSX/archive/fer2013/._fer2013  \n",
      "  inflating: archive/fer2013/fer2013/fer2013.csv  \n",
      "  inflating: __MACOSX/archive/fer2013/fer2013/._fer2013.csv  \n",
      "  inflating: archive/fer2013/fer2013/fer2013.bib  \n",
      "  inflating: __MACOSX/archive/fer2013/fer2013/._fer2013.bib  \n",
      "  inflating: archive/fer2013/fer2013/README  \n",
      "  inflating: __MACOSX/archive/fer2013/fer2013/._README  \n"
     ]
    }
   ]
  },
  {
   "cell_type": "code",
   "source": [
    "!ls | grep archive"
   ],
   "metadata": {
    "colab": {
     "base_uri": "https://localhost:8080/"
    },
    "id": "DTW0UjnpghFe",
    "outputId": "a1b79ec0-b467-4316-a48e-677da37d3e05"
   },
   "id": "DTW0UjnpghFe",
   "execution_count": 5,
   "outputs": [
    {
     "output_type": "stream",
     "name": "stdout",
     "text": [
      "archive\n",
      "archive.zip\n"
     ]
    }
   ]
  },
  {
   "cell_type": "code",
   "source": [
    "#------------------ if you see archive and archive.zip you cant start running the code below--------------"
   ],
   "metadata": {
    "id": "nvphgHgughBZ"
   },
   "id": "nvphgHgughBZ",
   "execution_count": 6,
   "outputs": []
  },
  {
   "cell_type": "code",
   "source": [
    "!pip install einops"
   ],
   "metadata": {
    "colab": {
     "base_uri": "https://localhost:8080/"
    },
    "id": "WBmeCKdDgTh1",
    "outputId": "22a64fb9-a665-4add-de4b-1607abae0acb"
   },
   "id": "WBmeCKdDgTh1",
   "execution_count": 7,
   "outputs": [
    {
     "output_type": "stream",
     "name": "stdout",
     "text": [
      "Collecting einops\n",
      "  Downloading einops-0.8.0-py3-none-any.whl (43 kB)\n",
      "\u001B[?25l     \u001B[90m━━━━━━━━━━━━━━━━━━━━━━━━━━━━━━━━━━━━━━━━\u001B[0m \u001B[32m0.0/43.2 kB\u001B[0m \u001B[31m?\u001B[0m eta \u001B[36m-:--:--\u001B[0m\r\u001B[2K     \u001B[90m━━━━━━━━━━━━━━━━━━━━━━━━━━━━━━━━━━━━━━━━\u001B[0m \u001B[32m43.2/43.2 kB\u001B[0m \u001B[31m2.4 MB/s\u001B[0m eta \u001B[36m0:00:00\u001B[0m\n",
      "\u001B[?25hInstalling collected packages: einops\n",
      "Successfully installed einops-0.8.0\n"
     ]
    }
   ]
  },
  {
   "cell_type": "code",
   "source": [],
   "metadata": {
    "id": "nMeHSwqogqhz"
   },
   "id": "nMeHSwqogqhz",
   "execution_count": 7,
   "outputs": []
  },
  {
   "cell_type": "code",
   "source": [],
   "metadata": {
    "id": "Hf5PiG4igqaY"
   },
   "id": "Hf5PiG4igqaY",
   "execution_count": 7,
   "outputs": []
  },
  {
   "cell_type": "code",
   "source": [],
   "metadata": {
    "id": "NbC4gHdjgqIG"
   },
   "id": "NbC4gHdjgqIG",
   "execution_count": 7,
   "outputs": []
  },
  {
   "cell_type": "markdown",
   "source": [
    "we will show forward pass by hand . because we have to use a pretrained model to make good enough classification"
   ],
   "metadata": {
    "id": "R1UwZJ_lgt1k"
   },
   "id": "R1UwZJ_lgt1k"
  },
  {
   "cell_type": "code",
   "execution_count": 8,
   "id": "initial_id",
   "metadata": {
    "collapsed": true,
    "ExecuteTime": {
     "end_time": "2024-05-19T10:44:15.061058Z",
     "start_time": "2024-05-19T10:44:15.039380Z"
    },
    "id": "initial_id"
   },
   "outputs": [],
   "source": [
    "import numpy as np, pandas as pd\n",
    "import torch\n",
    "import torch.optim as optim\n",
    "import torch.optim.lr_scheduler as lr_scheduler\n",
    "import torch.nn as nn\n",
    "import torch.utils as utils\n",
    "import einops\n",
    "\n",
    "from torchvision.transforms import transforms\n",
    "import torchvision.models as models\n",
    "from tqdm import tqdm\n",
    "import matplotlib.pyplot as plt\n",
    "import seaborn as sns"
   ]
  },
  {
   "cell_type": "code",
   "execution_count": 9,
   "outputs": [
    {
     "output_type": "execute_result",
     "data": {
      "text/plain": [
       "   emotion                                             pixels     Usage\n",
       "0        0  70 80 82 72 58 58 60 63 54 58 60 48 89 115 121...  Training\n",
       "1        0  151 150 147 155 148 133 111 140 170 174 182 15...  Training"
      ],
      "text/html": [
       "\n",
       "  <div id=\"df-95c6b8fe-2e2c-4ea9-a1ec-6bd4a9931d28\" class=\"colab-df-container\">\n",
       "    <div>\n",
       "<style scoped>\n",
       "    .dataframe tbody tr th:only-of-type {\n",
       "        vertical-align: middle;\n",
       "    }\n",
       "\n",
       "    .dataframe tbody tr th {\n",
       "        vertical-align: top;\n",
       "    }\n",
       "\n",
       "    .dataframe thead th {\n",
       "        text-align: right;\n",
       "    }\n",
       "</style>\n",
       "<table border=\"1\" class=\"dataframe\">\n",
       "  <thead>\n",
       "    <tr style=\"text-align: right;\">\n",
       "      <th></th>\n",
       "      <th>emotion</th>\n",
       "      <th>pixels</th>\n",
       "      <th>Usage</th>\n",
       "    </tr>\n",
       "  </thead>\n",
       "  <tbody>\n",
       "    <tr>\n",
       "      <th>0</th>\n",
       "      <td>0</td>\n",
       "      <td>70 80 82 72 58 58 60 63 54 58 60 48 89 115 121...</td>\n",
       "      <td>Training</td>\n",
       "    </tr>\n",
       "    <tr>\n",
       "      <th>1</th>\n",
       "      <td>0</td>\n",
       "      <td>151 150 147 155 148 133 111 140 170 174 182 15...</td>\n",
       "      <td>Training</td>\n",
       "    </tr>\n",
       "  </tbody>\n",
       "</table>\n",
       "</div>\n",
       "    <div class=\"colab-df-buttons\">\n",
       "\n",
       "  <div class=\"colab-df-container\">\n",
       "    <button class=\"colab-df-convert\" onclick=\"convertToInteractive('df-95c6b8fe-2e2c-4ea9-a1ec-6bd4a9931d28')\"\n",
       "            title=\"Convert this dataframe to an interactive table.\"\n",
       "            style=\"display:none;\">\n",
       "\n",
       "  <svg xmlns=\"http://www.w3.org/2000/svg\" height=\"24px\" viewBox=\"0 -960 960 960\">\n",
       "    <path d=\"M120-120v-720h720v720H120Zm60-500h600v-160H180v160Zm220 220h160v-160H400v160Zm0 220h160v-160H400v160ZM180-400h160v-160H180v160Zm440 0h160v-160H620v160ZM180-180h160v-160H180v160Zm440 0h160v-160H620v160Z\"/>\n",
       "  </svg>\n",
       "    </button>\n",
       "\n",
       "  <style>\n",
       "    .colab-df-container {\n",
       "      display:flex;\n",
       "      gap: 12px;\n",
       "    }\n",
       "\n",
       "    .colab-df-convert {\n",
       "      background-color: #E8F0FE;\n",
       "      border: none;\n",
       "      border-radius: 50%;\n",
       "      cursor: pointer;\n",
       "      display: none;\n",
       "      fill: #1967D2;\n",
       "      height: 32px;\n",
       "      padding: 0 0 0 0;\n",
       "      width: 32px;\n",
       "    }\n",
       "\n",
       "    .colab-df-convert:hover {\n",
       "      background-color: #E2EBFA;\n",
       "      box-shadow: 0px 1px 2px rgba(60, 64, 67, 0.3), 0px 1px 3px 1px rgba(60, 64, 67, 0.15);\n",
       "      fill: #174EA6;\n",
       "    }\n",
       "\n",
       "    .colab-df-buttons div {\n",
       "      margin-bottom: 4px;\n",
       "    }\n",
       "\n",
       "    [theme=dark] .colab-df-convert {\n",
       "      background-color: #3B4455;\n",
       "      fill: #D2E3FC;\n",
       "    }\n",
       "\n",
       "    [theme=dark] .colab-df-convert:hover {\n",
       "      background-color: #434B5C;\n",
       "      box-shadow: 0px 1px 3px 1px rgba(0, 0, 0, 0.15);\n",
       "      filter: drop-shadow(0px 1px 2px rgba(0, 0, 0, 0.3));\n",
       "      fill: #FFFFFF;\n",
       "    }\n",
       "  </style>\n",
       "\n",
       "    <script>\n",
       "      const buttonEl =\n",
       "        document.querySelector('#df-95c6b8fe-2e2c-4ea9-a1ec-6bd4a9931d28 button.colab-df-convert');\n",
       "      buttonEl.style.display =\n",
       "        google.colab.kernel.accessAllowed ? 'block' : 'none';\n",
       "\n",
       "      async function convertToInteractive(key) {\n",
       "        const element = document.querySelector('#df-95c6b8fe-2e2c-4ea9-a1ec-6bd4a9931d28');\n",
       "        const dataTable =\n",
       "          await google.colab.kernel.invokeFunction('convertToInteractive',\n",
       "                                                    [key], {});\n",
       "        if (!dataTable) return;\n",
       "\n",
       "        const docLinkHtml = 'Like what you see? Visit the ' +\n",
       "          '<a target=\"_blank\" href=https://colab.research.google.com/notebooks/data_table.ipynb>data table notebook</a>'\n",
       "          + ' to learn more about interactive tables.';\n",
       "        element.innerHTML = '';\n",
       "        dataTable['output_type'] = 'display_data';\n",
       "        await google.colab.output.renderOutput(dataTable, element);\n",
       "        const docLink = document.createElement('div');\n",
       "        docLink.innerHTML = docLinkHtml;\n",
       "        element.appendChild(docLink);\n",
       "      }\n",
       "    </script>\n",
       "  </div>\n",
       "\n",
       "\n",
       "<div id=\"df-2079ba1a-2d83-4244-8932-0a332d630f72\">\n",
       "  <button class=\"colab-df-quickchart\" onclick=\"quickchart('df-2079ba1a-2d83-4244-8932-0a332d630f72')\"\n",
       "            title=\"Suggest charts\"\n",
       "            style=\"display:none;\">\n",
       "\n",
       "<svg xmlns=\"http://www.w3.org/2000/svg\" height=\"24px\"viewBox=\"0 0 24 24\"\n",
       "     width=\"24px\">\n",
       "    <g>\n",
       "        <path d=\"M19 3H5c-1.1 0-2 .9-2 2v14c0 1.1.9 2 2 2h14c1.1 0 2-.9 2-2V5c0-1.1-.9-2-2-2zM9 17H7v-7h2v7zm4 0h-2V7h2v10zm4 0h-2v-4h2v4z\"/>\n",
       "    </g>\n",
       "</svg>\n",
       "  </button>\n",
       "\n",
       "<style>\n",
       "  .colab-df-quickchart {\n",
       "      --bg-color: #E8F0FE;\n",
       "      --fill-color: #1967D2;\n",
       "      --hover-bg-color: #E2EBFA;\n",
       "      --hover-fill-color: #174EA6;\n",
       "      --disabled-fill-color: #AAA;\n",
       "      --disabled-bg-color: #DDD;\n",
       "  }\n",
       "\n",
       "  [theme=dark] .colab-df-quickchart {\n",
       "      --bg-color: #3B4455;\n",
       "      --fill-color: #D2E3FC;\n",
       "      --hover-bg-color: #434B5C;\n",
       "      --hover-fill-color: #FFFFFF;\n",
       "      --disabled-bg-color: #3B4455;\n",
       "      --disabled-fill-color: #666;\n",
       "  }\n",
       "\n",
       "  .colab-df-quickchart {\n",
       "    background-color: var(--bg-color);\n",
       "    border: none;\n",
       "    border-radius: 50%;\n",
       "    cursor: pointer;\n",
       "    display: none;\n",
       "    fill: var(--fill-color);\n",
       "    height: 32px;\n",
       "    padding: 0;\n",
       "    width: 32px;\n",
       "  }\n",
       "\n",
       "  .colab-df-quickchart:hover {\n",
       "    background-color: var(--hover-bg-color);\n",
       "    box-shadow: 0 1px 2px rgba(60, 64, 67, 0.3), 0 1px 3px 1px rgba(60, 64, 67, 0.15);\n",
       "    fill: var(--button-hover-fill-color);\n",
       "  }\n",
       "\n",
       "  .colab-df-quickchart-complete:disabled,\n",
       "  .colab-df-quickchart-complete:disabled:hover {\n",
       "    background-color: var(--disabled-bg-color);\n",
       "    fill: var(--disabled-fill-color);\n",
       "    box-shadow: none;\n",
       "  }\n",
       "\n",
       "  .colab-df-spinner {\n",
       "    border: 2px solid var(--fill-color);\n",
       "    border-color: transparent;\n",
       "    border-bottom-color: var(--fill-color);\n",
       "    animation:\n",
       "      spin 1s steps(1) infinite;\n",
       "  }\n",
       "\n",
       "  @keyframes spin {\n",
       "    0% {\n",
       "      border-color: transparent;\n",
       "      border-bottom-color: var(--fill-color);\n",
       "      border-left-color: var(--fill-color);\n",
       "    }\n",
       "    20% {\n",
       "      border-color: transparent;\n",
       "      border-left-color: var(--fill-color);\n",
       "      border-top-color: var(--fill-color);\n",
       "    }\n",
       "    30% {\n",
       "      border-color: transparent;\n",
       "      border-left-color: var(--fill-color);\n",
       "      border-top-color: var(--fill-color);\n",
       "      border-right-color: var(--fill-color);\n",
       "    }\n",
       "    40% {\n",
       "      border-color: transparent;\n",
       "      border-right-color: var(--fill-color);\n",
       "      border-top-color: var(--fill-color);\n",
       "    }\n",
       "    60% {\n",
       "      border-color: transparent;\n",
       "      border-right-color: var(--fill-color);\n",
       "    }\n",
       "    80% {\n",
       "      border-color: transparent;\n",
       "      border-right-color: var(--fill-color);\n",
       "      border-bottom-color: var(--fill-color);\n",
       "    }\n",
       "    90% {\n",
       "      border-color: transparent;\n",
       "      border-bottom-color: var(--fill-color);\n",
       "    }\n",
       "  }\n",
       "</style>\n",
       "\n",
       "  <script>\n",
       "    async function quickchart(key) {\n",
       "      const quickchartButtonEl =\n",
       "        document.querySelector('#' + key + ' button');\n",
       "      quickchartButtonEl.disabled = true;  // To prevent multiple clicks.\n",
       "      quickchartButtonEl.classList.add('colab-df-spinner');\n",
       "      try {\n",
       "        const charts = await google.colab.kernel.invokeFunction(\n",
       "            'suggestCharts', [key], {});\n",
       "      } catch (error) {\n",
       "        console.error('Error during call to suggestCharts:', error);\n",
       "      }\n",
       "      quickchartButtonEl.classList.remove('colab-df-spinner');\n",
       "      quickchartButtonEl.classList.add('colab-df-quickchart-complete');\n",
       "    }\n",
       "    (() => {\n",
       "      let quickchartButtonEl =\n",
       "        document.querySelector('#df-2079ba1a-2d83-4244-8932-0a332d630f72 button');\n",
       "      quickchartButtonEl.style.display =\n",
       "        google.colab.kernel.accessAllowed ? 'block' : 'none';\n",
       "    })();\n",
       "  </script>\n",
       "</div>\n",
       "    </div>\n",
       "  </div>\n"
      ],
      "application/vnd.google.colaboratory.intrinsic+json": {
       "type": "dataframe",
       "summary": "{\n  \"name\": \"fer[:2] # show first 2 examples\",\n  \"rows\": 2,\n  \"fields\": [\n    {\n      \"column\": \"emotion\",\n      \"properties\": {\n        \"dtype\": \"number\",\n        \"std\": 0,\n        \"min\": 0,\n        \"max\": 0,\n        \"num_unique_values\": 1,\n        \"samples\": [\n          0\n        ],\n        \"semantic_type\": \"\",\n        \"description\": \"\"\n      }\n    },\n    {\n      \"column\": \"pixels\",\n      \"properties\": {\n        \"dtype\": \"string\",\n        \"num_unique_values\": 2,\n        \"samples\": [\n          \"151 150 147 155 148 133 111 140 170 174 182 154 153 164 173 178 185 185 189 187 186 193 194 185 183 186 180 173 166 161 147 133 172 151 114 161 161 146 131 104 95 132 163 123 119 129 140 120 151 149 149 153 137 115 129 166 170 181 164 143 157 156 169 179 185 183 186 186 184 190 191 184 186 190 183 175 168 160 147 136 135 167 136 108 153 167 149 137 111 90 134 162 121 122 141 137 151 151 156 143 116 124 159 164 174 169 135 144 155 153 164 170 176 178 177 178 187 185 181 182 183 181 178 170 164 158 148 144 130 136 173 130 97 137 167 157 138 113 90 138 168 109 123 146 151 152 155 127 113 159 167 170 171 142 131 140 154 162 168 169 169 164 168 173 176 179 178 176 173 172 170 161 154 152 146 145 137 124 130 171 124 102 133 164 152 138 110 86 154 149 100 139 153 151 136 113 142 159 161 174 150 127 136 140 154 164 163 167 173 172 171 170 167 168 172 167 162 161 160 163 163 154 145 146 140 133 122 135 167 127 101 126 164 147 132 95 91 166 115 113 158 143 121 134 153 153 164 162 131 130 136 146 155 158 155 157 163 163 158 159 159 161 165 156 153 156 159 163 163 150 149 150 146 140 137 122 147 154 116 97 133 164 142 123 77 117 147 95 149 127 129 153 142 165 171 136 116 129 130 139 140 149 153 147 146 150 150 155 151 155 156 153 152 157 165 165 160 150 156 156 148 141 135 135 132 147 141 110 97 143 165 142 101 66 151 117 136 125 148 139 153 173 159 118 116 119 123 131 134 145 145 137 142 151 157 159 153 154 153 150 159 170 171 167 160 160 159 158 152 141 145 144 140 119 144 133 106 101 151 148 130 70 119 148 129 143 146 134 165 165 134 121 123 121 125 129 136 150 159 163 165 161 157 155 147 150 148 135 156 171 169 171 166 165 165 158 153 146 147 150 137 122 112 144 122 94 111 158 143 91 74 155 134 147 131 154 167 153 107 125 129 134 137 134 136 154 168 174 171 168 163 156 151 150 146 146 166 171 173 176 177 191 187 175 180 179 174 165 142 134 108 111 137 108 86 143 156 116 64 133 143 129 138 162 167 132 117 127 128 140 147 145 155 159 165 170 172 166 160 154 156 160 156 156 158 153 170 188 198 208 203 209 219 217 200 174 171 147 128 92 129 131 88 103 159 135 75 111 133 126 160 156 159 117 132 129 131 144 160 165 162 166 170 165 160 160 159 153 149 150 151 148 120 132 189 183 180 177 187 201 194 186 181 170 167 146 118 117 100 139 112 74 139 145 85 91 120 151 156 164 129 111 135 140 139 142 158 163 172 190 195 189 168 156 149 143 137 140 140 132 114 142 150 129 133 125 138 140 132 114 124 131 118 143 125 126 82 97 141 72 113 152 93 77 134 157 149 166 95 124 136 142 156 165 179 189 198 198 186 186 188 157 126 124 118 129 128 115 95 100 90 84 81 66 72 80 77 63 59 65 70 67 86 105 82 95 138 89 94 153 106 74 153 148 165 134 80 134 137 149 173 187 193 201 185 169 141 128 150 139 113 119 123 128 114 91 71 60 51 69 78 80 80 79 76 76 65 65 85 103 46 73 142 85 114 114 75 145 121 70 150 141 168 76 91 130 144 179 197 210 190 164 146 128 121 90 92 90 90 114 104 109 110 81 52 53 87 96 94 99 96 88 95 108 116 110 97 120 98 64 120 77 105 130 67 131 128 67 137 150 136 46 106 126 164 164 151 150 131 115 103 88 90 91 92 78 56 49 65 90 115 66 29 91 99 104 107 88 94 105 111 118 113 116 103 103 120 47 83 110 120 134 67 116 136 74 133 163 82 51 113 115 104 112 144 162 138 104 96 93 95 90 91 99 103 55 29 46 45 16 40 104 95 101 92 93 96 80 69 82 99 98 108 116 128 70 102 117 127 140 79 105 139 82 140 149 23 43 103 50 78 179 185 147 111 113 117 106 91 95 100 91 96 92 19 6 19 8 35 88 64 66 60 72 68 34 35 70 85 101 118 130 143 82 114 125 130 149 93 104 139 83 148 130 67 86 94 42 142 173 151 128 124 106 96 103 90 89 100 97 95 103 28 48 127 126 38 87 81 68 64 70 74 51 68 92 112 139 149 152 158 100 134 128 133 159 105 95 139 86 153 113 62 126 130 62 135 136 127 122 93 67 54 44 42 43 60 76 86 104 41 115 197 211 112 67 118 109 107 93 84 83 101 108 129 150 158 156 143 105 140 129 131 166 115 85 137 87 156 99 21 89 104 46 117 135 113 78 52 89 94 46 24 45 54 65 95 92 49 161 213 212 188 85 97 133 130 124 121 122 136 147 143 154 151 173 124 115 147 129 124 164 136 95 126 85 159 94 36 97 117 78 93 130 90 73 77 94 86 61 60 72 69 91 113 80 76 188 214 213 200 143 66 119 138 150 151 151 159 163 156 154 162 140 107 136 148 135 115 158 150 116 111 87 161 101 50 109 111 98 69 99 97 109 111 114 106 95 96 99 101 109 122 70 111 193 214 217 200 183 115 78 124 157 167 170 172 166 161 147 127 118 134 138 141 141 119 147 155 131 98 96 163 103 72 120 112 115 80 100 117 100 105 127 138 133 132 140 137 121 103 64 153 200 215 218 205 183 169 127 77 92 111 122 126 128 128 129 135 145 141 138 133 138 127 139 169 127 83 93 161 106 87 122 106 117 114 88 124 116 108 135 150 151 156 163 162 121 66 110 177 201 212 214 200 181 162 155 117 97 103 109 115 119 131 141 147 149 141 146 140 128 130 140 170 101 87 89 163 109 105 123 103 112 133 113 95 132 139 160 167 169 158 149 118 72 89 133 169 189 197 204 194 180 172 166 138 114 112 114 120 119 125 134 140 150 145 142 145 142 144 152 164 116 95 84 159 113 111 124 101 112 136 134 115 107 118 131 138 129 108 93 75 88 112 136 170 183 181 178 181 177 177 180 175 130 110 119 125 130 131 135 138 142 146 136 130 146 142 157 169 135 91 100 150 115 114 138 107 114 133 125 124 133 137 128 119 106 102 98 93 96 141 160 147 149 150 145 153 161 147 146 175 162 114 112 121 127 128 131 129 134 142 136 124 139 141 157 175 138 106 149 145 119 119 150 109 115 136 129 126 131 137 130 114 106 108 109 99 115 156 138 116 134 139 130 140 119 53 45 103 139 131 101 98 117 126 130 123 124 133 137 131 130 143 160 177 148 158 182 146 122 117 161 118 116 131 134 130 130 124 121 118 117 119 112 92 107 134 74 29 73 122 129 126 78 33 42 65 107 123 103 97 96 113 121 119 121 124 131 130 128 157 176 179 185 187 181 158 124 111 169 131 116 123 129 130 129 129 128 125 124 114 86 89 104 91 46 31 35 74 113 107 93 79 79 94 121 131 126 119 92 100 114 114 117 115 120 125 130 164 179 188 192 182 184 182 140 106 170 147 120 121 129 130 127 128 129 128 123 98 62 98 116 113 94 90 85 81 80 104 116 126 141 136 148 148 129 122 101 95 107 107 117 123 125 130 139 165 179 184 192 184 183 191 167 119 173 158 136 118 130 131 125 123 123 125 114 81 71 131 147 148 138 133 117 101 88 118 131 143 163 167 165 164 146 132 122 107 95 104 115 126 136 137 146 168 180 179 195 187 183 188 186 141 158 165 147 116 131 130 124 118 117 119 102 70 101 140 154 153 142 134 125 118 117 118 116 120 137 149 163 172 158 144 137 138 117 112 123 129 139 146 157 167 175 178 196 190 184 190 188 167 155 174 161 134 119 114 121 118 113 109 89 93 134 140 161 170 145 126 108 121 117 108 117 136 146 142 138 150 149 147 135 142 122 115 142 149 144 144 162 168 171 176 192 187 182 192 183 185 175 174 145 87 65 63 84 112 114 98 92 109 140 155 151 147 123 103 111 112 116 108 111 127 130 117 115 124 129 138 124 118 120 114 135 144 141 144 154 168 170 174 187 182 179 187 184 184 187 132 28 6 24 36 39 69 111 99 84 109 134 133 108 97 84 75 78 74 81 80 62 48 32 27 36 42 56 88 87 86 123 130 138 138 134 141 151 170 167 173 189 184 181 187 186 191 192 63 26 18 3 16 22 23 85 106 98 110 112 89 47 35 41 20 18 21 13 9 7 3 2 4 4 3 4 30 40 49 112 129 142 143 139 144 151 171 174 177 188 186 181 189 189 170 124 47 33 28 8 4 12 11 48 111 113 100 85 50 19 4 5 3 10 14 12 15 26 31 35 38 37 40 62 84 73 61 124 143 138 130 140 139 152 157 170 179 186 186 181 179 115 39 26 14 6 10 3 1 5 2 48 124 117 106 71 34 42 32 17 17 24 35 41 49 63 67 70 72 88 106 118 107 97 75 95 139 138 125 130 131 150 160 173 183 188 186 184 114 54 84 157 71 0 6 5 4 3 0 75 122 109 103 69 53 67 68 59 55 54 59 65 74 88 97 104 109 119 129 128 127 130 98 96 136 156 130 117 128 148 165 176 190 191 186 183 74 64 167 201 164 43 1 0 0 3 46 114 118 110 110 67 66 97 83 86 87 98 93 98 102 112 119 119 125 126 130 128 127 135 134 112 123 150 136 118 126 146 158 179 196 188 185 185 142 50 136 182 194 173 83 58 60 100 130 121 113 120 116 80 77 95 103 111 116 124 116 120 117 119 108 123 129 144 160 143 129 130 127 132 123 149 132 117 125 142 151 188 194 187 184 185 197 128 84 169 177 199 178 162 147 154 146 124 107 129 120 96 88 99 131 131 145 131 137 148 131 133 128 124 118 142 167 159 130 136 134 127 128 143 133 118 139 140 144 192 196 187 184 184 188 188 121 86 175 189 192 157 148 144 149 126 113 123 127 106 96 107 145 143 144 131 147 150 143 147 134 126 131 151 170 162 148 116 139 122 124 141 127 112 128 116 113 159 201 185 185 186 188 187 196 129 85 171 194 171 142 144 144 128 119 116 121 116 100 108 136 146 128 135 151 146 152 150 158 143 133 143 159 153 152 128 137 133 125 127 102 108 109 105 102 106 197 186 182 187 186 184 185 197 124 84 174 185 150 129 143 135 115 102 111 124 112 109 132 146 135 149 148 143 163 156 159 150 139 128 116 125 133 109 130 147 130 121 105 108 95 108 102 67 171 193 183 184\"\n        ],\n        \"semantic_type\": \"\",\n        \"description\": \"\"\n      }\n    },\n    {\n      \"column\": \"Usage\",\n      \"properties\": {\n        \"dtype\": \"string\",\n        \"num_unique_values\": 1,\n        \"samples\": [\n          \"Training\"\n        ],\n        \"semantic_type\": \"\",\n        \"description\": \"\"\n      }\n    }\n  ]\n}"
      }
     },
     "metadata": {},
     "execution_count": 9
    }
   ],
   "source": [
    "fer = pd.read_csv(\"./archive/fer2013/fer2013/fer2013.csv\")\n",
    "fer[:2] # show first 2 examples"
   ],
   "metadata": {
    "ExecuteTime": {
     "end_time": "2024-05-19T09:21:28.052935Z",
     "start_time": "2024-05-19T09:21:25.718137Z"
    },
    "colab": {
     "base_uri": "https://localhost:8080/",
     "height": 111
    },
    "id": "4dc615d6848231bd",
    "outputId": "e9e8b04b-91aa-40fe-af02-7f01bdd6ea1d"
   },
   "id": "4dc615d6848231bd"
  },
  {
   "cell_type": "code",
   "execution_count": 10,
   "outputs": [
    {
     "output_type": "execute_result",
     "data": {
      "text/plain": [
       "((28709, 3), (3589, 3), (3589, 3))"
      ]
     },
     "metadata": {},
     "execution_count": 10
    }
   ],
   "source": [
    "fer_train = fer[fer.Usage == \"Training\"]\n",
    "fer_valid = fer[fer.Usage == \"PublicTest\"]\n",
    "fer_test = fer[fer.Usage == \"PrivateTest\"]\n",
    "\n",
    "fer_train.shape ,fer_valid.shape, fer_test.shape"
   ],
   "metadata": {
    "ExecuteTime": {
     "end_time": "2024-05-19T09:21:28.135452Z",
     "start_time": "2024-05-19T09:21:28.051072Z"
    },
    "colab": {
     "base_uri": "https://localhost:8080/"
    },
    "id": "e48f26b49267f0c",
    "outputId": "cafa0389-e64e-454e-b965-4ae40034cc43"
   },
   "id": "e48f26b49267f0c"
  },
  {
   "cell_type": "code",
   "execution_count": 101,
   "outputs": [],
   "source": [
    "class FerDataset(utils.data.Dataset):\n",
    "    \"\"\"\n",
    "    Keep the validation\n",
    "    and test set seperate for now.\n",
    "    Dont plan to use early stopping.\n",
    "    just to make sure we are not leaking into validation Dataset\n",
    "    \"\"\"\n",
    "\n",
    "    def __init__(self,df,label = None, transformations = None):\n",
    "        super().__init__()\n",
    "        if label not in (\"train\", \"test\", \"valid\"):\n",
    "            raise ValueError(\"Please give al label to this dataset class train , valid , test\")\n",
    "\n",
    "        # handy stuff that i often call\n",
    "        self.label = label\n",
    "\n",
    "        self.data = df[df.columns[:-1]] # the last column is just usage\n",
    "        self.columns = self.data.columns\n",
    "        self.shape = self.data.shape\n",
    "        self.transforms = transformations\n",
    "\n",
    "        if self.transforms is None:\n",
    "            self.transforms = transforms.Compose([\n",
    "                transforms.ToTensor(),\n",
    "                transforms.Resize((32,32), antialias=True)]) # limit number of patches (4) calculation.. keep this a multiple of 16*16\n",
    "        else:\n",
    "            self.transforms = transformations\n",
    "\n",
    "    # mandatory method to calculate random indexes when you turn on shuffle in dataloader\n",
    "    def __len__(self):\n",
    "        return self.shape[0]\n",
    "\n",
    "\n",
    "    def __getitem__(self, idx):\n",
    "        # convert to string type\n",
    "\n",
    "        self.data = self.data.astype({\"emotion\": int, \"pixels\": str})\n",
    "\n",
    "        features = self.data.iloc[idx]['pixels']\n",
    "        features = np.array(features.split(\" \"),dtype=np.uint8) # its a flatten of 48 * 48 * 1 image\n",
    "        # image = features.view(48,48) -> numpy view is like astype with view not like torch.view\n",
    "        image = features.reshape(48,48)\n",
    "        if self.transforms:\n",
    "            image = self.transforms(image)\n",
    "\n",
    "\n",
    "        label = self.data.iloc[idx]['emotion']\n",
    "\n",
    "\n",
    "        return image, torch.tensor(label) # dont use capital Tensor it will convert it into float\n",
    "\n"
   ],
   "metadata": {
    "ExecuteTime": {
     "end_time": "2024-05-19T09:33:40.637029Z",
     "start_time": "2024-05-19T09:33:40.630322Z"
    },
    "id": "31317d7dd348e14a"
   },
   "id": "31317d7dd348e14a"
  },
  {
   "cell_type": "code",
   "execution_count": 102,
   "outputs": [
    {
     "output_type": "stream",
     "name": "stdout",
     "text": [
      "torch.Size([3, 1, 32, 32]) torch.Size([3])\n"
     ]
    }
   ],
   "source": [
    "train_data = FerDataset(fer_train,\"train\")\n",
    "# the data loader not the dataset adds a channels dimension but we can just squeeze it out. in our model class\n",
    "train_loader = utils.data.DataLoader(train_data, shuffle=True, batch_size=3)\n",
    "\n",
    "for Xb,yb in train_loader:\n",
    "    print(Xb.shape , yb.shape)\n",
    "    break"
   ],
   "metadata": {
    "ExecuteTime": {
     "end_time": "2024-05-19T09:33:41.025208Z",
     "start_time": "2024-05-19T09:33:41.016138Z"
    },
    "colab": {
     "base_uri": "https://localhost:8080/"
    },
    "id": "271f7e45ae130a34",
    "outputId": "280bfd1b-d6de-45ba-f8fd-b416fbdd0e8b"
   },
   "id": "271f7e45ae130a34"
  },
  {
   "cell_type": "markdown",
   "source": [
    "# generating patches"
   ],
   "metadata": {
    "collapsed": false,
    "id": "6b2a750f57b29e62"
   },
   "id": "6b2a750f57b29e62"
  },
  {
   "cell_type": "code",
   "execution_count": 103,
   "outputs": [],
   "source": [
    "xb = einops.asnumpy(Xb)"
   ],
   "metadata": {
    "ExecuteTime": {
     "end_time": "2024-05-19T09:33:41.401485Z",
     "start_time": "2024-05-19T09:33:41.391165Z"
    },
    "id": "d5e69c0a810334c7"
   },
   "id": "d5e69c0a810334c7"
  },
  {
   "cell_type": "code",
   "execution_count": 104,
   "outputs": [
    {
     "output_type": "execute_result",
     "data": {
      "text/plain": [
       "<matplotlib.image.AxesImage at 0x7cd735df0280>"
      ]
     },
     "metadata": {},
     "execution_count": 104
    },
    {
     "output_type": "display_data",
     "data": {
      "text/plain": [
       "<Figure size 640x480 with 1 Axes>"
      ],
      "image/png": "[encoded data removed]"
     },
     "metadata": {}
    }
   ],
   "source": [
    "plt.imshow(einops.rearrange(xb,\"b 1 h w -> h (b w)\"), cmap=\"gray\")"
   ],
   "metadata": {
    "ExecuteTime": {
     "end_time": "2024-05-19T09:37:19.629599Z",
     "start_time": "2024-05-19T09:37:19.549320Z"
    },
    "colab": {
     "base_uri": "https://localhost:8080/",
     "height": 245
    },
    "id": "e6c1e369f080de1d",
    "outputId": "97d89e1a-5159-437b-92e7-11d51d12c050"
   },
   "id": "e6c1e369f080de1d"
  },
  {
   "cell_type": "code",
   "execution_count": 105,
   "outputs": [
    {
     "output_type": "display_data",
     "data": {
      "text/plain": [
       "<Figure size 15000x8000 with 1 Axes>"
      ],
      "image/png": "[encoded data removed]"
     },
     "metadata": {}
    }
   ],
   "source": [
    "# now what we want is to turn them into patches\n",
    "# patches = einops.rearrange(xb,\"b 1 (p1 h) (p2 w) -> b (p1 p2) (h w)\",p1=2,p2=2)\n",
    "patches = einops.rearrange(xb,\"b 1 (p1 h) (p2 w) -> h (b p1 p2 w)\",p1=2,p2=2) # increase p1,p2 to get 16 x 16 patches\n",
    "# here p1 and p2 must be 14 x 14\n",
    "plt.figure(figsize=(150,80))\n",
    "plt.imshow(patches, cmap=\"gray\")\n",
    "plt.show()"
   ],
   "metadata": {
    "ExecuteTime": {
     "end_time": "2024-05-19T09:53:46.792044Z",
     "start_time": "2024-05-19T09:53:46.701192Z"
    },
    "colab": {
     "base_uri": "https://localhost:8080/",
     "height": 131
    },
    "id": "4356053290f9e648",
    "outputId": "39a213d3-0b20-4e52-aa66-1b6d06336bd9"
   },
   "id": "4356053290f9e648"
  },
  {
   "cell_type": "code",
   "execution_count": 106,
   "outputs": [
    {
     "output_type": "stream",
     "name": "stdout",
     "text": [
      "(3, 4, 256)\n"
     ]
    },
    {
     "output_type": "execute_result",
     "data": {
      "text/plain": [
       "<Axes: >"
      ]
     },
     "metadata": {},
     "execution_count": 106
    },
    {
     "output_type": "display_data",
     "data": {
      "text/plain": [
       "<Figure size 640x480 with 2 Axes>"
      ],
      "image/png": "[encoded data removed]"
     },
     "metadata": {}
    }
   ],
   "source": [
    "# now what we need is to flatten these patches\n",
    "flat_patch = einops.rearrange(xb,\"b 1 (p1 h) (p2 w) -> b (p1 p2) (h w)\",p1=2,p2=2)\n",
    "print(flat_patch.shape) # 16 x 16 -> 256\n",
    "sns.heatmap(einops.rearrange(flat_patch,\"b p hw ->b (p hw) \"),cmap=\"gray\")\n"
   ],
   "metadata": {
    "ExecuteTime": {
     "end_time": "2024-05-19T10:03:47.621692Z",
     "start_time": "2024-05-19T10:03:47.480803Z"
    },
    "colab": {
     "base_uri": "https://localhost:8080/",
     "height": 476
    },
    "id": "146ea68ed4e0ef0a",
    "outputId": "3a148ea6-c5a4-48cb-fdf0-fba349d2c5cf"
   },
   "id": "146ea68ed4e0ef0a"
  },
  {
   "cell_type": "markdown",
   "source": [
    "# patch embeddings"
   ],
   "metadata": {
    "collapsed": false,
    "id": "e215cb4bfbb0b098"
   },
   "id": "e215cb4bfbb0b098"
  },
  {
   "cell_type": "code",
   "execution_count": 107,
   "outputs": [
    {
     "output_type": "stream",
     "name": "stdout",
     "text": [
      "torch.Size([3, 4, 256])\n"
     ]
    },
    {
     "output_type": "execute_result",
     "data": {
      "text/plain": [
       "(torch.Size([3, 4, 128]), torch.Tensor)"
      ]
     },
     "metadata": {},
     "execution_count": 107
    }
   ],
   "source": [
    "# now we wont plot anythoing so we will convert it back to torch array\n",
    "flat_patch = torch.tensor(flat_patch)\n",
    "print( flat_patch.shape)\n",
    "# patch embeddings\n",
    "# now each patch 16 x 16 (matrix) gets a (n_embed dimensional) row vector representation\n",
    "n_embed = 128\n",
    "patch_embedding = torch.randn(256, n_embed)\n",
    "xb = einops.einsum(flat_patch,patch_embedding,\"b p hw , hw n_embed -> b p n_embed\")\n",
    "xb.shape, type(xb)"
   ],
   "metadata": {
    "ExecuteTime": {
     "end_time": "2024-05-19T10:39:13.835428Z",
     "start_time": "2024-05-19T10:39:13.821073Z"
    },
    "colab": {
     "base_uri": "https://localhost:8080/"
    },
    "id": "6bbba77f9f5e287e",
    "outputId": "38014505-6b16-4796-82c8-63f7c4cc4b3a"
   },
   "id": "6bbba77f9f5e287e"
  },
  {
   "cell_type": "markdown",
   "source": [],
   "metadata": {
    "collapsed": false,
    "id": "b624dad5d494024"
   },
   "id": "b624dad5d494024"
  },
  {
   "cell_type": "markdown",
   "source": [
    "# class token embeddings we wont use this in our model\n",
    "but we show how the forward pass looks here"
   ],
   "metadata": {
    "collapsed": false,
    "id": "8f28f7d70357ef41"
   },
   "id": "8f28f7d70357ef41"
  },
  {
   "cell_type": "code",
   "execution_count": 108,
   "outputs": [
    {
     "output_type": "stream",
     "name": "stdout",
     "text": [
      "torch.Size([3, 1, 128])\n"
     ]
    },
    {
     "output_type": "execute_result",
     "data": {
      "text/plain": [
       "torch.Size([3, 5, 128])"
      ]
     },
     "metadata": {},
     "execution_count": 108
    }
   ],
   "source": [
    "# its like adding an extra patch . but this patch is learnable\n",
    "learnable_patch = torch.randn(1,n_embed)\n",
    "# add same learnable patch to all the images in the batch\n",
    "learnable_patch = einops.repeat(learnable_patch,\"1 n_embed -> 3 1 n_embed\")\n",
    "print(learnable_patch.shape)\n",
    "# you actually need all dims except one to be different to pack or concat it\n",
    "# in the paper they add it at the first location. (dont really see how it matters if append it at the end instead)\n",
    "xb ,ps = einops.pack([learnable_patch,xb],\"b * n_embed\") # we want to append it on top of patch\n",
    "xb.shape"
   ],
   "metadata": {
    "ExecuteTime": {
     "end_time": "2024-05-19T10:39:15.943069Z",
     "start_time": "2024-05-19T10:39:15.932565Z"
    },
    "colab": {
     "base_uri": "https://localhost:8080/"
    },
    "id": "5903272a33e5cfae",
    "outputId": "b4dcdadc-d8a9-4274-ae21-8db857080705"
   },
   "id": "5903272a33e5cfae"
  },
  {
   "cell_type": "markdown",
   "source": [
    "# now we add position embedding"
   ],
   "metadata": {
    "collapsed": false,
    "id": "8e5b4c4f14eef491"
   },
   "id": "8e5b4c4f14eef491"
  },
  {
   "cell_type": "code",
   "execution_count": 109,
   "outputs": [
    {
     "output_type": "execute_result",
     "data": {
      "text/plain": [
       "torch.Size([3, 5, 128])"
      ]
     },
     "metadata": {},
     "execution_count": 109
    }
   ],
   "source": [
    "# since each patch is considered as a token . each patch must get a positional learning information\n",
    "# therefore the shape is b, num_patch + 1, D. (+1 for cls embedding)\n",
    "\n",
    "pos_embedding = torch.randn(1,5,n_embed)\n",
    "xb = xb + pos_embedding\n",
    "xb.shape"
   ],
   "metadata": {
    "ExecuteTime": {
     "end_time": "2024-05-19T10:42:17.981035Z",
     "start_time": "2024-05-19T10:42:17.931401Z"
    },
    "colab": {
     "base_uri": "https://localhost:8080/"
    },
    "id": "5cca08bb6950d063",
    "outputId": "e6a52239-6ec1-4c84-cac7-9f73d915909b"
   },
   "id": "5cca08bb6950d063"
  },
  {
   "cell_type": "markdown",
   "source": [
    "# now we make our self attention blocks.. (for our transformer)"
   ],
   "metadata": {
    "collapsed": false,
    "id": "82d1d59127abebb"
   },
   "id": "82d1d59127abebb"
  },
  {
   "cell_type": "code",
   "execution_count": 110,
   "outputs": [],
   "source": [
    "# check the cell below for unit test for our implementation\n",
    "class SingleHead(nn.Module):\n",
    "    \"\"\"\n",
    "    Implements a single head of attention (unmasked)\n",
    "    \"\"\"\n",
    "\n",
    "    def __init__(self,n_embed=128,head_size=8):\n",
    "        super().__init__()\n",
    "        # single head\n",
    "        self.head_size = torch.tensor(head_size)\n",
    "        self.n_embed = torch.tensor(n_embed)\n",
    "        self.Q = nn.Parameter( torch.randn(n_embed,head_size) * (1/torch.tensor(2.82)))\n",
    "        self.K = nn.Parameter( torch.randn(n_embed,head_size) * (1/torch.tensor(2.82)))\n",
    "        self.V = nn.Parameter( torch.randn(n_embed,head_size) * (1/torch.tensor(2.82)))\n",
    "\n",
    "    def forward(self,x):\n",
    "        query = x @ self.Q\n",
    "        key =   x @ self.K\n",
    "        value=  x @ self.V\n",
    "\n",
    "        # hand implementation\n",
    "        # scale => sqrt head size\n",
    "        scale = 1 / torch.sqrt(self.head_size)\n",
    "\n",
    "        # we will not use any masking here as its an image\n",
    "        # and no dropout consideration in this implementation\n",
    "        comm = query @ key.transpose(-2,-1)\n",
    "        comm = comm* scale\n",
    "        soft_comm = torch.softmax(comm, dim=2)\n",
    "        att = soft_comm @ value\n",
    "\n",
    "        return att"
   ],
   "metadata": {
    "ExecuteTime": {
     "end_time": "2024-05-19T10:44:52.806670Z",
     "start_time": "2024-05-19T10:44:52.788205Z"
    },
    "id": "a0d3767893ea4f9a"
   },
   "id": "a0d3767893ea4f9a"
  },
  {
   "cell_type": "markdown",
   "source": [],
   "metadata": {
    "collapsed": false,
    "id": "f238f40995cd535b"
   },
   "id": "f238f40995cd535b"
  },
  {
   "cell_type": "code",
   "execution_count": 111,
   "outputs": [
    {
     "output_type": "execute_result",
     "data": {
      "text/plain": [
       "True"
      ]
     },
     "metadata": {},
     "execution_count": 111
    }
   ],
   "source": [
    "# unit test\n",
    "g=torch.Generator().manual_seed(123)\n",
    "query, key, value = torch.randn(2, 3, 8 , generator = g), torch.randn(2, 3, 8, generator = g), torch.randn(2, 3, 8 , generator = g)\n",
    "\n",
    "# pytorch implementation\n",
    "py_sa = nn.functional.scaled_dot_product_attention(query, key, value)\n",
    "\n",
    "def single_head(query, key,value):\n",
    "    head_size = torch.tensor(query.shape[-1])\n",
    "    # hand implementation\n",
    "    # scale => sqrt head size\n",
    "    scale = 1 / torch.sqrt(head_size)\n",
    "\n",
    "    # we will not use any masking here as its an image\n",
    "    # and no dropout consideration in this implementation\n",
    "    comm = query @ key.transpose(-2,-1)\n",
    "    comm = comm* scale\n",
    "    soft_comm = torch.softmax(comm, dim=2)\n",
    "    att = soft_comm @ value\n",
    "    return att\n",
    "sh  = single_head(query,key,value)\n",
    "\n",
    "torch.allclose(py_sa , sh)"
   ],
   "metadata": {
    "ExecuteTime": {
     "end_time": "2024-05-19T10:45:48.715626Z",
     "start_time": "2024-05-19T10:45:48.681508Z"
    },
    "colab": {
     "base_uri": "https://localhost:8080/"
    },
    "id": "c2b978d74e9fccce",
    "outputId": "e58436b2-df4e-4f9f-d74e-55b9cb916430"
   },
   "id": "c2b978d74e9fccce"
  },
  {
   "cell_type": "markdown",
   "source": [
    "# multihead attention block"
   ],
   "metadata": {
    "collapsed": false,
    "id": "df2297dfc56964c1"
   },
   "id": "df2297dfc56964c1"
  },
  {
   "cell_type": "code",
   "execution_count": 112,
   "outputs": [],
   "source": [
    "class Multihead(nn.Module):\n",
    "    def __init__(self,n_embed,n_heads):\n",
    "        super().__init__()\n",
    "\n",
    "        self.n_embed = n_embed\n",
    "        self.n_heads = n_heads\n",
    "        self.head_size = self.n_embed // self.n_heads\n",
    "\n",
    "        self.multiheads = nn.ModuleList(\n",
    "            [SingleHead(self.n_embed,self.head_size)\n",
    "             for _ in range(self.n_heads)]\n",
    "        )\n",
    "\n",
    "    def forward(self,x):\n",
    "        return torch.cat([head(x) for head in self.multiheads],dim=2)"
   ],
   "metadata": {
    "ExecuteTime": {
     "end_time": "2024-05-19T10:54:46.108955Z",
     "start_time": "2024-05-19T10:54:46.058363Z"
    },
    "id": "c288d504079ee63"
   },
   "id": "c288d504079ee63"
  },
  {
   "cell_type": "code",
   "execution_count": 113,
   "outputs": [],
   "source": [
    "# only multihead ->  skip connection -> layernorm\n",
    "# Batch norm : couples examples in and normalizes it .. (also has a regularization effect) but we need to keep a running mean to track new mean and sigma\n",
    "# layernorm : normalizes the features of each example (does not couple examples across the batch) more popular in transformers\n",
    "\n",
    "# we might add a pre-norm later in the implementation\n",
    "\n",
    "class TranformerBlock(nn.Module):\n",
    "    def __init__(self, n_embed,n_head):\n",
    "        super().__init__()\n",
    "        self.multi_head = Multihead(n_embed,n_head)\n",
    "        # i am not going to implement my own layer norm it wont be efficient and will be janky at best\n",
    "        self.norm = nn.LayerNorm(n_embed) # we want to normalize feeatures (each patch gets normalized)\n",
    "\n",
    "    def forward(self,x):\n",
    "        # pass through multihead\n",
    "        attention = self.multi_head(x)\n",
    "        # skip connection and non linarity\n",
    "        attention = torch.relu( x + attention)\n",
    "        # layer norm\n",
    "        attention = self.norm(attention)\n",
    "        return attention # B , n_patch , n_embed\n",
    "        ..."
   ],
   "metadata": {
    "ExecuteTime": {
     "end_time": "2024-05-19T10:56:47.830259Z",
     "start_time": "2024-05-19T10:56:47.795946Z"
    },
    "id": "178126383fb6e0f7"
   },
   "id": "178126383fb6e0f7"
  },
  {
   "cell_type": "code",
   "source": [
    "#---------- pre trained model-----------"
   ],
   "metadata": {
    "id": "-UwXJH6MiAXg"
   },
   "id": "-UwXJH6MiAXg",
   "execution_count": 114,
   "outputs": []
  },
  {
   "cell_type": "code",
   "source": [
    "# same as before but we resize it to 224 x 224\n",
    "class FerDataset(utils.data.Dataset):\n",
    "    \"\"\"\n",
    "    Keep the validation\n",
    "    and test set seperate for now.\n",
    "    Dont plan to use early stopping.\n",
    "    just to make sure we are not leaking into validation Dataset\n",
    "    \"\"\"\n",
    "\n",
    "    def __init__(self,df,label = None, transformations = None):\n",
    "        super().__init__()\n",
    "        if label not in (\"train\", \"test\", \"valid\"):\n",
    "            raise ValueError(\"Please give al label to this dataset class train , valid , test\")\n",
    "\n",
    "        # handy stuff that i often call\n",
    "        self.label = label\n",
    "\n",
    "        self.data = df[df.columns[:-1]] # the last column is just usage\n",
    "        self.columns = self.data.columns\n",
    "        self.shape = self.data.shape\n",
    "        self.transforms = transformations\n",
    "\n",
    "        if self.transforms is None:\n",
    "            self.transforms = transforms.Compose([\n",
    "                transforms.ToTensor(),\n",
    "                transforms.Resize((224,224), antialias=True),\n",
    "                ]) # limit number of patches (4) calculation.. keep this a multiple of 16*16\n",
    "        else:\n",
    "            self.transforms = transformations\n",
    "\n",
    "    # mandatory method to calculate random indexes when you turn on shuffle in dataloader\n",
    "    def __len__(self):\n",
    "        return self.shape[0]\n",
    "\n",
    "\n",
    "    def __getitem__(self, idx):\n",
    "        # convert to string type\n",
    "\n",
    "        self.data = self.data.astype({\"emotion\": int, \"pixels\": str})\n",
    "\n",
    "        features = self.data.iloc[idx]['pixels']\n",
    "        features = np.array(features.split(\" \"),dtype=np.uint8) # its a flatten of 48 * 48 * 1 image\n",
    "        # image = features.view(48,48) -> numpy view is like astype with view not like torch.view\n",
    "        image = features.reshape(48,48)\n",
    "        image = einops.repeat(image, \"h w -> h w c\",c=3)\n",
    "        if self.transforms:\n",
    "            image = self.transforms(image)\n",
    "\n",
    "\n",
    "        label = self.data.iloc[idx]['emotion']\n",
    "\n",
    "\n",
    "        return image, torch.tensor(label) # dont use capital Tensor it will convert it into float\n",
    "\n"
   ],
   "metadata": {
    "id": "YQDnv8S2qHZ5"
   },
   "id": "YQDnv8S2qHZ5",
   "execution_count": 142,
   "outputs": []
  },
  {
   "cell_type": "code",
   "execution_count": 143,
   "outputs": [],
   "source": [
    "# the pre-trained model is designed for:\n",
    "image_size = 224\n",
    "# and needs to have 3 channels\n",
    "\n",
    "# define transform\n",
    "\n",
    "\n",
    "train_data = FerDataset(fer_train,\"train\")\n",
    "# the data loader not the dataset adds a channels dimension but we can just squeeze it out. in our model class\n",
    "train_loader = utils.data.DataLoader(train_data, shuffle=True, batch_size=32)\n",
    "\n",
    "valid_data = FerDataset(fer_valid,\"valid\")\n",
    "# the data loader not the dataset adds a channels dimension but we can just squeeze it out. in our model class\n",
    "valid_loader = utils.data.DataLoader(valid_data, shuffle=True, batch_size=32)\n",
    "\n",
    "\n",
    "test_data = FerDataset(fer_test,\"test\")\n",
    "# the data loader not the dataset adds a channels dimension but we can just squeeze it out. in our model class\n",
    "test_loader = utils.data.DataLoader(test_data, shuffle=True, batch_size=32)"
   ],
   "metadata": {
    "id": "4e8f070070449be6"
   },
   "id": "4e8f070070449be6"
  },
  {
   "cell_type": "code",
   "source": [],
   "metadata": {
    "id": "-qSKnB5LqGjO"
   },
   "id": "-qSKnB5LqGjO",
   "execution_count": 143,
   "outputs": []
  },
  {
   "cell_type": "code",
   "source": [
    "for Xb,l in train_loader:\n",
    "    print(Xb.shape, l)\n",
    "    break"
   ],
   "metadata": {
    "colab": {
     "base_uri": "https://localhost:8080/"
    },
    "id": "JyfWwP7Yp3oq",
    "outputId": "4a26b01a-036f-44d6-92b4-2127db95bbf1"
   },
   "id": "JyfWwP7Yp3oq",
   "execution_count": 144,
   "outputs": [
    {
     "output_type": "stream",
     "name": "stdout",
     "text": [
      "torch.Size([32, 3, 224, 224]) tensor([3, 0, 6, 6, 3, 6, 0, 5, 6, 0, 3, 5, 0, 2, 3, 0, 4, 6, 2, 0, 4, 3, 2, 5,\n",
      "        6, 5, 3, 0, 5, 0, 3, 3])\n"
     ]
    }
   ]
  },
  {
   "cell_type": "code",
   "source": [
    "vision_transformer = models.vit_b_16(weights=models.ViT_B_16_Weights.DEFAULT)\n",
    "\n",
    "vision_transformer"
   ],
   "metadata": {
    "colab": {
     "base_uri": "https://localhost:8080/"
    },
    "id": "SF1mlydViIG-",
    "outputId": "ae04215c-b9e9-4cde-a139-38085c6bdff4"
   },
   "id": "SF1mlydViIG-",
   "execution_count": 145,
   "outputs": [
    {
     "output_type": "execute_result",
     "data": {
      "text/plain": [
       "VisionTransformer(\n",
       "  (conv_proj): Conv2d(3, 768, kernel_size=(16, 16), stride=(16, 16))\n",
       "  (encoder): Encoder(\n",
       "    (dropout): Dropout(p=0.0, inplace=False)\n",
       "    (layers): Sequential(\n",
       "      (encoder_layer_0): EncoderBlock(\n",
       "        (ln_1): LayerNorm((768,), eps=1e-06, elementwise_affine=True)\n",
       "        (self_attention): MultiheadAttention(\n",
       "          (out_proj): NonDynamicallyQuantizableLinear(in_features=768, out_features=768, bias=True)\n",
       "        )\n",
       "        (dropout): Dropout(p=0.0, inplace=False)\n",
       "        (ln_2): LayerNorm((768,), eps=1e-06, elementwise_affine=True)\n",
       "        (mlp): MLPBlock(\n",
       "          (0): Linear(in_features=768, out_features=3072, bias=True)\n",
       "          (1): GELU(approximate='none')\n",
       "          (2): Dropout(p=0.0, inplace=False)\n",
       "          (3): Linear(in_features=3072, out_features=768, bias=True)\n",
       "          (4): Dropout(p=0.0, inplace=False)\n",
       "        )\n",
       "      )\n",
       "      (encoder_layer_1): EncoderBlock(\n",
       "        (ln_1): LayerNorm((768,), eps=1e-06, elementwise_affine=True)\n",
       "        (self_attention): MultiheadAttention(\n",
       "          (out_proj): NonDynamicallyQuantizableLinear(in_features=768, out_features=768, bias=True)\n",
       "        )\n",
       "        (dropout): Dropout(p=0.0, inplace=False)\n",
       "        (ln_2): LayerNorm((768,), eps=1e-06, elementwise_affine=True)\n",
       "        (mlp): MLPBlock(\n",
       "          (0): Linear(in_features=768, out_features=3072, bias=True)\n",
       "          (1): GELU(approximate='none')\n",
       "          (2): Dropout(p=0.0, inplace=False)\n",
       "          (3): Linear(in_features=3072, out_features=768, bias=True)\n",
       "          (4): Dropout(p=0.0, inplace=False)\n",
       "        )\n",
       "      )\n",
       "      (encoder_layer_2): EncoderBlock(\n",
       "        (ln_1): LayerNorm((768,), eps=1e-06, elementwise_affine=True)\n",
       "        (self_attention): MultiheadAttention(\n",
       "          (out_proj): NonDynamicallyQuantizableLinear(in_features=768, out_features=768, bias=True)\n",
       "        )\n",
       "        (dropout): Dropout(p=0.0, inplace=False)\n",
       "        (ln_2): LayerNorm((768,), eps=1e-06, elementwise_affine=True)\n",
       "        (mlp): MLPBlock(\n",
       "          (0): Linear(in_features=768, out_features=3072, bias=True)\n",
       "          (1): GELU(approximate='none')\n",
       "          (2): Dropout(p=0.0, inplace=False)\n",
       "          (3): Linear(in_features=3072, out_features=768, bias=True)\n",
       "          (4): Dropout(p=0.0, inplace=False)\n",
       "        )\n",
       "      )\n",
       "      (encoder_layer_3): EncoderBlock(\n",
       "        (ln_1): LayerNorm((768,), eps=1e-06, elementwise_affine=True)\n",
       "        (self_attention): MultiheadAttention(\n",
       "          (out_proj): NonDynamicallyQuantizableLinear(in_features=768, out_features=768, bias=True)\n",
       "        )\n",
       "        (dropout): Dropout(p=0.0, inplace=False)\n",
       "        (ln_2): LayerNorm((768,), eps=1e-06, elementwise_affine=True)\n",
       "        (mlp): MLPBlock(\n",
       "          (0): Linear(in_features=768, out_features=3072, bias=True)\n",
       "          (1): GELU(approximate='none')\n",
       "          (2): Dropout(p=0.0, inplace=False)\n",
       "          (3): Linear(in_features=3072, out_features=768, bias=True)\n",
       "          (4): Dropout(p=0.0, inplace=False)\n",
       "        )\n",
       "      )\n",
       "      (encoder_layer_4): EncoderBlock(\n",
       "        (ln_1): LayerNorm((768,), eps=1e-06, elementwise_affine=True)\n",
       "        (self_attention): MultiheadAttention(\n",
       "          (out_proj): NonDynamicallyQuantizableLinear(in_features=768, out_features=768, bias=True)\n",
       "        )\n",
       "        (dropout): Dropout(p=0.0, inplace=False)\n",
       "        (ln_2): LayerNorm((768,), eps=1e-06, elementwise_affine=True)\n",
       "        (mlp): MLPBlock(\n",
       "          (0): Linear(in_features=768, out_features=3072, bias=True)\n",
       "          (1): GELU(approximate='none')\n",
       "          (2): Dropout(p=0.0, inplace=False)\n",
       "          (3): Linear(in_features=3072, out_features=768, bias=True)\n",
       "          (4): Dropout(p=0.0, inplace=False)\n",
       "        )\n",
       "      )\n",
       "      (encoder_layer_5): EncoderBlock(\n",
       "        (ln_1): LayerNorm((768,), eps=1e-06, elementwise_affine=True)\n",
       "        (self_attention): MultiheadAttention(\n",
       "          (out_proj): NonDynamicallyQuantizableLinear(in_features=768, out_features=768, bias=True)\n",
       "        )\n",
       "        (dropout): Dropout(p=0.0, inplace=False)\n",
       "        (ln_2): LayerNorm((768,), eps=1e-06, elementwise_affine=True)\n",
       "        (mlp): MLPBlock(\n",
       "          (0): Linear(in_features=768, out_features=3072, bias=True)\n",
       "          (1): GELU(approximate='none')\n",
       "          (2): Dropout(p=0.0, inplace=False)\n",
       "          (3): Linear(in_features=3072, out_features=768, bias=True)\n",
       "          (4): Dropout(p=0.0, inplace=False)\n",
       "        )\n",
       "      )\n",
       "      (encoder_layer_6): EncoderBlock(\n",
       "        (ln_1): LayerNorm((768,), eps=1e-06, elementwise_affine=True)\n",
       "        (self_attention): MultiheadAttention(\n",
       "          (out_proj): NonDynamicallyQuantizableLinear(in_features=768, out_features=768, bias=True)\n",
       "        )\n",
       "        (dropout): Dropout(p=0.0, inplace=False)\n",
       "        (ln_2): LayerNorm((768,), eps=1e-06, elementwise_affine=True)\n",
       "        (mlp): MLPBlock(\n",
       "          (0): Linear(in_features=768, out_features=3072, bias=True)\n",
       "          (1): GELU(approximate='none')\n",
       "          (2): Dropout(p=0.0, inplace=False)\n",
       "          (3): Linear(in_features=3072, out_features=768, bias=True)\n",
       "          (4): Dropout(p=0.0, inplace=False)\n",
       "        )\n",
       "      )\n",
       "      (encoder_layer_7): EncoderBlock(\n",
       "        (ln_1): LayerNorm((768,), eps=1e-06, elementwise_affine=True)\n",
       "        (self_attention): MultiheadAttention(\n",
       "          (out_proj): NonDynamicallyQuantizableLinear(in_features=768, out_features=768, bias=True)\n",
       "        )\n",
       "        (dropout): Dropout(p=0.0, inplace=False)\n",
       "        (ln_2): LayerNorm((768,), eps=1e-06, elementwise_affine=True)\n",
       "        (mlp): MLPBlock(\n",
       "          (0): Linear(in_features=768, out_features=3072, bias=True)\n",
       "          (1): GELU(approximate='none')\n",
       "          (2): Dropout(p=0.0, inplace=False)\n",
       "          (3): Linear(in_features=3072, out_features=768, bias=True)\n",
       "          (4): Dropout(p=0.0, inplace=False)\n",
       "        )\n",
       "      )\n",
       "      (encoder_layer_8): EncoderBlock(\n",
       "        (ln_1): LayerNorm((768,), eps=1e-06, elementwise_affine=True)\n",
       "        (self_attention): MultiheadAttention(\n",
       "          (out_proj): NonDynamicallyQuantizableLinear(in_features=768, out_features=768, bias=True)\n",
       "        )\n",
       "        (dropout): Dropout(p=0.0, inplace=False)\n",
       "        (ln_2): LayerNorm((768,), eps=1e-06, elementwise_affine=True)\n",
       "        (mlp): MLPBlock(\n",
       "          (0): Linear(in_features=768, out_features=3072, bias=True)\n",
       "          (1): GELU(approximate='none')\n",
       "          (2): Dropout(p=0.0, inplace=False)\n",
       "          (3): Linear(in_features=3072, out_features=768, bias=True)\n",
       "          (4): Dropout(p=0.0, inplace=False)\n",
       "        )\n",
       "      )\n",
       "      (encoder_layer_9): EncoderBlock(\n",
       "        (ln_1): LayerNorm((768,), eps=1e-06, elementwise_affine=True)\n",
       "        (self_attention): MultiheadAttention(\n",
       "          (out_proj): NonDynamicallyQuantizableLinear(in_features=768, out_features=768, bias=True)\n",
       "        )\n",
       "        (dropout): Dropout(p=0.0, inplace=False)\n",
       "        (ln_2): LayerNorm((768,), eps=1e-06, elementwise_affine=True)\n",
       "        (mlp): MLPBlock(\n",
       "          (0): Linear(in_features=768, out_features=3072, bias=True)\n",
       "          (1): GELU(approximate='none')\n",
       "          (2): Dropout(p=0.0, inplace=False)\n",
       "          (3): Linear(in_features=3072, out_features=768, bias=True)\n",
       "          (4): Dropout(p=0.0, inplace=False)\n",
       "        )\n",
       "      )\n",
       "      (encoder_layer_10): EncoderBlock(\n",
       "        (ln_1): LayerNorm((768,), eps=1e-06, elementwise_affine=True)\n",
       "        (self_attention): MultiheadAttention(\n",
       "          (out_proj): NonDynamicallyQuantizableLinear(in_features=768, out_features=768, bias=True)\n",
       "        )\n",
       "        (dropout): Dropout(p=0.0, inplace=False)\n",
       "        (ln_2): LayerNorm((768,), eps=1e-06, elementwise_affine=True)\n",
       "        (mlp): MLPBlock(\n",
       "          (0): Linear(in_features=768, out_features=3072, bias=True)\n",
       "          (1): GELU(approximate='none')\n",
       "          (2): Dropout(p=0.0, inplace=False)\n",
       "          (3): Linear(in_features=3072, out_features=768, bias=True)\n",
       "          (4): Dropout(p=0.0, inplace=False)\n",
       "        )\n",
       "      )\n",
       "      (encoder_layer_11): EncoderBlock(\n",
       "        (ln_1): LayerNorm((768,), eps=1e-06, elementwise_affine=True)\n",
       "        (self_attention): MultiheadAttention(\n",
       "          (out_proj): NonDynamicallyQuantizableLinear(in_features=768, out_features=768, bias=True)\n",
       "        )\n",
       "        (dropout): Dropout(p=0.0, inplace=False)\n",
       "        (ln_2): LayerNorm((768,), eps=1e-06, elementwise_affine=True)\n",
       "        (mlp): MLPBlock(\n",
       "          (0): Linear(in_features=768, out_features=3072, bias=True)\n",
       "          (1): GELU(approximate='none')\n",
       "          (2): Dropout(p=0.0, inplace=False)\n",
       "          (3): Linear(in_features=3072, out_features=768, bias=True)\n",
       "          (4): Dropout(p=0.0, inplace=False)\n",
       "        )\n",
       "      )\n",
       "    )\n",
       "    (ln): LayerNorm((768,), eps=1e-06, elementwise_affine=True)\n",
       "  )\n",
       "  (heads): Sequential(\n",
       "    (head): Linear(in_features=768, out_features=1000, bias=True)\n",
       "  )\n",
       ")"
      ]
     },
     "metadata": {},
     "execution_count": 145
    }
   ]
  },
  {
   "cell_type": "code",
   "source": [
    "vision_transformer.heads"
   ],
   "metadata": {
    "colab": {
     "base_uri": "https://localhost:8080/"
    },
    "id": "Uz0l3FtNiJym",
    "outputId": "9bf26767-fde3-4ebd-fe59-69a429a2a742"
   },
   "id": "Uz0l3FtNiJym",
   "execution_count": 146,
   "outputs": [
    {
     "output_type": "execute_result",
     "data": {
      "text/plain": [
       "Sequential(\n",
       "  (head): Linear(in_features=768, out_features=1000, bias=True)\n",
       ")"
      ]
     },
     "metadata": {},
     "execution_count": 146
    }
   ]
  },
  {
   "cell_type": "code",
   "source": [
    "# fine-tune with dataset\n",
    "\n",
    "# change the number of output classes\n",
    "vision_transformer.heads = nn.Linear(in_features=256*3, out_features=7, bias=True)\n",
    "\n",
    "# freeze the parameters except the last linear layer\n",
    "#\n",
    "# freeze weights\n",
    "for p in vision_transformer.parameters():\n",
    "    p.requires_grad = False\n",
    "\n",
    "# unfreeze weights of classification head to train\n",
    "for p in vision_transformer.heads.parameters():\n",
    "    p.requires_grad = True"
   ],
   "metadata": {
    "id": "tavKWOd1iJu7"
   },
   "id": "tavKWOd1iJu7",
   "execution_count": 153,
   "outputs": []
  },
  {
   "cell_type": "code",
   "source": [
    "# check whether corresponding layers are frozen\n",
    "\n",
    "for layer_name, p in vision_transformer.named_parameters():\n",
    "    print('Layer Name: {}, Frozen: {}'.format(layer_name, not p.requires_grad))\n",
    "    print()"
   ],
   "metadata": {
    "colab": {
     "base_uri": "https://localhost:8080/"
    },
    "id": "h73umB1DiJnU",
    "outputId": "72441c89-7c12-4222-e210-fa2c975561c9"
   },
   "id": "h73umB1DiJnU",
   "execution_count": 154,
   "outputs": [
    {
     "output_type": "stream",
     "name": "stdout",
     "text": [
      "Layer Name: class_token, Frozen: True\n",
      "\n",
      "Layer Name: conv_proj.weight, Frozen: True\n",
      "\n",
      "Layer Name: conv_proj.bias, Frozen: True\n",
      "\n",
      "Layer Name: encoder.pos_embedding, Frozen: True\n",
      "\n",
      "Layer Name: encoder.layers.encoder_layer_0.ln_1.weight, Frozen: True\n",
      "\n",
      "Layer Name: encoder.layers.encoder_layer_0.ln_1.bias, Frozen: True\n",
      "\n",
      "Layer Name: encoder.layers.encoder_layer_0.self_attention.in_proj_weight, Frozen: True\n",
      "\n",
      "Layer Name: encoder.layers.encoder_layer_0.self_attention.in_proj_bias, Frozen: True\n",
      "\n",
      "Layer Name: encoder.layers.encoder_layer_0.self_attention.out_proj.weight, Frozen: True\n",
      "\n",
      "Layer Name: encoder.layers.encoder_layer_0.self_attention.out_proj.bias, Frozen: True\n",
      "\n",
      "Layer Name: encoder.layers.encoder_layer_0.ln_2.weight, Frozen: True\n",
      "\n",
      "Layer Name: encoder.layers.encoder_layer_0.ln_2.bias, Frozen: True\n",
      "\n",
      "Layer Name: encoder.layers.encoder_layer_0.mlp.0.weight, Frozen: True\n",
      "\n",
      "Layer Name: encoder.layers.encoder_layer_0.mlp.0.bias, Frozen: True\n",
      "\n",
      "Layer Name: encoder.layers.encoder_layer_0.mlp.3.weight, Frozen: True\n",
      "\n",
      "Layer Name: encoder.layers.encoder_layer_0.mlp.3.bias, Frozen: True\n",
      "\n",
      "Layer Name: encoder.layers.encoder_layer_1.ln_1.weight, Frozen: True\n",
      "\n",
      "Layer Name: encoder.layers.encoder_layer_1.ln_1.bias, Frozen: True\n",
      "\n",
      "Layer Name: encoder.layers.encoder_layer_1.self_attention.in_proj_weight, Frozen: True\n",
      "\n",
      "Layer Name: encoder.layers.encoder_layer_1.self_attention.in_proj_bias, Frozen: True\n",
      "\n",
      "Layer Name: encoder.layers.encoder_layer_1.self_attention.out_proj.weight, Frozen: True\n",
      "\n",
      "Layer Name: encoder.layers.encoder_layer_1.self_attention.out_proj.bias, Frozen: True\n",
      "\n",
      "Layer Name: encoder.layers.encoder_layer_1.ln_2.weight, Frozen: True\n",
      "\n",
      "Layer Name: encoder.layers.encoder_layer_1.ln_2.bias, Frozen: True\n",
      "\n",
      "Layer Name: encoder.layers.encoder_layer_1.mlp.0.weight, Frozen: True\n",
      "\n",
      "Layer Name: encoder.layers.encoder_layer_1.mlp.0.bias, Frozen: True\n",
      "\n",
      "Layer Name: encoder.layers.encoder_layer_1.mlp.3.weight, Frozen: True\n",
      "\n",
      "Layer Name: encoder.layers.encoder_layer_1.mlp.3.bias, Frozen: True\n",
      "\n",
      "Layer Name: encoder.layers.encoder_layer_2.ln_1.weight, Frozen: True\n",
      "\n",
      "Layer Name: encoder.layers.encoder_layer_2.ln_1.bias, Frozen: True\n",
      "\n",
      "Layer Name: encoder.layers.encoder_layer_2.self_attention.in_proj_weight, Frozen: True\n",
      "\n",
      "Layer Name: encoder.layers.encoder_layer_2.self_attention.in_proj_bias, Frozen: True\n",
      "\n",
      "Layer Name: encoder.layers.encoder_layer_2.self_attention.out_proj.weight, Frozen: True\n",
      "\n",
      "Layer Name: encoder.layers.encoder_layer_2.self_attention.out_proj.bias, Frozen: True\n",
      "\n",
      "Layer Name: encoder.layers.encoder_layer_2.ln_2.weight, Frozen: True\n",
      "\n",
      "Layer Name: encoder.layers.encoder_layer_2.ln_2.bias, Frozen: True\n",
      "\n",
      "Layer Name: encoder.layers.encoder_layer_2.mlp.0.weight, Frozen: True\n",
      "\n",
      "Layer Name: encoder.layers.encoder_layer_2.mlp.0.bias, Frozen: True\n",
      "\n",
      "Layer Name: encoder.layers.encoder_layer_2.mlp.3.weight, Frozen: True\n",
      "\n",
      "Layer Name: encoder.layers.encoder_layer_2.mlp.3.bias, Frozen: True\n",
      "\n",
      "Layer Name: encoder.layers.encoder_layer_3.ln_1.weight, Frozen: True\n",
      "\n",
      "Layer Name: encoder.layers.encoder_layer_3.ln_1.bias, Frozen: True\n",
      "\n",
      "Layer Name: encoder.layers.encoder_layer_3.self_attention.in_proj_weight, Frozen: True\n",
      "\n",
      "Layer Name: encoder.layers.encoder_layer_3.self_attention.in_proj_bias, Frozen: True\n",
      "\n",
      "Layer Name: encoder.layers.encoder_layer_3.self_attention.out_proj.weight, Frozen: True\n",
      "\n",
      "Layer Name: encoder.layers.encoder_layer_3.self_attention.out_proj.bias, Frozen: True\n",
      "\n",
      "Layer Name: encoder.layers.encoder_layer_3.ln_2.weight, Frozen: True\n",
      "\n",
      "Layer Name: encoder.layers.encoder_layer_3.ln_2.bias, Frozen: True\n",
      "\n",
      "Layer Name: encoder.layers.encoder_layer_3.mlp.0.weight, Frozen: True\n",
      "\n",
      "Layer Name: encoder.layers.encoder_layer_3.mlp.0.bias, Frozen: True\n",
      "\n",
      "Layer Name: encoder.layers.encoder_layer_3.mlp.3.weight, Frozen: True\n",
      "\n",
      "Layer Name: encoder.layers.encoder_layer_3.mlp.3.bias, Frozen: True\n",
      "\n",
      "Layer Name: encoder.layers.encoder_layer_4.ln_1.weight, Frozen: True\n",
      "\n",
      "Layer Name: encoder.layers.encoder_layer_4.ln_1.bias, Frozen: True\n",
      "\n",
      "Layer Name: encoder.layers.encoder_layer_4.self_attention.in_proj_weight, Frozen: True\n",
      "\n",
      "Layer Name: encoder.layers.encoder_layer_4.self_attention.in_proj_bias, Frozen: True\n",
      "\n",
      "Layer Name: encoder.layers.encoder_layer_4.self_attention.out_proj.weight, Frozen: True\n",
      "\n",
      "Layer Name: encoder.layers.encoder_layer_4.self_attention.out_proj.bias, Frozen: True\n",
      "\n",
      "Layer Name: encoder.layers.encoder_layer_4.ln_2.weight, Frozen: True\n",
      "\n",
      "Layer Name: encoder.layers.encoder_layer_4.ln_2.bias, Frozen: True\n",
      "\n",
      "Layer Name: encoder.layers.encoder_layer_4.mlp.0.weight, Frozen: True\n",
      "\n",
      "Layer Name: encoder.layers.encoder_layer_4.mlp.0.bias, Frozen: True\n",
      "\n",
      "Layer Name: encoder.layers.encoder_layer_4.mlp.3.weight, Frozen: True\n",
      "\n",
      "Layer Name: encoder.layers.encoder_layer_4.mlp.3.bias, Frozen: True\n",
      "\n",
      "Layer Name: encoder.layers.encoder_layer_5.ln_1.weight, Frozen: True\n",
      "\n",
      "Layer Name: encoder.layers.encoder_layer_5.ln_1.bias, Frozen: True\n",
      "\n",
      "Layer Name: encoder.layers.encoder_layer_5.self_attention.in_proj_weight, Frozen: True\n",
      "\n",
      "Layer Name: encoder.layers.encoder_layer_5.self_attention.in_proj_bias, Frozen: True\n",
      "\n",
      "Layer Name: encoder.layers.encoder_layer_5.self_attention.out_proj.weight, Frozen: True\n",
      "\n",
      "Layer Name: encoder.layers.encoder_layer_5.self_attention.out_proj.bias, Frozen: True\n",
      "\n",
      "Layer Name: encoder.layers.encoder_layer_5.ln_2.weight, Frozen: True\n",
      "\n",
      "Layer Name: encoder.layers.encoder_layer_5.ln_2.bias, Frozen: True\n",
      "\n",
      "Layer Name: encoder.layers.encoder_layer_5.mlp.0.weight, Frozen: True\n",
      "\n",
      "Layer Name: encoder.layers.encoder_layer_5.mlp.0.bias, Frozen: True\n",
      "\n",
      "Layer Name: encoder.layers.encoder_layer_5.mlp.3.weight, Frozen: True\n",
      "\n",
      "Layer Name: encoder.layers.encoder_layer_5.mlp.3.bias, Frozen: True\n",
      "\n",
      "Layer Name: encoder.layers.encoder_layer_6.ln_1.weight, Frozen: True\n",
      "\n",
      "Layer Name: encoder.layers.encoder_layer_6.ln_1.bias, Frozen: True\n",
      "\n",
      "Layer Name: encoder.layers.encoder_layer_6.self_attention.in_proj_weight, Frozen: True\n",
      "\n",
      "Layer Name: encoder.layers.encoder_layer_6.self_attention.in_proj_bias, Frozen: True\n",
      "\n",
      "Layer Name: encoder.layers.encoder_layer_6.self_attention.out_proj.weight, Frozen: True\n",
      "\n",
      "Layer Name: encoder.layers.encoder_layer_6.self_attention.out_proj.bias, Frozen: True\n",
      "\n",
      "Layer Name: encoder.layers.encoder_layer_6.ln_2.weight, Frozen: True\n",
      "\n",
      "Layer Name: encoder.layers.encoder_layer_6.ln_2.bias, Frozen: True\n",
      "\n",
      "Layer Name: encoder.layers.encoder_layer_6.mlp.0.weight, Frozen: True\n",
      "\n",
      "Layer Name: encoder.layers.encoder_layer_6.mlp.0.bias, Frozen: True\n",
      "\n",
      "Layer Name: encoder.layers.encoder_layer_6.mlp.3.weight, Frozen: True\n",
      "\n",
      "Layer Name: encoder.layers.encoder_layer_6.mlp.3.bias, Frozen: True\n",
      "\n",
      "Layer Name: encoder.layers.encoder_layer_7.ln_1.weight, Frozen: True\n",
      "\n",
      "Layer Name: encoder.layers.encoder_layer_7.ln_1.bias, Frozen: True\n",
      "\n",
      "Layer Name: encoder.layers.encoder_layer_7.self_attention.in_proj_weight, Frozen: True\n",
      "\n",
      "Layer Name: encoder.layers.encoder_layer_7.self_attention.in_proj_bias, Frozen: True\n",
      "\n",
      "Layer Name: encoder.layers.encoder_layer_7.self_attention.out_proj.weight, Frozen: True\n",
      "\n",
      "Layer Name: encoder.layers.encoder_layer_7.self_attention.out_proj.bias, Frozen: True\n",
      "\n",
      "Layer Name: encoder.layers.encoder_layer_7.ln_2.weight, Frozen: True\n",
      "\n",
      "Layer Name: encoder.layers.encoder_layer_7.ln_2.bias, Frozen: True\n",
      "\n",
      "Layer Name: encoder.layers.encoder_layer_7.mlp.0.weight, Frozen: True\n",
      "\n",
      "Layer Name: encoder.layers.encoder_layer_7.mlp.0.bias, Frozen: True\n",
      "\n",
      "Layer Name: encoder.layers.encoder_layer_7.mlp.3.weight, Frozen: True\n",
      "\n",
      "Layer Name: encoder.layers.encoder_layer_7.mlp.3.bias, Frozen: True\n",
      "\n",
      "Layer Name: encoder.layers.encoder_layer_8.ln_1.weight, Frozen: True\n",
      "\n",
      "Layer Name: encoder.layers.encoder_layer_8.ln_1.bias, Frozen: True\n",
      "\n",
      "Layer Name: encoder.layers.encoder_layer_8.self_attention.in_proj_weight, Frozen: True\n",
      "\n",
      "Layer Name: encoder.layers.encoder_layer_8.self_attention.in_proj_bias, Frozen: True\n",
      "\n",
      "Layer Name: encoder.layers.encoder_layer_8.self_attention.out_proj.weight, Frozen: True\n",
      "\n",
      "Layer Name: encoder.layers.encoder_layer_8.self_attention.out_proj.bias, Frozen: True\n",
      "\n",
      "Layer Name: encoder.layers.encoder_layer_8.ln_2.weight, Frozen: True\n",
      "\n",
      "Layer Name: encoder.layers.encoder_layer_8.ln_2.bias, Frozen: True\n",
      "\n",
      "Layer Name: encoder.layers.encoder_layer_8.mlp.0.weight, Frozen: True\n",
      "\n",
      "Layer Name: encoder.layers.encoder_layer_8.mlp.0.bias, Frozen: True\n",
      "\n",
      "Layer Name: encoder.layers.encoder_layer_8.mlp.3.weight, Frozen: True\n",
      "\n",
      "Layer Name: encoder.layers.encoder_layer_8.mlp.3.bias, Frozen: True\n",
      "\n",
      "Layer Name: encoder.layers.encoder_layer_9.ln_1.weight, Frozen: True\n",
      "\n",
      "Layer Name: encoder.layers.encoder_layer_9.ln_1.bias, Frozen: True\n",
      "\n",
      "Layer Name: encoder.layers.encoder_layer_9.self_attention.in_proj_weight, Frozen: True\n",
      "\n",
      "Layer Name: encoder.layers.encoder_layer_9.self_attention.in_proj_bias, Frozen: True\n",
      "\n",
      "Layer Name: encoder.layers.encoder_layer_9.self_attention.out_proj.weight, Frozen: True\n",
      "\n",
      "Layer Name: encoder.layers.encoder_layer_9.self_attention.out_proj.bias, Frozen: True\n",
      "\n",
      "Layer Name: encoder.layers.encoder_layer_9.ln_2.weight, Frozen: True\n",
      "\n",
      "Layer Name: encoder.layers.encoder_layer_9.ln_2.bias, Frozen: True\n",
      "\n",
      "Layer Name: encoder.layers.encoder_layer_9.mlp.0.weight, Frozen: True\n",
      "\n",
      "Layer Name: encoder.layers.encoder_layer_9.mlp.0.bias, Frozen: True\n",
      "\n",
      "Layer Name: encoder.layers.encoder_layer_9.mlp.3.weight, Frozen: True\n",
      "\n",
      "Layer Name: encoder.layers.encoder_layer_9.mlp.3.bias, Frozen: True\n",
      "\n",
      "Layer Name: encoder.layers.encoder_layer_10.ln_1.weight, Frozen: True\n",
      "\n",
      "Layer Name: encoder.layers.encoder_layer_10.ln_1.bias, Frozen: True\n",
      "\n",
      "Layer Name: encoder.layers.encoder_layer_10.self_attention.in_proj_weight, Frozen: True\n",
      "\n",
      "Layer Name: encoder.layers.encoder_layer_10.self_attention.in_proj_bias, Frozen: True\n",
      "\n",
      "Layer Name: encoder.layers.encoder_layer_10.self_attention.out_proj.weight, Frozen: True\n",
      "\n",
      "Layer Name: encoder.layers.encoder_layer_10.self_attention.out_proj.bias, Frozen: True\n",
      "\n",
      "Layer Name: encoder.layers.encoder_layer_10.ln_2.weight, Frozen: True\n",
      "\n",
      "Layer Name: encoder.layers.encoder_layer_10.ln_2.bias, Frozen: True\n",
      "\n",
      "Layer Name: encoder.layers.encoder_layer_10.mlp.0.weight, Frozen: True\n",
      "\n",
      "Layer Name: encoder.layers.encoder_layer_10.mlp.0.bias, Frozen: True\n",
      "\n",
      "Layer Name: encoder.layers.encoder_layer_10.mlp.3.weight, Frozen: True\n",
      "\n",
      "Layer Name: encoder.layers.encoder_layer_10.mlp.3.bias, Frozen: True\n",
      "\n",
      "Layer Name: encoder.layers.encoder_layer_11.ln_1.weight, Frozen: True\n",
      "\n",
      "Layer Name: encoder.layers.encoder_layer_11.ln_1.bias, Frozen: True\n",
      "\n",
      "Layer Name: encoder.layers.encoder_layer_11.self_attention.in_proj_weight, Frozen: True\n",
      "\n",
      "Layer Name: encoder.layers.encoder_layer_11.self_attention.in_proj_bias, Frozen: True\n",
      "\n",
      "Layer Name: encoder.layers.encoder_layer_11.self_attention.out_proj.weight, Frozen: True\n",
      "\n",
      "Layer Name: encoder.layers.encoder_layer_11.self_attention.out_proj.bias, Frozen: True\n",
      "\n",
      "Layer Name: encoder.layers.encoder_layer_11.ln_2.weight, Frozen: True\n",
      "\n",
      "Layer Name: encoder.layers.encoder_layer_11.ln_2.bias, Frozen: True\n",
      "\n",
      "Layer Name: encoder.layers.encoder_layer_11.mlp.0.weight, Frozen: True\n",
      "\n",
      "Layer Name: encoder.layers.encoder_layer_11.mlp.0.bias, Frozen: True\n",
      "\n",
      "Layer Name: encoder.layers.encoder_layer_11.mlp.3.weight, Frozen: True\n",
      "\n",
      "Layer Name: encoder.layers.encoder_layer_11.mlp.3.bias, Frozen: True\n",
      "\n",
      "Layer Name: encoder.ln.weight, Frozen: True\n",
      "\n",
      "Layer Name: encoder.ln.bias, Frozen: True\n",
      "\n",
      "Layer Name: heads.weight, Frozen: False\n",
      "\n",
      "Layer Name: heads.bias, Frozen: False\n"
     ]
    }
   ]
  },
  {
   "cell_type": "code",
   "source": [
    "# specify loss function\n",
    "criterion = nn.CrossEntropyLoss()\n",
    "\n",
    "# define optimizer\n",
    "# only train the parameters with requires_grad set to True\n",
    "optimizer = optim.Adam(filter(lambda p: p.requires_grad, vision_transformer.parameters()), lr=0.0001)\n"
   ],
   "metadata": {
    "id": "SmIyYtvkiJWG"
   },
   "id": "SmIyYtvkiJWG",
   "execution_count": 155,
   "outputs": []
  },
  {
   "cell_type": "code",
   "source": [
    "# Check for a GPU\n",
    "train_on_gpu = torch.cuda.is_available()\n",
    "train_on_gpu"
   ],
   "metadata": {
    "colab": {
     "base_uri": "https://localhost:8080/"
    },
    "id": "kg0CtjrrjC_k",
    "outputId": "36f2390e-791e-4802-bd68-c3fdc378f2d3"
   },
   "id": "kg0CtjrrjC_k",
   "execution_count": 156,
   "outputs": [
    {
     "output_type": "execute_result",
     "data": {
      "text/plain": [
       "True"
      ]
     },
     "metadata": {},
     "execution_count": 156
    }
   ]
  },
  {
   "cell_type": "code",
   "source": [
    "from tqdm import tqdm"
   ],
   "metadata": {
    "id": "kZ47uJ0AjC6n"
   },
   "id": "kZ47uJ0AjC6n",
   "execution_count": 157,
   "outputs": []
  },
  {
   "cell_type": "code",
   "source": [
    "# Train model\n",
    "\n",
    "# number of epochs ... this needs to be way higher .\n",
    "# mostly transformer based model are done for really high epochs\n",
    "n_epoch = 10\n",
    "\n",
    "train_loss_list, valid_loss_list = [], []\n",
    "\n",
    "# move model to GPU\n",
    "if train_on_gpu:\n",
    "    vision_transformer.to('cuda')\n",
    "\n",
    "# prepare model for training\n",
    "vision_transformer.train()\n",
    "\n",
    "for e in range(n_epoch):\n",
    "    train_loss = 0.0\n",
    "    valid_loss = 0.0\n",
    "\n",
    "    # get batch data\n",
    "    for i, (images, targets) in tqdm( enumerate(train_loader)):\n",
    "\n",
    "        # move to gpu if available\n",
    "        if train_on_gpu:\n",
    "            images, targets = images.to('cuda'), targets.to('cuda')\n",
    "\n",
    "        # clear grad\n",
    "        optimizer.zero_grad()\n",
    "\n",
    "        # feedforward data\n",
    "        outputs = vision_transformer(images)\n",
    "\n",
    "        # calculate loss\n",
    "        loss = criterion(outputs, targets)\n",
    "\n",
    "        # backward pass, calculate gradients\n",
    "        loss.backward()\n",
    "\n",
    "        # update weights\n",
    "        optimizer.step()\n",
    "\n",
    "        # track loss\n",
    "        train_loss += loss.item()\n",
    "\n",
    "    # set model to evaluation mode\n",
    "    vision_transformer.eval()\n",
    "\n",
    "    # validate model\n",
    "    for images, targets in valid_loader:\n",
    "\n",
    "        # move to gpu if available\n",
    "        if train_on_gpu:\n",
    "            images = images.to('cuda')\n",
    "            targets = targets.to('cuda')\n",
    "\n",
    "        # turn off gradients\n",
    "        with torch.no_grad():\n",
    "\n",
    "            outputs = vision_transformer(images)\n",
    "            loss = criterion(outputs, targets)\n",
    "            valid_loss += loss.item()\n",
    "\n",
    "    # set model back to training mode\n",
    "    vision_transformer.train()\n",
    "\n",
    "    # get average loss values\n",
    "    train_loss = train_loss / len(train_loader)\n",
    "    valid_loss = valid_loss / len(valid_loader)\n",
    "\n",
    "    train_loss_list.append(train_loss)\n",
    "    valid_loss_list.append(valid_loss)\n",
    "\n",
    "    # output training statistics for epoch\n",
    "    print('Epoch: {} \\t Training Loss: {:.6f} \\t Validation Loss: {:.6f}'\n",
    "                  .format( (e+1), train_loss, valid_loss))\n",
    "\n"
   ],
   "metadata": {
    "colab": {
     "base_uri": "https://localhost:8080/"
    },
    "id": "WkbOW0gNjCzC",
    "outputId": "3ab970f2-3bb1-4758-f32b-8af9a9eae1d1"
   },
   "id": "WkbOW0gNjCzC",
   "execution_count": 158,
   "outputs": [
    {
     "output_type": "stream",
     "name": "stderr",
     "text": [
      "898it [07:55,  1.89it/s]\n"
     ]
    },
    {
     "output_type": "stream",
     "name": "stdout",
     "text": [
      "Epoch: 1 \t Training Loss: 1.646550 \t Validation Loss: 1.548221\n"
     ]
    },
    {
     "output_type": "stream",
     "name": "stderr",
     "text": [
      "898it [07:54,  1.89it/s]\n"
     ]
    },
    {
     "output_type": "stream",
     "name": "stdout",
     "text": [
      "Epoch: 2 \t Training Loss: 1.489277 \t Validation Loss: 1.472024\n"
     ]
    },
    {
     "output_type": "stream",
     "name": "stderr",
     "text": [
      "898it [07:55,  1.89it/s]\n"
     ]
    },
    {
     "output_type": "stream",
     "name": "stdout",
     "text": [
      "Epoch: 3 \t Training Loss: 1.432913 \t Validation Loss: 1.431123\n"
     ]
    },
    {
     "output_type": "stream",
     "name": "stderr",
     "text": [
      "898it [07:54,  1.89it/s]\n"
     ]
    },
    {
     "output_type": "stream",
     "name": "stdout",
     "text": [
      "Epoch: 4 \t Training Loss: 1.397400 \t Validation Loss: 1.399162\n"
     ]
    },
    {
     "output_type": "stream",
     "name": "stderr",
     "text": [
      "898it [07:53,  1.90it/s]\n"
     ]
    },
    {
     "output_type": "stream",
     "name": "stdout",
     "text": [
      "Epoch: 5 \t Training Loss: 1.371229 \t Validation Loss: 1.381830\n"
     ]
    },
    {
     "output_type": "stream",
     "name": "stderr",
     "text": [
      "898it [07:53,  1.90it/s]\n"
     ]
    },
    {
     "output_type": "stream",
     "name": "stdout",
     "text": [
      "Epoch: 6 \t Training Loss: 1.351185 \t Validation Loss: 1.362921\n"
     ]
    },
    {
     "output_type": "stream",
     "name": "stderr",
     "text": [
      "898it [07:56,  1.88it/s]\n"
     ]
    },
    {
     "output_type": "stream",
     "name": "stdout",
     "text": [
      "Epoch: 7 \t Training Loss: 1.334667 \t Validation Loss: 1.350710\n"
     ]
    },
    {
     "output_type": "stream",
     "name": "stderr",
     "text": [
      "898it [07:54,  1.89it/s]\n"
     ]
    },
    {
     "output_type": "stream",
     "name": "stdout",
     "text": [
      "Epoch: 8 \t Training Loss: 1.321184 \t Validation Loss: 1.336040\n"
     ]
    },
    {
     "output_type": "stream",
     "name": "stderr",
     "text": [
      "898it [07:53,  1.90it/s]\n"
     ]
    },
    {
     "output_type": "stream",
     "name": "stdout",
     "text": [
      "Epoch: 9 \t Training Loss: 1.309775 \t Validation Loss: 1.333640\n"
     ]
    },
    {
     "output_type": "stream",
     "name": "stderr",
     "text": [
      "898it [07:56,  1.89it/s]\n"
     ]
    },
    {
     "output_type": "stream",
     "name": "stdout",
     "text": [
      "Epoch: 10 \t Training Loss: 1.300262 \t Validation Loss: 1.328136\n"
     ]
    }
   ]
  },
  {
   "cell_type": "code",
   "source": [
    "torch.save(vision_transformer.state_dict(), \"./vit_weights.pth\")"
   ],
   "metadata": {
    "id": "yHSGYDZT5GHH"
   },
   "id": "yHSGYDZT5GHH",
   "execution_count": 159,
   "outputs": []
  },
  {
   "cell_type": "code",
   "source": [
    "!ls"
   ],
   "metadata": {
    "colab": {
     "base_uri": "https://localhost:8080/"
    },
    "id": "QcpC_dLg_ekp",
    "outputId": "3dce003b-a834-481f-8951-315c8a31f48a"
   },
   "id": "QcpC_dLg_ekp",
   "execution_count": 162,
   "outputs": [
    {
     "output_type": "stream",
     "name": "stdout",
     "text": [
      "archive\t\t\t    datalab  lib       mnt\t\t\t sbin\tvar\n",
      "archive.zip\t\t    dev      lib32     NGC-DL-CONTAINER-LICENSE  srv\tvit_weights.pth\n",
      "bin\t\t\t    etc      lib64     opt\t\t\t sys\n",
      "boot\t\t\t    gdrive   libx32    proc\t\t\t tmp\n",
      "content\t\t\t    home     __MACOSX  root\t\t\t tools\n",
      "cuda-keyring_1.0-1_all.deb  kaggle   media     run\t\t\t usr\n"
     ]
    }
   ]
  },
  {
   "cell_type": "code",
   "source": [
    "!cp vit_weights.pth gdrive/MyDrive/"
   ],
   "metadata": {
    "id": "K867u_Tl_VRf"
   },
   "id": "K867u_Tl_VRf",
   "execution_count": 166,
   "outputs": []
  },
  {
   "cell_type": "code",
   "source": [
    "!ls gdrive/MyDrive/ | grep vit"
   ],
   "metadata": {
    "colab": {
     "base_uri": "https://localhost:8080/"
    },
    "id": "27nJn2It_zZB",
    "outputId": "ca9a703b-56e4-4cf1-f403-04d7243991f7"
   },
   "id": "27nJn2It_zZB",
   "execution_count": 167,
   "outputs": [
    {
     "output_type": "stream",
     "name": "stdout",
     "text": [
      "fer_vit.ipynb\n",
      "new_vit.ipynb\n",
      "vit_weights.pth\n"
     ]
    }
   ]
  },
  {
   "cell_type": "code",
   "source": [
    "# visualize loss statistics\n",
    "\n",
    "plt.title(\"Training and Validation Loss\")\n",
    "plt.xlabel(\"Epoch\")\n",
    "plt.ylabel(\"Loss\")\n",
    "\n",
    "# plot losses\n",
    "x = list(range(1, n_epoch + 1))\n",
    "plt.plot(x, train_loss_list, color =\"blue\", label='Train')\n",
    "plt.plot(x, valid_loss_list, color=\"orange\", label='Validation')\n",
    "plt.legend(loc=\"upper right\")\n",
    "plt.xticks(x)\n",
    "\n",
    "plt.show()"
   ],
   "metadata": {
    "colab": {
     "base_uri": "https://localhost:8080/",
     "height": 472
    },
    "id": "rAjHmDxljCiB",
    "outputId": "21ef260b-a246-4d7f-8367-df3199e23e4e"
   },
   "id": "rAjHmDxljCiB",
   "execution_count": 168,
   "outputs": [
    {
     "output_type": "display_data",
     "data": {
      "text/plain": [
       "<Figure size 640x480 with 1 Axes>"
      ],
      "image/png": "[encoded data removed]"
     },
     "metadata": {}
    }
   ]
  },
  {
   "cell_type": "code",
   "source": [
    "# test loss (showed no overfitting)\n",
    "import torch.nn.functional as F\n",
    "# prepare model for evaluation\n",
    "vision_transformer.eval()\n",
    "\n",
    "test_loss = 0.0\n",
    "accuracy = 0\n",
    "\n",
    "# number of classes\n",
    "n_class = 7\n",
    "\n",
    "class_correct = np.zeros(n_class)\n",
    "class_total = np.zeros(n_class)\n",
    "\n",
    "# move model back to cpu\n",
    "vision_transformer = vision_transformer.to('cpu')\n",
    "\n",
    "# test model\n",
    "for images, targets in tqdm(test_loader):\n",
    "\n",
    "    # get outputs\n",
    "    outputs = vision_transformer(images)\n",
    "\n",
    "    # calculate loss\n",
    "    loss = criterion(outputs, targets)\n",
    "\n",
    "    # track loss\n",
    "    test_loss += loss.item()\n",
    "\n",
    "    # get predictions from probabilities\n",
    "    preds = torch.argmax(F.softmax(outputs, dim=1), dim=1)\n",
    "\n",
    "    # get correct predictions\n",
    "    correct_preds = (preds == targets).type(torch.FloatTensor)\n",
    "\n",
    "    # calculate and accumulate accuracy\n",
    "    accuracy += torch.mean(correct_preds).item() * 100\n",
    "\n",
    "    # calculate test accuracy for each class\n",
    "    for c in range(n_class):\n",
    "\n",
    "        targets = targets.to('cpu')\n",
    "\n",
    "        class_total[c] += (targets == c).sum()\n",
    "        class_correct[c] += ((correct_preds) * (targets == c)).sum()\n",
    "\n",
    "# get average accuracy\n",
    "accuracy = accuracy / len(test_loader)\n",
    "\n",
    "# get average loss\n",
    "test_loss = test_loss / len(test_loader)\n",
    "\n",
    "# output test loss statistics\n",
    "print('Test Loss: {:.6f}'.format(test_loss))\n"
   ],
   "metadata": {
    "colab": {
     "base_uri": "https://localhost:8080/"
    },
    "id": "Ft8W1NVNj5GU",
    "outputId": "e321719d-1ae0-4540-b43b-903cb9ed2ca1"
   },
   "id": "Ft8W1NVNj5GU",
   "execution_count": 170,
   "outputs": [
    {
     "output_type": "stream",
     "name": "stderr",
     "text": [
      "100%|██████████| 113/113 [36:49<00:00, 19.55s/it]"
     ]
    },
    {
     "output_type": "stream",
     "name": "stdout",
     "text": [
      "Test Loss: 1.314458\n"
     ]
    },
    {
     "output_type": "stream",
     "name": "stderr",
     "text": [
      "\n"
     ]
    }
   ]
  },
  {
   "cell_type": "code",
   "source": [
    "classes =  [\"Angry\",\"Disgust\", \"Fear\", \"Happy\", \"Sad\", \"Surprise\", \"Neutral\"]"
   ],
   "metadata": {
    "id": "VgU_ViR4j5C7"
   },
   "id": "VgU_ViR4j5C7",
   "execution_count": 171,
   "outputs": []
  },
  {
   "cell_type": "code",
   "source": [
    "class_accuracy = class_correct / class_total\n",
    "\n",
    "print('Test Accuracy of Classes')\n",
    "print()\n",
    "\n",
    "for c in range(n_class):\n",
    "    print('{}\\t: {}% \\t ({}/{})'.format(classes[c],\n",
    "                                int(class_accuracy[c] * 100), int(class_correct[c]), int(class_total[c])) )\n",
    "\n",
    "print()\n",
    "print('Test Accuracy of Dataset: \\t {}% \\t ({}/{})'.format(int(accuracy),\n",
    "                                                           int(np.sum(class_correct)), int(np.sum(class_total)) ))"
   ],
   "metadata": {
    "colab": {
     "base_uri": "https://localhost:8080/"
    },
    "id": "z9Jkd_-9j4_S",
    "outputId": "d2ddf5fc-9204-4de8-8bb9-9a8aa4c1d288"
   },
   "id": "z9Jkd_-9j4_S",
   "execution_count": 172,
   "outputs": [
    {
     "output_type": "stream",
     "name": "stdout",
     "text": [
      "Test Accuracy of Classes\n",
      "\n",
      "Angry\t: 28% \t (140/491)\n",
      "Disgust\t: 1% \t (1/55)\n",
      "Fear\t: 29% \t (155/528)\n",
      "Happy\t: 78% \t (688/879)\n",
      "Sad\t: 35% \t (211/594)\n",
      "Surprise\t: 62% \t (260/416)\n",
      "Neutral\t: 54% \t (344/626)\n",
      "\n",
      "Test Accuracy of Dataset: \t 50% \t (1799/3589)\n"
     ]
    }
   ]
  }
 ],
 "metadata": {
  "kernelspec": {
   "display_name": "Python 3",
   "name": "python3"
  },
  "language_info": {
   "codemirror_mode": {
    "name": "ipython",
    "version": 2
   },
   "file_extension": ".py",
   "mimetype": "text/x-python",
   "name": "python",
   "nbconvert_exporter": "python",
   "pygments_lexer": "ipython2",
   "version": "2.7.6"
  },
  "colab": {
   "provenance": [],
   "gpuType": "T4"
  },
  "accelerator": "GPU"
 },
 "nbformat": 4,
 "nbformat_minor": 5
}
