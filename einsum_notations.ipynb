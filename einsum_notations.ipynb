{
 "cells": [
  {
   "cell_type": "code",
   "execution_count": 398,
   "id": "initial_id",
   "metadata": {
    "collapsed": true,
    "ExecuteTime": {
     "end_time": "2024-05-19T09:04:31.436501Z",
     "start_time": "2024-05-19T09:04:30.686361Z"
    }
   },
   "outputs": [],
   "source": [
    "import torch"
   ]
  },
  {
   "cell_type": "code",
   "execution_count": 399,
   "outputs": [],
   "source": [
    "# https://rockt.github.io/2018/04/30/einsum\n",
    "# dont do extra tricky stuff with einsum!\n",
    "# and still check on forward pass if it is how it should be.\n",
    "\n",
    "# use same dimesnion if you want them underneath the summation sign"
   ],
   "metadata": {
    "collapsed": false,
    "ExecuteTime": {
     "end_time": "2024-05-19T09:04:31.699920Z",
     "start_time": "2024-05-19T09:04:30.704135Z"
    }
   },
   "id": "7d3ffd399355fd6e"
  },
  {
   "cell_type": "code",
   "execution_count": 400,
   "outputs": [
    {
     "data": {
      "text/plain": "(tensor([[4, 2, 3],\n         [2, 2, 2],\n         [2, 1, 3],\n         [1, 2, 4],\n         [4, 2, 3]]),\n torch.int64)"
     },
     "execution_count": 400,
     "metadata": {},
     "output_type": "execute_result"
    }
   ],
   "source": [
    "M = torch.randint(low=1,high=5,size=(5,3))\n",
    "M, M.dtype"
   ],
   "metadata": {
    "collapsed": false,
    "ExecuteTime": {
     "end_time": "2024-05-19T09:04:31.717110Z",
     "start_time": "2024-05-19T09:04:30.728112Z"
    }
   },
   "id": "fffe18f2c829ead1"
  },
  {
   "cell_type": "code",
   "execution_count": 401,
   "outputs": [
    {
     "data": {
      "text/plain": "(tensor([[4, 2, 2, 1, 4],\n         [2, 2, 1, 2, 2],\n         [3, 2, 3, 4, 3]]),\n tensor([[4, 2, 2, 1, 4],\n         [2, 2, 1, 2, 2],\n         [3, 2, 3, 4, 3]]))"
     },
     "execution_count": 401,
     "metadata": {},
     "output_type": "execute_result"
    }
   ],
   "source": [
    "# 1 . matrix transpose\n",
    "torch.einsum(\"ij -> ji\",[M]) , M.T\n"
   ],
   "metadata": {
    "collapsed": false,
    "ExecuteTime": {
     "end_time": "2024-05-19T09:04:31.717261Z",
     "start_time": "2024-05-19T09:04:30.737814Z"
    }
   },
   "id": "a09f145cf0bae82d"
  },
  {
   "cell_type": "code",
   "execution_count": 402,
   "outputs": [
    {
     "data": {
      "text/plain": "(tensor(37), tensor(37))"
     },
     "execution_count": 402,
     "metadata": {},
     "output_type": "execute_result"
    }
   ],
   "source": [
    "# sum all elements \n",
    "torch.einsum(\"ij ->\",[M]) , torch.sum(M)"
   ],
   "metadata": {
    "collapsed": false,
    "ExecuteTime": {
     "end_time": "2024-05-19T09:04:31.717612Z",
     "start_time": "2024-05-19T09:04:30.758240Z"
    }
   },
   "id": "c0bac96c9b4cdb66"
  },
  {
   "cell_type": "code",
   "execution_count": 403,
   "outputs": [
    {
     "data": {
      "text/plain": "(tensor(105), tensor(105))"
     },
     "execution_count": 403,
     "metadata": {},
     "output_type": "execute_result"
    }
   ],
   "source": [
    "# lets calculate l2 norm trace(A' A)\n",
    "# this pretty tricky actually.. einsum(\"ii\" , M) is the trace of M\n",
    "torch.einsum(\"ij,ij-> \",M,M) , torch.trace(M.T @ M)"
   ],
   "metadata": {
    "collapsed": false,
    "ExecuteTime": {
     "end_time": "2024-05-19T09:04:31.717919Z",
     "start_time": "2024-05-19T09:04:30.770272Z"
    }
   },
   "id": "a087831a31bb894b"
  },
  {
   "cell_type": "code",
   "execution_count": 404,
   "outputs": [
    {
     "data": {
      "text/plain": "(tensor([[41, 24, 38],\n         [24, 17, 27],\n         [38, 27, 47]]),\n tensor([[41, 24, 38],\n         [24, 17, 27],\n         [38, 27, 47]]))"
     },
     "execution_count": 404,
     "metadata": {},
     "output_type": "execute_result"
    }
   ],
   "source": [
    "# in more steps ? we want it to be summed over i\n",
    "torch.einsum(\"ij,ik->jk\",M,M), M.T @ M "
   ],
   "metadata": {
    "collapsed": false,
    "ExecuteTime": {
     "end_time": "2024-05-19T09:04:31.718008Z",
     "start_time": "2024-05-19T09:04:30.781308Z"
    }
   },
   "id": "fd221ed1d2706c36"
  },
  {
   "cell_type": "code",
   "execution_count": 405,
   "outputs": [
    {
     "data": {
      "text/plain": "(tensor([[56],\n         [40],\n         [40],\n         [52],\n         [56]]),\n tensor([[56],\n         [40],\n         [40],\n         [52],\n         [56]]))"
     },
     "execution_count": 405,
     "metadata": {},
     "output_type": "execute_result"
    }
   ],
   "source": [
    "# Matrix vector/matrix multiplication\n",
    "v = torch.randint(1,10,size=(3,1))\n",
    "torch.einsum(\"ij ,jk -> ik\",M,v) ,M @ v"
   ],
   "metadata": {
    "collapsed": false,
    "ExecuteTime": {
     "end_time": "2024-05-19T09:04:31.718098Z",
     "start_time": "2024-05-19T09:04:30.788299Z"
    }
   },
   "id": "e7f99dedb5d7549e"
  },
  {
   "cell_type": "code",
   "execution_count": 406,
   "outputs": [
    {
     "data": {
      "text/plain": "(tensor([13,  9, 15]), tensor([13,  9, 15]))"
     },
     "execution_count": 406,
     "metadata": {},
     "output_type": "execute_result"
    }
   ],
   "source": [
    "# sum along rows\n",
    "torch.einsum(\"ij -> j\",M) , M.sum(dim=0)"
   ],
   "metadata": {
    "collapsed": false,
    "ExecuteTime": {
     "end_time": "2024-05-19T09:04:31.718177Z",
     "start_time": "2024-05-19T09:04:30.797608Z"
    }
   },
   "id": "d39462ac0a803362"
  },
  {
   "cell_type": "code",
   "execution_count": 407,
   "outputs": [
    {
     "data": {
      "text/plain": "(tensor([9, 6, 6, 7, 9]), tensor([9, 6, 6, 7, 9]))"
     },
     "execution_count": 407,
     "metadata": {},
     "output_type": "execute_result"
    }
   ],
   "source": [
    "# sum along columns\n",
    "torch.einsum(\"ij -> i\",M) , M.sum(dim=1)"
   ],
   "metadata": {
    "collapsed": false,
    "ExecuteTime": {
     "end_time": "2024-05-19T09:04:31.718255Z",
     "start_time": "2024-05-19T09:04:30.805700Z"
    }
   },
   "id": "46773cbd5d2612d2"
  },
  {
   "cell_type": "code",
   "execution_count": 408,
   "outputs": [
    {
     "data": {
      "text/plain": "(tensor([[16,  4,  9],\n         [ 4,  4,  4],\n         [ 4,  1,  9],\n         [ 1,  4, 16],\n         [16,  4,  9]]),\n tensor([[16,  4,  9],\n         [ 4,  4,  4],\n         [ 4,  1,  9],\n         [ 1,  4, 16],\n         [16,  4,  9]]))"
     },
     "execution_count": 408,
     "metadata": {},
     "output_type": "execute_result"
    }
   ],
   "source": [
    "# hadamard\n",
    "torch.einsum(\"ij,ij -> ij\",M,M) , M * M"
   ],
   "metadata": {
    "collapsed": false,
    "ExecuteTime": {
     "end_time": "2024-05-19T09:04:31.718338Z",
     "start_time": "2024-05-19T09:04:30.813256Z"
    }
   },
   "id": "381ddca3e383f332"
  },
  {
   "cell_type": "code",
   "execution_count": 409,
   "outputs": [
    {
     "data": {
      "text/plain": "(tensor(105), tensor(105))"
     },
     "execution_count": 409,
     "metadata": {},
     "output_type": "execute_result"
    }
   ],
   "source": [
    "# hadamard sum\n",
    "torch.einsum((\"ij , ij -> \"),M,M) , (M*M).sum()"
   ],
   "metadata": {
    "collapsed": false,
    "ExecuteTime": {
     "end_time": "2024-05-19T09:04:31.718420Z",
     "start_time": "2024-05-19T09:04:30.823160Z"
    }
   },
   "id": "1c854ba44c31d43b"
  },
  {
   "cell_type": "code",
   "execution_count": 410,
   "outputs": [
    {
     "data": {
      "text/plain": "(tensor([[16, 32, 32],\n         [32, 64, 64],\n         [32, 64, 64]]),\n tensor([[16, 32, 32],\n         [32, 64, 64],\n         [32, 64, 64]]))"
     },
     "execution_count": 410,
     "metadata": {},
     "output_type": "execute_result"
    }
   ],
   "source": [
    "# outer product\n",
    "torch.einsum(\"ik,jk -> ij\",v,v), v @ v.T"
   ],
   "metadata": {
    "collapsed": false,
    "ExecuteTime": {
     "end_time": "2024-05-19T09:04:31.718523Z",
     "start_time": "2024-05-19T09:04:30.829608Z"
    }
   },
   "id": "82d99f6ee595378b"
  },
  {
   "cell_type": "code",
   "execution_count": 411,
   "outputs": [
    {
     "data": {
      "text/plain": "(tensor([[[-4.8676, -2.9266,  0.4376],\n          [-5.4576, -3.1316, -1.9081]],\n \n         [[ 0.1732, -0.6392, -0.2592],\n          [ 0.6326, -0.2148,  1.8888]]]),\n tensor([[[-4.8676, -2.9266,  0.4376],\n          [-5.4576, -3.1316, -1.9081]],\n \n         [[ 0.1732, -0.6392, -0.2592],\n          [ 0.6326, -0.2148,  1.8888]]]))"
     },
     "execution_count": 411,
     "metadata": {},
     "output_type": "execute_result"
    }
   ],
   "source": [
    "# batch matrix multiplication (real deal)\n",
    "a = torch.randn(2,2,5) # 2eg with 2,5 matrix -> 2eg with 2,3 \n",
    "b = torch.randn(5,3)\n",
    "torch.einsum('bjk,kl->bjl', [a, b]) , a @ b"
   ],
   "metadata": {
    "collapsed": false,
    "ExecuteTime": {
     "end_time": "2024-05-19T09:04:31.718617Z",
     "start_time": "2024-05-19T09:04:30.838550Z"
    }
   },
   "id": "b05a77e7dadc00dc"
  },
  {
   "cell_type": "code",
   "execution_count": 412,
   "outputs": [
    {
     "data": {
      "text/plain": "torch.Size([2, 7, 11, 13, 17])"
     },
     "execution_count": 412,
     "metadata": {},
     "output_type": "execute_result"
    }
   ],
   "source": [
    "# tensor contraction.. i dont like squeeze and unsqueeze methods\n",
    "a = torch.randn(2,3,5,7)\n",
    "b = torch.randn(11,13,3,17,5)\n",
    "torch.einsum('pqrs,tuqvr->pstuv', [a, b]).shape"
   ],
   "metadata": {
    "collapsed": false,
    "ExecuteTime": {
     "end_time": "2024-05-19T09:04:31.718697Z",
     "start_time": "2024-05-19T09:04:30.861336Z"
    }
   },
   "id": "e7f24b1394e3d68b"
  },
  {
   "cell_type": "code",
   "execution_count": 413,
   "outputs": [],
   "source": [
    "# you can squeeze out with einsum but you cant unsqueeze with einsum\n",
    "# this does not work\n",
    "# torch.einsum(\"ij -> 1ij\", v).shape ,v.shape , v.unsqueeze(0).shape"
   ],
   "metadata": {
    "collapsed": false,
    "ExecuteTime": {
     "end_time": "2024-05-19T09:04:31.718735Z",
     "start_time": "2024-05-19T09:04:30.871437Z"
    }
   },
   "id": "801cb84ccf299420"
  },
  {
   "cell_type": "code",
   "execution_count": 414,
   "outputs": [],
   "source": [
    "import einops"
   ],
   "metadata": {
    "collapsed": false,
    "ExecuteTime": {
     "end_time": "2024-05-19T09:04:31.718775Z",
     "start_time": "2024-05-19T09:04:30.875631Z"
    }
   },
   "id": "20287740ebd3dc45"
  },
  {
   "cell_type": "code",
   "execution_count": 415,
   "outputs": [],
   "source": [
    "# einops utils\n",
    "import numpy as np\n",
    "\n",
    "from PIL.Image import fromarray\n",
    "from IPython import get_ipython\n",
    "from IPython.display import display_html\n",
    "\n",
    "\n",
    "def display_np_arrays_as_images():\n",
    "    def np_to_png(a):\n",
    "        if 2 <= len(a.shape) <= 3:\n",
    "            return fromarray(np.array(np.clip(a, 0, 1) * 255, dtype=\"uint8\"))._repr_png_()\n",
    "        else:\n",
    "            return fromarray(np.zeros([1, 1], dtype=\"uint8\"))._repr_png_()\n",
    "\n",
    "    def np_to_text(obj, p, cycle):\n",
    "        if len(obj.shape) < 2:\n",
    "            print(repr(obj))\n",
    "        if 2 <= len(obj.shape) <= 3:\n",
    "            pass\n",
    "        else:\n",
    "            print(\"<array of shape {}>\".format(obj.shape))\n",
    "\n",
    "    get_ipython().display_formatter.formatters[\"image/png\"].for_type(np.ndarray, np_to_png)\n",
    "    get_ipython().display_formatter.formatters[\"text/plain\"].for_type(np.ndarray, np_to_text)\n",
    "\n",
    "\n",
    "_style_inline = \"\"\"<style>\n",
    ".einops-answer {\n",
    "    color: transparent;\n",
    "    padding: 5px 15px;\n",
    "    background-color: #def;\n",
    "}\n",
    ".einops-answer:hover { color: blue; }\n",
    "</style>\n",
    "\"\"\"\n",
    "\n",
    "\n",
    "def guess(x):\n",
    "    display_html(\n",
    "        _style_inline + \"<h4>Output is: <span class='einops-answer'>{x}</span> (hover to see)</h4>\".format(x=tuple(x)),\n",
    "        raw=True,\n",
    "    )"
   ],
   "metadata": {
    "collapsed": false,
    "ExecuteTime": {
     "end_time": "2024-05-19T09:04:31.718817Z",
     "start_time": "2024-05-19T09:04:30.882455Z"
    }
   },
   "id": "3fdd73ee703c9115"
  },
  {
   "cell_type": "code",
   "execution_count": 416,
   "outputs": [],
   "source": [
    "# part1\n",
    "x = torch.randn(0,2,3,1)"
   ],
   "metadata": {
    "collapsed": false,
    "ExecuteTime": {
     "end_time": "2024-05-19T09:04:31.718855Z",
     "start_time": "2024-05-19T09:04:30.887312Z"
    }
   },
   "id": "75a88eff7fe8d013"
  },
  {
   "cell_type": "code",
   "execution_count": 417,
   "outputs": [
    {
     "name": "stdout",
     "output_type": "stream",
     "text": [
      "torch.Size([0, 2, 3, 1]) torch.Size([0, 1, 2, 3])\n"
     ]
    }
   ],
   "source": [
    "y = einops.rearrange(x,\"b h w c -> b c h w\")\n",
    "print(x.shape , y.shape)"
   ],
   "metadata": {
    "collapsed": false,
    "ExecuteTime": {
     "end_time": "2024-05-19T09:04:31.718933Z",
     "start_time": "2024-05-19T09:04:30.894017Z"
    }
   },
   "id": "3de5dd01bb4d4ec1"
  },
  {
   "cell_type": "code",
   "execution_count": 418,
   "outputs": [],
   "source": [
    "# Examples are given for numpy. This code also setups ipython/jupyter\n",
    "# so that numpy arrays in the output are displayed as images\n",
    "import numpy\n",
    "# from utils import display_np_arrays_as_images\n",
    "display_np_arrays_as_images()"
   ],
   "metadata": {
    "collapsed": false,
    "ExecuteTime": {
     "end_time": "2024-05-19T09:04:31.718972Z",
     "start_time": "2024-05-19T09:04:30.899355Z"
    }
   },
   "id": "ebb407f5704da15c"
  },
  {
   "cell_type": "code",
   "execution_count": 419,
   "outputs": [
    {
     "name": "stdout",
     "output_type": "stream",
     "text": [
      "(6, 96, 96, 3) float64\n"
     ]
    }
   ],
   "source": [
    "ims = numpy.load('test_images.npy', allow_pickle=False)\n",
    "# There are 6 images of shape 96x96 with 3 color channels packed into tensor\n",
    "print(ims.shape, ims.dtype)"
   ],
   "metadata": {
    "collapsed": false,
    "ExecuteTime": {
     "end_time": "2024-05-19T09:04:31.719046Z",
     "start_time": "2024-05-19T09:04:30.902351Z"
    }
   },
   "id": "ae226a5422542b8f"
  },
  {
   "cell_type": "code",
   "execution_count": 420,
   "outputs": [
    {
     "data": {
      "text/plain": "",
      "image/png": "[encoded data removed]"
     },
     "execution_count": 420,
     "metadata": {},
     "output_type": "execute_result"
    }
   ],
   "source": [
    "ims[0]"
   ],
   "metadata": {
    "collapsed": false,
    "ExecuteTime": {
     "end_time": "2024-05-19T09:04:31.719130Z",
     "start_time": "2024-05-19T09:04:30.913519Z"
    }
   },
   "id": "af731b196c666b44"
  },
  {
   "cell_type": "code",
   "execution_count": 421,
   "outputs": [
    {
     "data": {
      "text/plain": "(96, 96, 3)"
     },
     "execution_count": 421,
     "metadata": {},
     "output_type": "execute_result"
    }
   ],
   "source": [
    "ims[0].shape"
   ],
   "metadata": {
    "collapsed": false,
    "ExecuteTime": {
     "end_time": "2024-05-19T09:04:31.719214Z",
     "start_time": "2024-05-19T09:04:30.922118Z"
    }
   },
   "id": "9165d3bc0c81a60"
  },
  {
   "cell_type": "code",
   "execution_count": 422,
   "outputs": [
    {
     "data": {
      "text/plain": "",
      "image/png": "[encoded data removed]"
     },
     "execution_count": 422,
     "metadata": {},
     "output_type": "execute_result"
    }
   ],
   "source": [
    "# lets transpose this image\n",
    "# now obviously we dont want to do it in the color channels.\n",
    "# how do we make that explicit\n",
    "einops.rearrange(ims[0],\"height width channel -> width height channel\")"
   ],
   "metadata": {
    "collapsed": false,
    "ExecuteTime": {
     "end_time": "2024-05-19T09:04:31.719298Z",
     "start_time": "2024-05-19T09:04:30.931793Z"
    }
   },
   "id": "e70e103f3c74b7a3"
  },
  {
   "cell_type": "code",
   "execution_count": 423,
   "outputs": [
    {
     "data": {
      "text/plain": "",
      "image/png": "[encoded data removed]"
     },
     "execution_count": 423,
     "metadata": {},
     "output_type": "execute_result"
    }
   ],
   "source": [
    "# composition or flattening axes\n",
    "# new height becomes batch * height so its stacked along the rows here.\n",
    "einops.rearrange(ims, \"b h w c -> (b h) w c\")"
   ],
   "metadata": {
    "collapsed": false,
    "ExecuteTime": {
     "end_time": "2024-05-19T09:04:31.719383Z",
     "start_time": "2024-05-19T09:04:30.939023Z"
    }
   },
   "id": "632ab29d072ba247"
  },
  {
   "cell_type": "code",
   "execution_count": 424,
   "outputs": [
    {
     "data": {
      "text/plain": "",
      "image/png": "[encoded data removed]"
     },
     "execution_count": 424,
     "metadata": {},
     "output_type": "execute_result"
    }
   ],
   "source": [
    "# stack them along the columns ? \n",
    "einops.rearrange(ims, \"b h w c -> h (b w) c\")"
   ],
   "metadata": {
    "collapsed": false,
    "ExecuteTime": {
     "end_time": "2024-05-19T09:04:31.719459Z",
     "start_time": "2024-05-19T09:04:30.953836Z"
    }
   },
   "id": "ff3051be93a08688"
  },
  {
   "cell_type": "code",
   "execution_count": 425,
   "outputs": [
    {
     "data": {
      "text/plain": "(165888,)"
     },
     "execution_count": 425,
     "metadata": {},
     "output_type": "execute_result"
    }
   ],
   "source": [
    "# flatten them all ?\n",
    "einops.rearrange(ims, \"b h w c -> (b h w c)\").shape"
   ],
   "metadata": {
    "collapsed": false,
    "ExecuteTime": {
     "end_time": "2024-05-19T09:04:31.719539Z",
     "start_time": "2024-05-19T09:04:30.965364Z"
    }
   },
   "id": "9f57b4e5b816d7bf"
  },
  {
   "cell_type": "code",
   "execution_count": 426,
   "outputs": [
    {
     "name": "stdout",
     "output_type": "stream",
     "text": [
      "<array of shape (2, 3, 96, 96, 3)>\n"
     ]
    },
    {
     "data": {
      "text/plain": "",
      "image/png": "[encoded data removed]"
     },
     "execution_count": 426,
     "metadata": {},
     "output_type": "execute_result"
    }
   ],
   "source": [
    "# decomposition of new axes\n",
    "# you can think of each batches now has 3 images\n",
    "batches = einops.rearrange(ims, \"(b1 b2) h w c -> b1 b2 h w c\", b1 = 2 ,b2 = 3)\n",
    "batches"
   ],
   "metadata": {
    "collapsed": false,
    "ExecuteTime": {
     "end_time": "2024-05-19T09:04:31.719650Z",
     "start_time": "2024-05-19T09:04:30.974975Z"
    }
   },
   "id": "92ec6a537754ee78"
  },
  {
   "cell_type": "code",
   "execution_count": 427,
   "outputs": [
    {
     "data": {
      "text/plain": "",
      "image/png": "[encoded data removed]"
     },
     "execution_count": 427,
     "metadata": {},
     "output_type": "execute_result"
    }
   ],
   "source": [
    "# lets print out each batch in its own row\n",
    "einops.rearrange(batches, \"b1 b2 h w c -> (b1 h) (b2 w) c\")"
   ],
   "metadata": {
    "collapsed": false,
    "ExecuteTime": {
     "end_time": "2024-05-19T09:04:31.719730Z",
     "start_time": "2024-05-19T09:04:31.118828Z"
    }
   },
   "id": "f1748dbfc55ff4de"
  },
  {
   "cell_type": "code",
   "execution_count": 428,
   "outputs": [
    {
     "data": {
      "text/plain": "",
      "image/png": "[encoded data removed]"
     },
     "execution_count": 428,
     "metadata": {},
     "output_type": "execute_result"
    }
   ],
   "source": [
    "# we could also have put them in its own column\n",
    "einops.rearrange(batches, \"b1 b2 h w c -> (b2 h) (b1 w) c\")"
   ],
   "metadata": {
    "collapsed": false,
    "ExecuteTime": {
     "end_time": "2024-05-19T09:04:31.719817Z",
     "start_time": "2024-05-19T09:04:31.119083Z"
    }
   },
   "id": "1608a84097508b19"
  },
  {
   "cell_type": "code",
   "execution_count": 429,
   "outputs": [
    {
     "data": {
      "text/plain": "",
      "image/png": "[encoded data removed]"
     },
     "execution_count": 429,
     "metadata": {},
     "output_type": "execute_result"
    }
   ],
   "source": [
    "# move part of the width to height ? \n",
    "# we will give away the batch dimension to widh \n",
    "einops.rearrange(ims, \"b h (w w_f) c ->  (h w_f) (b w) c\", w_f = 3)"
   ],
   "metadata": {
    "collapsed": false,
    "ExecuteTime": {
     "end_time": "2024-05-19T09:04:31.719909Z",
     "start_time": "2024-05-19T09:04:31.119182Z"
    }
   },
   "id": "eb2a5e5a21814033"
  },
  {
   "cell_type": "markdown",
   "source": [
    "## order of axes matter ... very important to not get confused"
   ],
   "metadata": {
    "collapsed": false
   },
   "id": "e0b263b298b83e99"
  },
  {
   "cell_type": "code",
   "execution_count": 430,
   "outputs": [
    {
     "data": {
      "text/plain": "",
      "image/png": "[encoded data removed]"
     },
     "execution_count": 430,
     "metadata": {},
     "output_type": "execute_result"
    }
   ],
   "source": [
    "# important to note what exactly is happening here : \n",
    "einops.rearrange(ims, \"b h w c -> h (b w) c\")"
   ],
   "metadata": {
    "collapsed": false,
    "ExecuteTime": {
     "end_time": "2024-05-19T09:04:31.719992Z",
     "start_time": "2024-05-19T09:04:31.119766Z"
    }
   },
   "id": "c9b0e71be66c3599"
  },
  {
   "cell_type": "code",
   "execution_count": 431,
   "outputs": [
    {
     "data": {
      "text/plain": "",
      "image/png": "[encoded data removed]"
     },
     "execution_count": 431,
     "metadata": {},
     "output_type": "execute_result"
    }
   ],
   "source": [
    "# its pretty easy to make this mistake double check the ordering.\n",
    "einops.rearrange(ims, \"b h w c -> h (w b) c\")"
   ],
   "metadata": {
    "collapsed": false,
    "ExecuteTime": {
     "end_time": "2024-05-19T09:04:31.720070Z",
     "start_time": "2024-05-19T09:04:31.120057Z"
    }
   },
   "id": "59695e5dcade3c4f"
  },
  {
   "cell_type": "code",
   "execution_count": 432,
   "outputs": [
    {
     "data": {
      "text/plain": "",
      "image/png": "[encoded data removed]"
     },
     "execution_count": 432,
     "metadata": {},
     "output_type": "execute_result"
    }
   ],
   "source": [
    "np.array( torch.randn(30,30))"
   ],
   "metadata": {
    "collapsed": false,
    "ExecuteTime": {
     "end_time": "2024-05-19T09:04:31.720152Z",
     "start_time": "2024-05-19T09:04:31.120254Z"
    }
   },
   "id": "2168194824d8105b"
  },
  {
   "cell_type": "code",
   "execution_count": 433,
   "outputs": [
    {
     "data": {
      "text/plain": "",
      "image/png": "[encoded data removed]"
     },
     "execution_count": 433,
     "metadata": {},
     "output_type": "execute_result"
    }
   ],
   "source": [
    "# what if b1 and b2 are reordered before composing to width?\n",
    "einops.rearrange(ims, '(b1 b2) h w c -> h (b1 b2 w) c ', b1=2) # produces 'einops '\n",
    "# b1 = 2 , b2 = 3 # two batches each with 3 images"
   ],
   "metadata": {
    "collapsed": false,
    "ExecuteTime": {
     "end_time": "2024-05-19T09:04:31.720235Z",
     "start_time": "2024-05-19T09:04:31.121281Z"
    }
   },
   "id": "12abbf8d65e12a54"
  },
  {
   "cell_type": "code",
   "execution_count": 434,
   "outputs": [
    {
     "data": {
      "text/plain": "",
      "image/png": "[encoded data removed]"
     },
     "execution_count": 434,
     "metadata": {},
     "output_type": "execute_result"
    }
   ],
   "source": [
    "# lets look it step by step\n",
    "# for now ignore b1 h .. think of it as representing each batch\n",
    "# so when we left multiply b2 each batch becomes :\n",
    "einops.rearrange(ims, '(b1 b2) h w c -> (b1 h) (b2 w) c ', b1=2)"
   ],
   "metadata": {
    "collapsed": false,
    "ExecuteTime": {
     "end_time": "2024-05-19T09:04:31.720311Z",
     "start_time": "2024-05-19T09:04:31.121553Z"
    }
   },
   "id": "c5982d859248fedb"
  },
  {
   "cell_type": "code",
   "execution_count": 435,
   "outputs": [
    {
     "data": {
      "text/plain": "",
      "image/png": "[encoded data removed]"
     },
     "execution_count": 435,
     "metadata": {},
     "output_type": "execute_result"
    }
   ],
   "source": [
    "# now each batch is 2 left multiplied\n",
    "einops.rearrange(ims, '(b1 b2) h w c -> (b2 h) (b1 w) c ', b1=2) # produces 'einops '"
   ],
   "metadata": {
    "collapsed": false,
    "ExecuteTime": {
     "end_time": "2024-05-19T09:04:31.720387Z",
     "start_time": "2024-05-19T09:04:31.121740Z"
    }
   },
   "id": "cb246f3512eddf1d"
  },
  {
   "cell_type": "code",
   "execution_count": 436,
   "outputs": [
    {
     "data": {
      "text/plain": "",
      "image/png": "[encoded data removed]"
     },
     "execution_count": 436,
     "metadata": {},
     "output_type": "execute_result"
    }
   ],
   "source": [
    "# so if the above gets flattened we get this.\n",
    "einops.rearrange(ims, '(b1 b2) h w c -> h (b2 b1 w) c ', b1=2) # produces 'eoipns'"
   ],
   "metadata": {
    "collapsed": false,
    "ExecuteTime": {
     "end_time": "2024-05-19T09:04:31.720461Z",
     "start_time": "2024-05-19T09:04:31.121879Z"
    }
   },
   "id": "11719bd81cf82e0d"
  },
  {
   "cell_type": "markdown",
   "source": [
    "## Reducing"
   ],
   "metadata": {
    "collapsed": false
   },
   "id": "b9fb56843a2c3d45"
  },
  {
   "cell_type": "code",
   "execution_count": 437,
   "outputs": [
    {
     "data": {
      "text/plain": "",
      "image/png": "[encoded data removed]"
     },
     "execution_count": 437,
     "metadata": {},
     "output_type": "execute_result"
    }
   ],
   "source": [
    "ims.mean(0) # averaging across batches .. but is it explicit enough"
   ],
   "metadata": {
    "collapsed": false,
    "ExecuteTime": {
     "end_time": "2024-05-19T09:04:31.720727Z",
     "start_time": "2024-05-19T09:04:31.121964Z"
    }
   },
   "id": "d4a6e2859bddd4b0"
  },
  {
   "cell_type": "code",
   "execution_count": 438,
   "outputs": [
    {
     "data": {
      "text/plain": "",
      "image/png": "[encoded data removed]"
     },
     "execution_count": 438,
     "metadata": {},
     "output_type": "execute_result"
    }
   ],
   "source": [
    "einops.reduce(ims,\"b h w c -> h w c\", \"mean\") # if the dimension is missing in the output then its being reduced .. here batches by averagin"
   ],
   "metadata": {
    "collapsed": false,
    "ExecuteTime": {
     "end_time": "2024-05-19T09:04:31.720808Z",
     "start_time": "2024-05-19T09:04:31.146176Z"
    }
   },
   "id": "4e3f6ce99103a80e"
  },
  {
   "cell_type": "code",
   "execution_count": 439,
   "outputs": [
    {
     "data": {
      "text/plain": "",
      "image/png": "[encoded data removed]"
     },
     "execution_count": 439,
     "metadata": {},
     "output_type": "execute_result"
    }
   ],
   "source": [
    "# this does not mean that it will return an example whose pixel summation is the minimum\n",
    "# this means give me the minimum of each pixel and channel of all images ..\n",
    "einops.reduce(ims, \"b h w c -> h w c\",\"min\")"
   ],
   "metadata": {
    "collapsed": false,
    "ExecuteTime": {
     "end_time": "2024-05-19T09:04:31.720891Z",
     "start_time": "2024-05-19T09:04:31.154272Z"
    }
   },
   "id": "789d992002896b63"
  },
  {
   "cell_type": "code",
   "execution_count": 440,
   "outputs": [
    {
     "data": {
      "text/plain": "",
      "image/png": "[encoded data removed]"
     },
     "execution_count": 440,
     "metadata": {},
     "output_type": "execute_result"
    }
   ],
   "source": [
    "# before looking at mean pooling lets look at this.\n",
    "# each image gets halved in height . and then put to the side by left multiplying it\n",
    "einops.rearrange(ims, 'b (h h2) w  c -> h (b h2 w) c', h2=2)"
   ],
   "metadata": {
    "collapsed": false,
    "ExecuteTime": {
     "end_time": "2024-05-19T09:04:31.720969Z",
     "start_time": "2024-05-19T09:04:31.161750Z"
    }
   },
   "id": "986062bf6e797aab"
  },
  {
   "cell_type": "code",
   "execution_count": 441,
   "outputs": [
    {
     "data": {
      "text/plain": "",
      "image/png": "[encoded data removed]"
     },
     "execution_count": 441,
     "metadata": {},
     "output_type": "execute_result"
    }
   ],
   "source": [
    "# each image gets halved in width and then put to the side\n",
    "einops.rearrange(ims, 'b h (w w2)  c -> h (b w2 w) c', w2=2)"
   ],
   "metadata": {
    "collapsed": false,
    "ExecuteTime": {
     "end_time": "2024-05-19T09:04:31.721287Z",
     "start_time": "2024-05-19T09:04:31.171146Z"
    }
   },
   "id": "92e9cdf392865fa3"
  },
  {
   "cell_type": "code",
   "execution_count": 442,
   "outputs": [
    {
     "data": {
      "text/plain": "",
      "image/png": "[encoded data removed]"
     },
     "execution_count": 442,
     "metadata": {},
     "output_type": "execute_result"
    }
   ],
   "source": [
    "# now obviously we can do both at the same time\n",
    "# now its important to see that each image was halved by width first (atleast concat first)\n",
    "einops.rearrange(ims, \"b (h h2) (w w2) c -> h (b h2 w2 w) c\",h2 = 2 , w2 = 2)"
   ],
   "metadata": {
    "collapsed": false,
    "ExecuteTime": {
     "end_time": "2024-05-19T09:04:31.721377Z",
     "start_time": "2024-05-19T09:04:31.180193Z"
    }
   },
   "id": "bda56e86cb8a1991"
  },
  {
   "cell_type": "code",
   "execution_count": 443,
   "outputs": [
    {
     "data": {
      "text/plain": "",
      "image/png": "[encoded data removed]"
     },
     "execution_count": 443,
     "metadata": {},
     "output_type": "execute_result"
    }
   ],
   "source": [
    "# now we can see pooling here you cant really see the effect cuz its the same image\n",
    "# this is mean-pooling with 2x2 kernel\n",
    "# image is split into 2x2 patches, each patch is averaged\n",
    "einops.reduce(ims, 'b (h h2) (w w2) c -> h (b w) c', 'mean', h2=2, w2=2)\n"
   ],
   "metadata": {
    "collapsed": false,
    "ExecuteTime": {
     "end_time": "2024-05-19T09:04:31.721523Z",
     "start_time": "2024-05-19T09:04:31.187857Z"
    }
   },
   "id": "5d0ddef1eef29659"
  },
  {
   "cell_type": "code",
   "execution_count": 444,
   "outputs": [
    {
     "data": {
      "text/plain": "",
      "image/png": "[encoded data removed]"
     },
     "execution_count": 444,
     "metadata": {},
     "output_type": "execute_result"
    }
   ],
   "source": [
    "# this is something we had kinda do it in vision transformer ..\n",
    "# see how placing a factor on the left on the input means cropping\n",
    "einops.rearrange(ims, \"b (p h) w c ->  h (b p w) c\", p = 2)"
   ],
   "metadata": {
    "collapsed": false,
    "ExecuteTime": {
     "end_time": "2024-05-19T09:04:31.721618Z",
     "start_time": "2024-05-19T09:04:31.197220Z"
    }
   },
   "id": "6431220461261209"
  },
  {
   "cell_type": "code",
   "execution_count": 445,
   "outputs": [
    {
     "data": {
      "text/plain": "",
      "image/png": "[encoded data removed]"
     },
     "execution_count": 445,
     "metadata": {},
     "output_type": "execute_result"
    }
   ],
   "source": [
    "# but placing the factor on the right means rescaling\n",
    "einops.rearrange(ims, \"b (h p) w c ->  h (b p w) c\", p = 2)"
   ],
   "metadata": {
    "collapsed": false,
    "ExecuteTime": {
     "end_time": "2024-05-19T09:04:31.721699Z",
     "start_time": "2024-05-19T09:04:31.205750Z"
    }
   },
   "id": "b89e39e80c8ccc43"
  },
  {
   "cell_type": "code",
   "execution_count": 446,
   "outputs": [
    {
     "data": {
      "text/plain": "",
      "image/png": "[encoded data removed]"
     },
     "execution_count": 446,
     "metadata": {},
     "output_type": "execute_result"
    }
   ],
   "source": [
    "# actually its cropping but its just gets stacked so you cant see width being cropped in 2 here\n",
    "einops.rearrange(ims, \"b  h  (p w) c ->  (p h) (b w) c\", p = 2)"
   ],
   "metadata": {
    "collapsed": false,
    "ExecuteTime": {
     "end_time": "2024-05-19T09:04:31.721778Z",
     "start_time": "2024-05-19T09:04:31.210910Z"
    }
   },
   "id": "f08609a2ef01cfc7"
  },
  {
   "cell_type": "code",
   "execution_count": 447,
   "outputs": [
    {
     "data": {
      "text/plain": "",
      "image/png": "[encoded data removed]"
     },
     "execution_count": 447,
     "metadata": {},
     "output_type": "execute_result"
    }
   ],
   "source": [
    "# what we actually want is a 16 * 16 patch.. \n",
    "# for a 32 * 32 image it just means we need to crop the height and width each 2 times\n",
    "# printing in the wrong order to show the 4 crops\n",
    "einops.rearrange(ims, \"b (p1 h) (p2 w) c -> (p2 h) (b p1 w) c\" , p1 = 2, p2 = 2)"
   ],
   "metadata": {
    "collapsed": false,
    "ExecuteTime": {
     "end_time": "2024-05-19T09:04:31.721850Z",
     "start_time": "2024-05-19T09:04:31.218634Z"
    }
   },
   "id": "de9a8aa7ad64d45"
  },
  {
   "cell_type": "code",
   "execution_count": 466,
   "outputs": [
    {
     "data": {
      "text/plain": "",
      "image/png": "[encoded data removed]"
     },
     "execution_count": 466,
     "metadata": {},
     "output_type": "execute_result"
    }
   ],
   "source": [
    "# you wont see any cropping if it was printed in the right order\n",
    "einops.rearrange(ims, \"b (p1 h) (p2 w) c -> h (b p2 p1 w) c\" , p1 = 2, p2 = 2)"
   ],
   "metadata": {
    "collapsed": false,
    "ExecuteTime": {
     "end_time": "2024-05-19T09:04:45.353097Z",
     "start_time": "2024-05-19T09:04:45.304329Z"
    }
   },
   "id": "edb1f30a0397d50b"
  },
  {
   "cell_type": "code",
   "execution_count": 467,
   "outputs": [
    {
     "data": {
      "text/plain": "",
      "image/png": "[encoded data removed]"
     },
     "execution_count": 467,
     "metadata": {},
     "output_type": "execute_result"
    }
   ],
   "source": [
    "# this is what we want in vision transformer.\n",
    "einops.rearrange(ims, \"b (p1 h) (p2 w) c -> h (b p1 p2 w) c\" , p1 = 2, p2 = 2)"
   ],
   "metadata": {
    "collapsed": false,
    "ExecuteTime": {
     "end_time": "2024-05-19T09:05:12.872817Z",
     "start_time": "2024-05-19T09:05:12.836059Z"
    }
   },
   "id": "af406c2f637231df"
  },
  {
   "cell_type": "code",
   "execution_count": 449,
   "outputs": [],
   "source": [
    "# stack and reduce"
   ],
   "metadata": {
    "collapsed": false,
    "ExecuteTime": {
     "end_time": "2024-05-19T09:04:31.721966Z",
     "start_time": "2024-05-19T09:04:31.234519Z"
    }
   },
   "id": "f5f55c81f127b791"
  },
  {
   "cell_type": "code",
   "execution_count": 450,
   "outputs": [
    {
     "name": "stdout",
     "output_type": "stream",
     "text": [
      "<class 'list'> with 6 tensors of shape (96, 96, 3)\n"
     ]
    },
    {
     "data": {
      "text/plain": "(6, 96, 96, 3)"
     },
     "execution_count": 450,
     "metadata": {},
     "output_type": "execute_result"
    }
   ],
   "source": [
    "# rearrange can also take care of lists of arrays with the same shape\n",
    "x = list(ims)\n",
    "print(type(x), 'with', len(x), 'tensors of shape', x[0].shape)\n",
    "# that's how we can stack inputs\n",
    "# \"list axis\" becomes first (\"b\" in this case), and we left it there\n",
    "einops.rearrange(x, 'b h w c -> b h w c').shape"
   ],
   "metadata": {
    "collapsed": false,
    "ExecuteTime": {
     "end_time": "2024-05-19T09:04:31.727713Z",
     "start_time": "2024-05-19T09:04:31.239079Z"
    }
   },
   "id": "e082f8f35dd3b70d"
  },
  {
   "cell_type": "code",
   "execution_count": 451,
   "outputs": [
    {
     "data": {
      "text/plain": "(6, 3, 96, 96)"
     },
     "execution_count": 451,
     "metadata": {},
     "output_type": "execute_result"
    }
   ],
   "source": [
    "# but sometimes like pytorch .. they want channel to be the second dimension\n",
    "einops.rearrange(x, \"b h w c -> b c h w\").shape"
   ],
   "metadata": {
    "collapsed": false,
    "ExecuteTime": {
     "end_time": "2024-05-19T09:04:31.727856Z",
     "start_time": "2024-05-19T09:04:31.245305Z"
    }
   },
   "id": "17c9a19f2420593"
  },
  {
   "cell_type": "code",
   "execution_count": 452,
   "outputs": [],
   "source": [
    "# Addition or removal of axis to squeeze or to unsqueeze 😅"
   ],
   "metadata": {
    "collapsed": false,
    "ExecuteTime": {
     "end_time": "2024-05-19T09:04:31.727896Z",
     "start_time": "2024-05-19T09:04:31.250577Z"
    }
   },
   "id": "3204662ddba64cb4"
  },
  {
   "cell_type": "code",
   "execution_count": 453,
   "outputs": [
    {
     "data": {
      "text/plain": "(6, 1, 96, 1, 96, 1, 3)"
     },
     "execution_count": 453,
     "metadata": {},
     "output_type": "execute_result"
    }
   ],
   "source": [
    "einops.rearrange(x,\"b h w c -> b 1 h 1 w 1 c\").shape # adding dimension before every feature"
   ],
   "metadata": {
    "collapsed": false,
    "ExecuteTime": {
     "end_time": "2024-05-19T09:04:31.727972Z",
     "start_time": "2024-05-19T09:04:31.254852Z"
    }
   },
   "id": "7d8e3bcd654ac7a4"
  },
  {
   "cell_type": "code",
   "execution_count": 454,
   "outputs": [
    {
     "data": {
      "text/plain": "",
      "image/png": "[encoded data removed]"
     },
     "execution_count": 454,
     "metadata": {},
     "output_type": "execute_result"
    }
   ],
   "source": [
    "einops.rearrange(ims, \"b h w c -> h (b w) c\")"
   ],
   "metadata": {
    "collapsed": false,
    "ExecuteTime": {
     "end_time": "2024-05-19T09:04:31.729637Z",
     "start_time": "2024-05-19T09:04:31.258821Z"
    }
   },
   "id": "aba30b86b1cb75de"
  },
  {
   "cell_type": "code",
   "execution_count": 455,
   "outputs": [
    {
     "name": "stdout",
     "output_type": "stream",
     "text": [
      "(6, 1, 1, 3)\n",
      "[[1.         0.90196078 0.90196078]\n",
      " [0.90196078 1.         0.90196078]\n",
      " [0.90196078 0.90196078 1.        ]\n",
      " [0.80392157 1.         1.        ]\n",
      " [1.         0.80392157 1.        ]\n",
      " [1.         1.         0.80392157]]\n"
     ]
    }
   ],
   "source": [
    "# now if i want to switch the foreground and the background color\n",
    "# this is a tough one..\n",
    "maxed = einops.reduce(ims,\"b h w c -> b () () c\",\"max\") # this obviously returns b , 1 , 1 ,c\n",
    "# that is the max value of each image in each channel\n",
    "# you want to see the colours gotten\n",
    "print(maxed.shape)\n",
    "colors = einops.rearrange(maxed, \"b 1 1 c -> b c\")\n",
    "print(colors) # the rgbs.."
   ],
   "metadata": {
    "collapsed": false,
    "ExecuteTime": {
     "end_time": "2024-05-19T09:04:31.730382Z",
     "start_time": "2024-05-19T09:04:31.267704Z"
    }
   },
   "id": "d46b88b57c1bde3a"
  },
  {
   "cell_type": "code",
   "execution_count": 456,
   "outputs": [
    {
     "data": {
      "text/plain": "",
      "image/png": "[encoded data removed]"
     },
     "execution_count": 456,
     "metadata": {},
     "output_type": "execute_result"
    }
   ],
   "source": [
    "# if we subtract maxed to the original we should get\n",
    "ans = maxed - ims\n",
    "einops.rearrange(ans,\"b h w c -> h (b w) c\")"
   ],
   "metadata": {
    "collapsed": false,
    "ExecuteTime": {
     "end_time": "2024-05-19T09:04:31.730551Z",
     "start_time": "2024-05-19T09:04:31.273108Z"
    }
   },
   "id": "17d1e895b6215e12"
  },
  {
   "cell_type": "code",
   "execution_count": 457,
   "outputs": [
    {
     "data": {
      "text/plain": "",
      "image/png": "[encoded data removed]"
     },
     "execution_count": 457,
     "metadata": {},
     "output_type": "execute_result"
    }
   ],
   "source": [
    "# repeat along (concat)\n",
    "einops.repeat(ims[0],\"h w c -> h (3 w) c\")"
   ],
   "metadata": {
    "collapsed": false,
    "ExecuteTime": {
     "end_time": "2024-05-19T09:04:31.730654Z",
     "start_time": "2024-05-19T09:04:31.283701Z"
    }
   },
   "id": "1bfdf8721d0fd501"
  },
  {
   "cell_type": "code",
   "execution_count": 458,
   "outputs": [
    {
     "data": {
      "text/plain": "",
      "image/png": "[encoded data removed]"
     },
     "execution_count": 458,
     "metadata": {},
     "output_type": "execute_result"
    }
   ],
   "source": [
    "# go menal\n",
    "einops.repeat(ims[0],\"h w c -> (2 h) (2 w) c\")"
   ],
   "metadata": {
    "collapsed": false,
    "ExecuteTime": {
     "end_time": "2024-05-19T09:04:31.730793Z",
     "start_time": "2024-05-19T09:04:31.290026Z"
    }
   },
   "id": "fc62a74774ef4e5f"
  },
  {
   "cell_type": "code",
   "execution_count": 459,
   "outputs": [
    {
     "data": {
      "text/plain": "",
      "image/png": "[encoded data removed]"
     },
     "execution_count": 459,
     "metadata": {},
     "output_type": "execute_result"
    }
   ],
   "source": [
    "# member.. order matters.. instead of repeating we can instead end up stretching\n",
    "# right multiplying factor in the output.. is stretching (use for upsampling)\n",
    "# left multiplying is repeating\n",
    "\n",
    "# left in the input is cropping\n",
    "# right in the input is also streching (downsampling)\n",
    "einops.repeat(ims[0],\"h w c -> h (w 4) c\")"
   ],
   "metadata": {
    "collapsed": false,
    "ExecuteTime": {
     "end_time": "2024-05-19T09:04:31.730897Z",
     "start_time": "2024-05-19T09:04:31.299179Z"
    }
   },
   "id": "6ec3d248d394aed0"
  },
  {
   "cell_type": "code",
   "execution_count": 460,
   "outputs": [
    {
     "data": {
      "text/plain": "True"
     },
     "execution_count": 460,
     "metadata": {},
     "output_type": "execute_result"
    }
   ],
   "source": [
    "# reduce and repeat are the same\n",
    "repeated = einops.repeat(ims, \"b h w c -> b 2 h w c\")\n",
    "reduced = einops.reduce(repeated, \"b 2 h w c -> b h w c\", \"min\") # here the reduciton method doesnt really matter all method produces the same\n",
    "np.array_equal(ims, reduced)"
   ],
   "metadata": {
    "collapsed": false,
    "ExecuteTime": {
     "end_time": "2024-05-19T09:04:31.731007Z",
     "start_time": "2024-05-19T09:04:31.305269Z"
    }
   },
   "id": "f75399e01fd021ee"
  },
  {
   "cell_type": "code",
   "execution_count": 461,
   "outputs": [
    {
     "data": {
      "text/plain": "",
      "image/png": "[encoded data removed]"
     },
     "execution_count": 461,
     "metadata": {},
     "output_type": "execute_result"
    }
   ],
   "source": [
    "einops.reduce(ims, 'b h (w 4) c -> (c h) (b w)', 'mean')"
   ],
   "metadata": {
    "collapsed": false,
    "ExecuteTime": {
     "end_time": "2024-05-19T09:04:31.731121Z",
     "start_time": "2024-05-19T09:04:31.312479Z"
    }
   },
   "id": "8b848ccb36044c2d"
  },
  {
   "cell_type": "code",
   "execution_count": 462,
   "outputs": [
    {
     "data": {
      "text/plain": "",
      "image/png": "[encoded data removed]"
     },
     "execution_count": 462,
     "metadata": {},
     "output_type": "execute_result"
    }
   ],
   "source": [
    "# h1 is 2 and is in the input. so height gets cropped in half.\n",
    "# and we see that in new row\n",
    "einops.reduce(ims, 'b (h1 h2) w c -> h2 (b w)', 'mean', h1=2) # h2 is inferred to 48"
   ],
   "metadata": {
    "collapsed": false,
    "ExecuteTime": {
     "end_time": "2024-05-19T09:04:31.731215Z",
     "start_time": "2024-05-19T09:04:31.318068Z"
    }
   },
   "id": "9b841bab4ace6224"
  },
  {
   "cell_type": "code",
   "execution_count": 463,
   "outputs": [],
   "source": [
    "## Tutorial 2\n",
    "# with deep learning framework\n",
    "import torch"
   ],
   "metadata": {
    "collapsed": false,
    "ExecuteTime": {
     "end_time": "2024-05-19T09:04:31.731282Z",
     "start_time": "2024-05-19T09:04:31.323974Z"
    }
   },
   "id": "a36e3caf9530d177"
  },
  {
   "cell_type": "code",
   "execution_count": 464,
   "outputs": [
    {
     "data": {
      "text/html": "<style>\n.einops-answer {\n    color: transparent;\n    padding: 5px 15px;\n    background-color: #def;\n}\n.einops-answer:hover { color: blue; }\n</style>\n<h4>Output is: <span class='einops-answer'>(10, 100, 32, 200)</span> (hover to see)</h4>"
     },
     "metadata": {},
     "output_type": "display_data"
    }
   ],
   "source": [
    "x = torch.randn(10,32,100,200)\n",
    "guess(\n",
    "    einops.rearrange(x,\"b h w c -> b w h c\").shape\n",
    ")"
   ],
   "metadata": {
    "collapsed": false,
    "ExecuteTime": {
     "end_time": "2024-05-19T09:04:31.732615Z",
     "start_time": "2024-05-19T09:04:31.327454Z"
    }
   },
   "id": "a14f9d32c33aa0e8"
  },
  {
   "cell_type": "code",
   "execution_count": 465,
   "outputs": [
    {
     "data": {
      "text/plain": "numpy.ndarray"
     },
     "execution_count": 465,
     "metadata": {},
     "output_type": "execute_result"
    }
   ],
   "source": [
    "type(ims)"
   ],
   "metadata": {
    "collapsed": false,
    "ExecuteTime": {
     "end_time": "2024-05-19T09:04:31.732709Z",
     "start_time": "2024-05-19T09:04:31.405821Z"
    }
   },
   "id": "c42defd7e1fd0c9b"
  },
  {
   "cell_type": "code",
   "execution_count": 465,
   "outputs": [],
   "source": [],
   "metadata": {
    "collapsed": false,
    "ExecuteTime": {
     "end_time": "2024-05-19T09:04:31.732751Z",
     "start_time": "2024-05-19T09:04:31.408300Z"
    }
   },
   "id": "119d0b6da3b363e7"
  }
 ],
 "metadata": {
  "kernelspec": {
   "display_name": "Python 3",
   "language": "python",
   "name": "python3"
  },
  "language_info": {
   "codemirror_mode": {
    "name": "ipython",
    "version": 2
   },
   "file_extension": ".py",
   "mimetype": "text/x-python",
   "name": "python",
   "nbconvert_exporter": "python",
   "pygments_lexer": "ipython2",
   "version": "2.7.6"
  }
 },
 "nbformat": 4,
 "nbformat_minor": 5
}
